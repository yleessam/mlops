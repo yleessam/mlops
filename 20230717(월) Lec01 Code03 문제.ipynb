{
  "cells": [
    {
      "cell_type": "markdown",
      "metadata": {
        "id": "WrIqpjEXZFej"
      },
      "source": [
        "## 연습문제\n",
        "\n",
        "밑에 출력된 값이 나와야합니다!\n"
      ]
    },
    {
      "cell_type": "markdown",
      "metadata": {
        "id": "K860qG7MZFel"
      },
      "source": [
        "### 파이썬 기초 문법 연습\n",
        "\n"
      ]
    },
    {
      "cell_type": "markdown",
      "metadata": {
        "id": "1Mdj46TaZFem"
      },
      "source": [
        "**다음을 파이썬 코드로 작성하세요.**\n",
        "\n",
        "\n",
        "1. 10 더하기 3\n",
        "2. 21 곱하기 3\n",
        "3. 357을 4로 나눈 값의 몫과 나머지\n",
        "4. 35의 3제곱\n"
      ]
    },
    {
      "cell_type": "code",
      "execution_count": null,
      "metadata": {
        "id": "V-X8Bc_cZFen",
        "outputId": "38aff22f-0a13-4322-9b1d-f9312d1e2d94"
      },
      "outputs": [
        {
          "data": {
            "text/plain": [
              "13"
            ]
          },
          "execution_count": 2,
          "metadata": {},
          "output_type": "execute_result"
        }
      ],
      "source": []
    },
    {
      "cell_type": "code",
      "execution_count": null,
      "metadata": {
        "id": "yhzPCxDyZFen",
        "outputId": "d11cf75a-1c64-462d-a2d2-83a293d9532b"
      },
      "outputs": [
        {
          "data": {
            "text/plain": [
              "63"
            ]
          },
          "execution_count": 3,
          "metadata": {},
          "output_type": "execute_result"
        }
      ],
      "source": []
    },
    {
      "cell_type": "code",
      "execution_count": null,
      "metadata": {
        "id": "ROA4EEHDZFeo",
        "outputId": "a9becbd4-05bf-4352-dad7-c5246da50dc7"
      },
      "outputs": [
        {
          "data": {
            "text/plain": [
              "89"
            ]
          },
          "execution_count": 6,
          "metadata": {},
          "output_type": "execute_result"
        }
      ],
      "source": []
    },
    {
      "cell_type": "code",
      "execution_count": null,
      "metadata": {
        "id": "3OacCTlbZFeo",
        "outputId": "e81cc2bb-77d7-4572-bbcb-dc77e9f33582"
      },
      "outputs": [
        {
          "data": {
            "text/plain": [
              "1"
            ]
          },
          "execution_count": 7,
          "metadata": {},
          "output_type": "execute_result"
        }
      ],
      "source": []
    },
    {
      "cell_type": "code",
      "execution_count": null,
      "metadata": {
        "id": "NzJSwru5ZFep",
        "outputId": "d8a52eaf-7b56-4877-fa3e-4394c134dcd9"
      },
      "outputs": [
        {
          "data": {
            "text/plain": [
              "42875"
            ]
          },
          "execution_count": 8,
          "metadata": {},
          "output_type": "execute_result"
        }
      ],
      "source": []
    },
    {
      "cell_type": "markdown",
      "metadata": {
        "id": "2AKBO4XWZFep"
      },
      "source": [
        "**다음을 파이썬 코드로 작성하세요.**\n",
        "\n",
        "1. 변수에 \"만나서 반갑습니다! 또 봅시다.\"를 저장하자.\n",
        "2. 저장한 변수를 느낌표를 기준으로 둘로 나누자.\n",
        "3. format을 이용해서 변수이름을 name으로 설정하고 자기 이름을 넣는 코드를 작성하자. 최종 출력: \"만나서 반갑습니다. 저는 name(변수) 입니다.\""
      ]
    },
    {
      "cell_type": "code",
      "execution_count": null,
      "metadata": {
        "id": "QBvC6ukKZFep"
      },
      "outputs": [],
      "source": [
        "# '만나서 반갑습니다! 또 봅시다.'"
      ]
    },
    {
      "cell_type": "code",
      "execution_count": null,
      "metadata": {
        "id": "aWqjMbLtZFeq",
        "outputId": "1cac0c65-de92-481c-db18-8148d9b255d0"
      },
      "outputs": [
        {
          "data": {
            "text/plain": [
              "['만나서 반갑습니다', ' 또 봅시다.']"
            ]
          },
          "execution_count": 10,
          "metadata": {},
          "output_type": "execute_result"
        }
      ],
      "source": []
    },
    {
      "cell_type": "code",
      "execution_count": null,
      "metadata": {
        "id": "OYbvaCOaZFeq",
        "outputId": "307960a2-eff5-40d0-9142-faab63d644aa"
      },
      "outputs": [
        {
          "name": "stdout",
          "output_type": "stream",
          "text": [
            "만나서 반갑습니다. 저는 이름 입니다.\n"
          ]
        }
      ],
      "source": []
    },
    {
      "cell_type": "markdown",
      "metadata": {
        "id": "lwLrqOnpZFeq"
      },
      "source": [
        "** 다음을 파이썬 코드로 작성하자. **\n",
        "\n",
        "우리학교 이메일은 다음과 같다.\n",
        "\n",
        "    아이디@uos.ac.kr\n",
        "    \n",
        "이때 학생들의 이메일 전체를 받았을때 아이디만을 얻는 함수를 만들어보자.\n",
        "ex) input :  hieveryone@uos.ac.kr output : hieveryone"
      ]
    },
    {
      "cell_type": "code",
      "execution_count": null,
      "metadata": {
        "id": "BWtPblzSZFeq"
      },
      "outputs": [],
      "source": [
        "def IDextract(email):\n",
        "    return ~~~"
      ]
    },
    {
      "cell_type": "code",
      "execution_count": null,
      "metadata": {
        "id": "S2erkrp3ZFer",
        "outputId": "31c77935-b42c-4b6d-abe5-dc7d699fb28d"
      },
      "outputs": [
        {
          "data": {
            "text/plain": [
              "'hi'"
            ]
          },
          "execution_count": 21,
          "metadata": {},
          "output_type": "execute_result"
        }
      ],
      "source": [
        "IDextract('hi@domain.com')"
      ]
    },
    {
      "cell_type": "markdown",
      "metadata": {
        "id": "GPx9tZ_rZFer"
      },
      "source": [
        "** 다음을 파이썬 코드로 작성하자. **\n",
        "\n",
        "어떤 문장을 input으로 받았을때, 알파벳 대소문자 관계없이 a가 몇번 나오는지 계산하는 함수를 만들어보자.\n",
        "\n",
        "\n",
        "ex) input :  'An apple' output : 2"
      ]
    },
    {
      "cell_type": "code",
      "execution_count": null,
      "metadata": {
        "id": "fA35iDVjZFes"
      },
      "outputs": [],
      "source": [
        "def countA(input):\n",
        "    return ~~~"
      ]
    },
    {
      "cell_type": "code",
      "execution_count": null,
      "metadata": {
        "id": "Kkxts405ZFes",
        "outputId": "a999017a-6d13-411f-8d40-76a63d17166a"
      },
      "outputs": [
        {
          "data": {
            "text/plain": [
              "6"
            ]
          },
          "execution_count": 27,
          "metadata": {},
          "output_type": "execute_result"
        }
      ],
      "source": [
        "countA('I bought a AAA battery in the apple store')"
      ]
    },
    {
      "cell_type": "markdown",
      "metadata": {
        "id": "3FptjbX_ZFes"
      },
      "source": [
        "### 마지막 문제!\n",
        "\n",
        "** 다음을 파이썬 코드로 작성하자. **\n",
        "\n",
        "당신은 신발을 사기 위해 백화점에 도착했다. 지금은 할인 기간이라서 당신이 원하는 사이즈가 없을 수 도 있다.\n",
        "\n",
        "하지만 할인이 30(%)이상이라면 당신이 원래 신던 사이즈보다 +-5까지도 불편함을 감수하고 신을 수 있다고 가정하자.\n",
        "\n",
        "이때 조건에 맞는 신발을 사는 함수를 만들어보자."
      ]
    },
    {
      "cell_type": "code",
      "execution_count": null,
      "metadata": {
        "id": "gGU-Cjv5ZFes"
      },
      "outputs": [],
      "source": [
        "# 신발사이즈 예시\n",
        "shoes_list = [230, 245, 250, 260, 270, 290]\n",
        "def buying_shoes(shoes_size, discount_rate):\n",
        "    \"\"\"\n",
        "    1) 할인율 0.3(30%) 이상이면 +-5 이내에서 불편함 감수\n",
        "    2) 할인율 0.3 미만이면, 정 사이즈만 신을 예정\n",
        "\n",
        "    신을 수 있는 신발이 있으면 buy\n",
        "    신을 수 있는 신발이 없으면 cannot buy\n",
        "    를 띄워주는 함수를 만들어보자\n",
        "    \"\"\""
      ]
    },
    {
      "cell_type": "code",
      "execution_count": null,
      "metadata": {
        "id": "8B1lBLK8ZFet",
        "outputId": "bd2611c3-f8c0-4daf-c3d5-9ff721de055a"
      },
      "outputs": [
        {
          "name": "stdout",
          "output_type": "stream",
          "text": [
            "buy\n"
          ]
        }
      ],
      "source": [
        "buying_shoes(260, 0.2)"
      ]
    }
  ],
  "metadata": {
    "kernelspec": {
      "display_name": "Python 3",
      "language": "python",
      "name": "python3"
    },
    "language_info": {
      "codemirror_mode": {
        "name": "ipython",
        "version": 3
      },
      "file_extension": ".py",
      "mimetype": "text/x-python",
      "name": "python",
      "nbconvert_exporter": "python",
      "pygments_lexer": "ipython3",
      "version": "3.8.5"
    },
    "colab": {
      "provenance": []
    }
  },
  "nbformat": 4,
  "nbformat_minor": 0
}