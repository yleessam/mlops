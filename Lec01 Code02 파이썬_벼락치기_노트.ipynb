{
  "nbformat": 4,
  "nbformat_minor": 0,
  "metadata": {
    "kernelspec": {
      "display_name": "Python 3",
      "language": "python",
      "name": "python3"
    },
    "language_info": {
      "codemirror_mode": {
        "name": "ipython",
        "version": 3
      },
      "file_extension": ".py",
      "mimetype": "text/x-python",
      "name": "python",
      "nbconvert_exporter": "python",
      "pygments_lexer": "ipython3",
      "version": "3.8.5"
    },
    "colab": {
      "provenance": []
    },
    "accelerator": "GPU",
    "gpuClass": "standard"
  },
  "cells": [
    {
      "cell_type": "markdown",
      "metadata": {
        "id": "JUrLeliHgNld"
      },
      "source": [
        "\n",
        "# 파이썬 벼락 치기 노트\n",
        "\n",
        "안녕하세요, 이 노트는 파이썬이나 일반적인 프로그래밍을 포괄적으로 다루지는 않습니다. 수업에 필수적으로 필요하다고 생각되는 파이썬만을 다루고 있습니다. 프로그래밍 경험을 더 쌓으시려면 다른 Open course 강의나 서적을 참고하여 공부해주시기 바랍니다.\n",
        "\n",
        "\n",
        "먼저 노트의 구성은 다음과 같습니다.\n",
        "\n",
        "1. 파이썬 기초 문법에 대해 알아봅니다.\n",
        "\n",
        "2. 조건문과 루프들에 대해 알아봅니다.\n",
        "\n",
        "3. 간단한 함수 만드는법과 다양한 파이썬 내장 함수\n"
      ]
    },
    {
      "cell_type": "markdown",
      "metadata": {
        "id": "1EjmrT_NgNlk"
      },
      "source": [
        "## 파이썬 기초 문법\n",
        "\n",
        "- 프린트하는법,리스트,사전,숫자형,문자형,불린형(참/거짓)등 파이썬 기초 문법에 대해 알아봅니다.\n",
        "\n"
      ]
    },
    {
      "cell_type": "markdown",
      "metadata": {
        "id": "aCreVkBdgNll"
      },
      "source": [
        "### 파이썬 기본 사칙 연산, 몫/나머지 구하는법"
      ]
    },
    {
      "cell_type": "code",
      "metadata": {
        "id": "QShXW3jMgNlm",
        "outputId": "0708193e-2658-40f0-e850-faefbc46461c",
        "colab": {
          "base_uri": "https://localhost:8080/"
        }
      },
      "source": [
        "print(10 + 1) # 답 : 11"
      ],
      "execution_count": null,
      "outputs": [
        {
          "output_type": "stream",
          "name": "stdout",
          "text": [
            "11\n"
          ]
        }
      ]
    },
    {
      "cell_type": "code",
      "metadata": {
        "id": "7EtQZwBfgNlo",
        "outputId": "7d2d0840-5d4f-43ce-8bdc-1f839d1382fd",
        "colab": {
          "base_uri": "https://localhost:8080/"
        }
      },
      "source": [
        "print(10 -1) # 답 : 9"
      ],
      "execution_count": null,
      "outputs": [
        {
          "output_type": "stream",
          "name": "stdout",
          "text": [
            "9\n"
          ]
        }
      ]
    },
    {
      "cell_type": "code",
      "metadata": {
        "id": "AOFqfAlDgNlp",
        "outputId": "3389a4fc-0515-49b4-9d2a-26a0fe7233e6",
        "colab": {
          "base_uri": "https://localhost:8080/"
        }
      },
      "source": [
        "print(10 * 3 )# 답 : 30"
      ],
      "execution_count": null,
      "outputs": [
        {
          "output_type": "stream",
          "name": "stdout",
          "text": [
            "30\n"
          ]
        }
      ]
    },
    {
      "cell_type": "code",
      "metadata": {
        "id": "eMBBXR67gNlq",
        "outputId": "100805d9-7356-4c1d-de9d-8c3c1a127d6f",
        "colab": {
          "base_uri": "https://localhost:8080/"
        }
      },
      "source": [
        "print(10 / 2) # 답 : 5"
      ],
      "execution_count": null,
      "outputs": [
        {
          "output_type": "stream",
          "name": "stdout",
          "text": [
            "5.0\n"
          ]
        }
      ]
    },
    {
      "cell_type": "code",
      "metadata": {
        "colab": {
          "base_uri": "https://localhost:8080/"
        },
        "id": "5ojnoBdcgNlr",
        "outputId": "0c955655-f9cc-4a80-b4f1-50ae3f91ccb3"
      },
      "source": [
        "print(10**2) # 10의 제곱 답 : 100"
      ],
      "execution_count": null,
      "outputs": [
        {
          "output_type": "stream",
          "name": "stdout",
          "text": [
            "100\n"
          ]
        }
      ]
    },
    {
      "cell_type": "code",
      "metadata": {
        "id": "eEgkpTWFgNls",
        "outputId": "00c857a2-9344-4f71-de39-ff38adb96f4b",
        "colab": {
          "base_uri": "https://localhost:8080/"
        }
      },
      "source": [
        "print(10 % 2) # 10을 2로 나누었을시의 나머지"
      ],
      "execution_count": null,
      "outputs": [
        {
          "output_type": "stream",
          "name": "stdout",
          "text": [
            "0\n"
          ]
        }
      ]
    },
    {
      "cell_type": "code",
      "metadata": {
        "id": "Cd5wSsBogNlu",
        "outputId": "fc22a4ca-1491-408b-b454-9f5f65509841",
        "colab": {
          "base_uri": "https://localhost:8080/"
        }
      },
      "source": [
        "print(10 % 3) # 10을 3로 나누었을시의 나머지"
      ],
      "execution_count": null,
      "outputs": [
        {
          "output_type": "stream",
          "name": "stdout",
          "text": [
            "1\n"
          ]
        }
      ]
    },
    {
      "cell_type": "code",
      "metadata": {
        "id": "5Ul0IEJ3gNlv",
        "outputId": "a8bd13db-8672-4f9e-87dd-0898b0e9e2d3",
        "colab": {
          "base_uri": "https://localhost:8080/"
        }
      },
      "source": [
        "print((1 + 2) * (2 + 4) + 11 )#파이썬은 기본 사칙연산 순서를 잘 따른다."
      ],
      "execution_count": null,
      "outputs": [
        {
          "output_type": "stream",
          "name": "stdout",
          "text": [
            "29\n"
          ]
        }
      ]
    },
    {
      "cell_type": "markdown",
      "metadata": {
        "id": "rz-MccO4gNlw"
      },
      "source": [
        "### 부울린(boolean)"
      ]
    },
    {
      "cell_type": "code",
      "source": [
        "True"
      ],
      "metadata": {
        "id": "HrPI3wK6HPC4"
      },
      "execution_count": null,
      "outputs": []
    },
    {
      "cell_type": "code",
      "metadata": {
        "colab": {
          "base_uri": "https://localhost:8080/"
        },
        "id": "S-PAhStZgNlw",
        "outputId": "bbb0f682-154d-4a61-8d4d-bcc7dcf424ce"
      },
      "source": [
        "True"
      ],
      "execution_count": null,
      "outputs": [
        {
          "output_type": "execute_result",
          "data": {
            "text/plain": [
              "True"
            ]
          },
          "metadata": {},
          "execution_count": 10
        }
      ]
    },
    {
      "cell_type": "code",
      "metadata": {
        "colab": {
          "base_uri": "https://localhost:8080/"
        },
        "id": "8B8pwrOUgNly",
        "outputId": "3fc04c34-9752-47e6-d255-fbbff267718b"
      },
      "source": [
        "False"
      ],
      "execution_count": null,
      "outputs": [
        {
          "output_type": "execute_result",
          "data": {
            "text/plain": [
              "False"
            ]
          },
          "metadata": {},
          "execution_count": 11
        }
      ]
    },
    {
      "cell_type": "code",
      "metadata": {
        "id": "LhdDY9DMgNly",
        "outputId": "32b0c002-13f0-4c40-8061-89173e13aefd",
        "colab": {
          "base_uri": "https://localhost:8080/"
        }
      },
      "source": [
        "not True"
      ],
      "execution_count": null,
      "outputs": [
        {
          "output_type": "execute_result",
          "data": {
            "text/plain": [
              "False"
            ]
          },
          "metadata": {},
          "execution_count": 12
        }
      ]
    },
    {
      "cell_type": "code",
      "metadata": {
        "id": "0nP7dgJogNlz",
        "outputId": "cdfdb253-0088-4076-cd74-154d377779f5",
        "colab": {
          "base_uri": "https://localhost:8080/"
        }
      },
      "source": [
        "not False"
      ],
      "execution_count": null,
      "outputs": [
        {
          "output_type": "execute_result",
          "data": {
            "text/plain": [
              "True"
            ]
          },
          "metadata": {},
          "execution_count": 13
        }
      ]
    },
    {
      "cell_type": "code",
      "metadata": {
        "id": "vWwNIcg1gNlz",
        "outputId": "6955696a-a258-4bdc-9984-4fe6200334a5",
        "colab": {
          "base_uri": "https://localhost:8080/"
        }
      },
      "source": [
        "1 in [1,2,3]"
      ],
      "execution_count": null,
      "outputs": [
        {
          "output_type": "execute_result",
          "data": {
            "text/plain": [
              "True"
            ]
          },
          "metadata": {},
          "execution_count": 14
        }
      ]
    },
    {
      "cell_type": "code",
      "metadata": {
        "id": "BzoDDBrzgNl0",
        "outputId": "b76e7ef4-29ce-4b9a-f82d-f72b6226129c",
        "colab": {
          "base_uri": "https://localhost:8080/"
        }
      },
      "source": [
        "4 in [1,2,3]"
      ],
      "execution_count": null,
      "outputs": [
        {
          "output_type": "execute_result",
          "data": {
            "text/plain": [
              "False"
            ]
          },
          "metadata": {},
          "execution_count": 15
        }
      ]
    },
    {
      "cell_type": "markdown",
      "metadata": {
        "id": "LRj5JcDhgNl0"
      },
      "source": [
        "### 비교 연산자"
      ]
    },
    {
      "cell_type": "code",
      "metadata": {
        "id": "XGqyT5edgNl0",
        "outputId": "27ce6e7b-9c7d-4b64-c15a-52dacd771553",
        "colab": {
          "base_uri": "https://localhost:8080/"
        }
      },
      "source": [
        "1 < 2"
      ],
      "execution_count": null,
      "outputs": [
        {
          "output_type": "execute_result",
          "data": {
            "text/plain": [
              "True"
            ]
          },
          "metadata": {},
          "execution_count": 16
        }
      ]
    },
    {
      "cell_type": "code",
      "metadata": {
        "id": "ITb2ko42gNl1",
        "outputId": "5288c8ea-2f88-4c10-a223-7f6bd630e83d",
        "colab": {
          "base_uri": "https://localhost:8080/"
        }
      },
      "source": [
        "1 > 2"
      ],
      "execution_count": null,
      "outputs": [
        {
          "output_type": "execute_result",
          "data": {
            "text/plain": [
              "False"
            ]
          },
          "metadata": {},
          "execution_count": 17
        }
      ]
    },
    {
      "cell_type": "code",
      "metadata": {
        "id": "-HlABL1ZgNl2",
        "outputId": "8cd3a3d1-5feb-4811-f5e9-d1927a9564e2",
        "colab": {
          "base_uri": "https://localhost:8080/"
        }
      },
      "source": [
        "1 == 1"
      ],
      "execution_count": null,
      "outputs": [
        {
          "output_type": "execute_result",
          "data": {
            "text/plain": [
              "True"
            ]
          },
          "metadata": {},
          "execution_count": 18
        }
      ]
    },
    {
      "cell_type": "code",
      "source": [
        "1 != 1"
      ],
      "metadata": {
        "colab": {
          "base_uri": "https://localhost:8080/"
        },
        "id": "tqQj87KnHtSQ",
        "outputId": "43888176-7dd1-44db-9018-cf3a6bb06d09"
      },
      "execution_count": null,
      "outputs": [
        {
          "output_type": "execute_result",
          "data": {
            "text/plain": [
              "False"
            ]
          },
          "metadata": {},
          "execution_count": 1
        }
      ]
    },
    {
      "cell_type": "code",
      "metadata": {
        "id": "Yrum23KqgNl2",
        "outputId": "e919922f-522b-4844-e2aa-5f9438a64d92",
        "colab": {
          "base_uri": "https://localhost:8080/"
        }
      },
      "source": [
        "1 == 2"
      ],
      "execution_count": null,
      "outputs": [
        {
          "output_type": "execute_result",
          "data": {
            "text/plain": [
              "False"
            ]
          },
          "metadata": {},
          "execution_count": 19
        }
      ]
    },
    {
      "cell_type": "code",
      "metadata": {
        "id": "3LafhSRIgNl2",
        "outputId": "64252056-62e8-4dce-e389-7008f3dbeafc",
        "colab": {
          "base_uri": "https://localhost:8080/"
        }
      },
      "source": [
        "1 >= 1"
      ],
      "execution_count": null,
      "outputs": [
        {
          "output_type": "execute_result",
          "data": {
            "text/plain": [
              "True"
            ]
          },
          "metadata": {},
          "execution_count": 20
        }
      ]
    },
    {
      "cell_type": "code",
      "metadata": {
        "id": "ZolO9DXOgNl3",
        "outputId": "432683eb-7beb-4a89-ca20-c555a524138e",
        "colab": {
          "base_uri": "https://localhost:8080/"
        }
      },
      "source": [
        "'나' == '너'"
      ],
      "execution_count": null,
      "outputs": [
        {
          "output_type": "execute_result",
          "data": {
            "text/plain": [
              "False"
            ]
          },
          "metadata": {},
          "execution_count": 22
        }
      ]
    },
    {
      "cell_type": "code",
      "metadata": {
        "id": "nF5SDOtdgNl3"
      },
      "source": [
        "name = '이름'"
      ],
      "execution_count": null,
      "outputs": []
    },
    {
      "cell_type": "code",
      "metadata": {
        "id": "GrmLEuLIgNl3",
        "outputId": "a165a1d0-a08a-4f9d-9bb7-2e4218237b5a",
        "colab": {
          "base_uri": "https://localhost:8080/"
        }
      },
      "source": [
        "'이름' == name"
      ],
      "execution_count": null,
      "outputs": [
        {
          "output_type": "execute_result",
          "data": {
            "text/plain": [
              "True"
            ]
          },
          "metadata": {},
          "execution_count": 24
        }
      ]
    },
    {
      "cell_type": "code",
      "metadata": {
        "id": "g6xqRbt7gNl4",
        "outputId": "078cca2e-c3f8-4c46-95d3-079fa3ea542e",
        "colab": {
          "base_uri": "https://localhost:8080/"
        }
      },
      "source": [
        "(1>2) and (3>2) # and 앞뒤로 둘 다 true 여야만 true"
      ],
      "execution_count": null,
      "outputs": [
        {
          "output_type": "execute_result",
          "data": {
            "text/plain": [
              "False"
            ]
          },
          "metadata": {},
          "execution_count": 25
        }
      ]
    },
    {
      "cell_type": "code",
      "metadata": {
        "id": "xyaRIXCQgNl4",
        "outputId": "cf45d14d-43b7-43a6-baab-66384d99ca1f",
        "colab": {
          "base_uri": "https://localhost:8080/"
        }
      },
      "source": [
        "(1<2) and (3>2)"
      ],
      "execution_count": null,
      "outputs": [
        {
          "output_type": "execute_result",
          "data": {
            "text/plain": [
              "True"
            ]
          },
          "metadata": {},
          "execution_count": 26
        }
      ]
    },
    {
      "cell_type": "code",
      "metadata": {
        "id": "Od09n-PrgNl4",
        "outputId": "3b940d23-5090-4405-9b73-082d7c9bd68a",
        "colab": {
          "base_uri": "https://localhost:8080/"
        }
      },
      "source": [
        "(1>2) or (3>2) # 둘중하나 이상만 true 면 true"
      ],
      "execution_count": null,
      "outputs": [
        {
          "output_type": "execute_result",
          "data": {
            "text/plain": [
              "True"
            ]
          },
          "metadata": {},
          "execution_count": 27
        }
      ]
    },
    {
      "cell_type": "code",
      "metadata": {
        "id": "SSRQJ6CCgNl4",
        "outputId": "57c3ec18-1788-4ff3-9e7b-7b8f67ea3276",
        "colab": {
          "base_uri": "https://localhost:8080/"
        }
      },
      "source": [
        "(1==2) and (3<2) # 둘다 false 여야만 false"
      ],
      "execution_count": null,
      "outputs": [
        {
          "output_type": "execute_result",
          "data": {
            "text/plain": [
              "False"
            ]
          },
          "metadata": {},
          "execution_count": 28
        }
      ]
    },
    {
      "cell_type": "markdown",
      "metadata": {
        "id": "4LMmYppLgNl5"
      },
      "source": [
        "### 변수 할당\n",
        "\n",
        "- 파이썬에서는 '=' 을 통해 변수를 할당할 수 있는데 이때 변수로 할당하려는 문자의 첫 글자는 숫자여서는 안되고 이미 파이썬에 내장된 예약어(for , and while ...)등도 사용할 수 없다..\n"
      ]
    },
    {
      "cell_type": "code",
      "source": [
        "1x= 10"
      ],
      "metadata": {
        "colab": {
          "base_uri": "https://localhost:8080/",
          "height": 136
        },
        "id": "_5gTB8T9IYbg",
        "outputId": "ed503e1e-68f6-4ab1-d387-a5be76d20c98"
      },
      "execution_count": null,
      "outputs": [
        {
          "output_type": "error",
          "ename": "SyntaxError",
          "evalue": "ignored",
          "traceback": [
            "\u001b[0;36m  File \u001b[0;32m\"<ipython-input-2-20db41ffb02a>\"\u001b[0;36m, line \u001b[0;32m1\u001b[0m\n\u001b[0;31m    1x= 10\u001b[0m\n\u001b[0m     ^\u001b[0m\n\u001b[0;31mSyntaxError\u001b[0m\u001b[0;31m:\u001b[0m invalid syntax\n"
          ]
        }
      ]
    },
    {
      "cell_type": "code",
      "metadata": {
        "id": "dqExUQj4gNl5",
        "outputId": "7062eb4a-62c6-4995-ed83-f3d21d98adc0",
        "colab": {
          "base_uri": "https://localhost:8080/"
        }
      },
      "source": [
        "x = 10\n",
        "y = 20\n",
        "x+y"
      ],
      "execution_count": null,
      "outputs": [
        {
          "output_type": "execute_result",
          "data": {
            "text/plain": [
              "30"
            ]
          },
          "metadata": {},
          "execution_count": 29
        }
      ]
    },
    {
      "cell_type": "code",
      "metadata": {
        "id": "IEZ9-0c1gNl5",
        "outputId": "dc7feba7-e48c-44e0-d539-d5e80ae91e35",
        "colab": {
          "base_uri": "https://localhost:8080/"
        }
      },
      "source": [
        "z = x + y\n",
        "z"
      ],
      "execution_count": null,
      "outputs": [
        {
          "output_type": "execute_result",
          "data": {
            "text/plain": [
              "30"
            ]
          },
          "metadata": {},
          "execution_count": 30
        }
      ]
    },
    {
      "cell_type": "code",
      "metadata": {
        "id": "0QbBXQXrgNl6",
        "colab": {
          "base_uri": "https://localhost:8080/",
          "height": 133
        },
        "outputId": "98f62028-45e5-4945-f247-1b66deeeb962"
      },
      "source": [
        "1x=10 # 숫자로 정했을 시 에러"
      ],
      "execution_count": null,
      "outputs": [
        {
          "output_type": "error",
          "ename": "SyntaxError",
          "evalue": "ignored",
          "traceback": [
            "\u001b[0;36m  File \u001b[0;32m\"<ipython-input-33-6a99a6762c34>\"\u001b[0;36m, line \u001b[0;32m1\u001b[0m\n\u001b[0;31m    1x=10 # 숫자로 정했을 시 에러\u001b[0m\n\u001b[0m     ^\u001b[0m\n\u001b[0;31mSyntaxError\u001b[0m\u001b[0;31m:\u001b[0m invalid syntax\n"
          ]
        }
      ]
    },
    {
      "cell_type": "code",
      "metadata": {
        "id": "Tl__H6e-gNl6",
        "colab": {
          "base_uri": "https://localhost:8080/",
          "height": 136
        },
        "outputId": "84329f79-c22a-4d7c-e846-3955e99d7d3c"
      },
      "source": [
        "and = 10 # 예약어로 정했을 시 에러"
      ],
      "execution_count": null,
      "outputs": [
        {
          "output_type": "error",
          "ename": "SyntaxError",
          "evalue": "ignored",
          "traceback": [
            "\u001b[0;36m  File \u001b[0;32m\"<ipython-input-4-aa309b72df18>\"\u001b[0;36m, line \u001b[0;32m1\u001b[0m\n\u001b[0;31m    and = 10 # 예약어로 정했을 시 에러\u001b[0m\n\u001b[0m    ^\u001b[0m\n\u001b[0;31mSyntaxError\u001b[0m\u001b[0;31m:\u001b[0m invalid syntax\n"
          ]
        }
      ]
    },
    {
      "cell_type": "markdown",
      "source": [],
      "metadata": {
        "id": "fXa7_K8aK-Gk"
      }
    },
    {
      "cell_type": "markdown",
      "metadata": {
        "id": "078TVYkwgNl6"
      },
      "source": [
        "### 문자열\n",
        "\n",
        "- '' , \"\" 을 사용하여 문자열을 만들 수 있다. 이때 문자열 안에 '',\"\" 을 사용할시에는 \\를 추가해준다.\n"
      ]
    },
    {
      "cell_type": "code",
      "metadata": {
        "id": "LOKyztxWgNl6",
        "outputId": "46db9559-ec54-4e6c-db5a-fb891947a51a"
      },
      "source": [
        "print('안녕하세요')"
      ],
      "execution_count": null,
      "outputs": [
        {
          "output_type": "stream",
          "text": [
            "안녕하세요\n"
          ],
          "name": "stdout"
        }
      ]
    },
    {
      "cell_type": "code",
      "metadata": {
        "id": "TivFVRM8gNl7",
        "outputId": "b9b76aa5-c451-48df-ccc5-35e3d47eef89"
      },
      "source": [
        "print(\"안녕하세요\")"
      ],
      "execution_count": null,
      "outputs": [
        {
          "output_type": "stream",
          "text": [
            "안녕하세요\n"
          ],
          "name": "stdout"
        }
      ]
    },
    {
      "cell_type": "code",
      "metadata": {
        "id": "MyUxqmEcgNl7",
        "outputId": "03fedf95-49da-43f2-9d07-8b9bf1999862"
      },
      "source": [
        "print(\"'사용법1'\",'\"사용법1\"')"
      ],
      "execution_count": null,
      "outputs": [
        {
          "output_type": "stream",
          "text": [
            "'사용법1' \"사용법1\"\n"
          ],
          "name": "stdout"
        }
      ]
    },
    {
      "cell_type": "code",
      "metadata": {
        "id": "jkf34LwLgNl7",
        "outputId": "998bbafa-832e-42cf-d824-171115fc703a"
      },
      "source": [
        "print('\\'사용법2\\'', \"\\\"사용법2\\\"\")"
      ],
      "execution_count": null,
      "outputs": [
        {
          "output_type": "stream",
          "text": [
            "'사용법2' \"사용법2\"\n"
          ],
          "name": "stdout"
        }
      ]
    },
    {
      "cell_type": "code",
      "metadata": {
        "id": "ubjJ8jjOgNl8",
        "outputId": "dc99b6dc-0e1a-4777-fcf6-924f93baa2ae",
        "colab": {
          "base_uri": "https://localhost:8080/"
        }
      },
      "source": [
        "print(\n",
        "    'format 사용법: {}'.format(\n",
        "        \"이렇게.format을 쓰면 {}안에 넣어준다!\"\n",
        "    )\n",
        ")"
      ],
      "execution_count": null,
      "outputs": [
        {
          "output_type": "stream",
          "name": "stdout",
          "text": [
            "format 사용법: 이렇게.format을 쓰면 {}안에 넣어준다!\n"
          ]
        }
      ]
    },
    {
      "cell_type": "code",
      "metadata": {
        "id": "GoWIArdqgNl8",
        "outputId": "c66da9cd-38cc-4155-ec6d-96af7e93ef34",
        "colab": {
          "base_uri": "https://localhost:8080/"
        }
      },
      "source": [
        "print('format 사용법2: {} {}'.format(\"이렇게.format을 쓰면\", \" 순서대로{}안에 넣어준다\"))\n"
      ],
      "execution_count": null,
      "outputs": [
        {
          "output_type": "stream",
          "name": "stdout",
          "text": [
            "format 사용법2: 이렇게.format을 쓰면  순서대로{}안에 넣어준다\n"
          ]
        }
      ]
    },
    {
      "cell_type": "code",
      "metadata": {
        "colab": {
          "base_uri": "https://localhost:8080/"
        },
        "id": "xY_KJQUmgNl8",
        "outputId": "1a788b08-9286-4580-d954-4177e36c5c6c"
      },
      "source": [
        "print('format 사용법3 변수 이용: {b} {a} {a}'.format(b =\"이렇게.format을 쓰면\", a=\" 변수에 맞게 {}안에 넣어준다\"))"
      ],
      "execution_count": null,
      "outputs": [
        {
          "output_type": "stream",
          "name": "stdout",
          "text": [
            "format 사용법3 변수 이용: 이렇게.format을 쓰면  변수에 맞게 {}안에 넣어준다  변수에 맞게 {}안에 넣어준다\n"
          ]
        }
      ]
    },
    {
      "cell_type": "code",
      "metadata": {
        "colab": {
          "base_uri": "https://localhost:8080/"
        },
        "id": "4O8dzeFAgNl8",
        "outputId": "dec9a845-8f52-45a9-fe59-ae0a25ccdacf"
      },
      "source": [
        "string = 'A B C ,abc'\n",
        "string.split()\n"
      ],
      "execution_count": null,
      "outputs": [
        {
          "output_type": "execute_result",
          "data": {
            "text/plain": [
              "['A', 'B', 'C', ',abc']"
            ]
          },
          "metadata": {
            "tags": []
          },
          "execution_count": 15
        }
      ]
    },
    {
      "cell_type": "code",
      "metadata": {
        "id": "MJrD_DLngNl9",
        "outputId": "da3f162d-dd55-4e99-932c-32adffc90810"
      },
      "source": [
        "string.split(',')"
      ],
      "execution_count": null,
      "outputs": [
        {
          "output_type": "execute_result",
          "data": {
            "text/plain": [
              "['A B C ', 'abc']"
            ]
          },
          "metadata": {
            "tags": []
          },
          "execution_count": 135
        }
      ]
    },
    {
      "cell_type": "code",
      "metadata": {
        "id": "k6idqB13gNl9",
        "outputId": "6d80229e-ee27-4074-828f-dbf88ddf0844"
      },
      "source": [
        "string.lower()#영어를 쓸경우 다음과 같은 함수를 사용할 수 있음을 알아두자."
      ],
      "execution_count": null,
      "outputs": [
        {
          "output_type": "execute_result",
          "data": {
            "text/plain": [
              "'a b c ,abc'"
            ]
          },
          "metadata": {
            "tags": []
          },
          "execution_count": 133
        }
      ]
    },
    {
      "cell_type": "code",
      "metadata": {
        "id": "TPCikgKagNl9",
        "outputId": "4fc1add9-e4a2-4784-8c7c-39c350de5351"
      },
      "source": [
        "string.upper()"
      ],
      "execution_count": null,
      "outputs": [
        {
          "output_type": "execute_result",
          "data": {
            "text/plain": [
              "'A B C ,ABC'"
            ]
          },
          "metadata": {
            "tags": []
          },
          "execution_count": 134
        }
      ]
    },
    {
      "cell_type": "markdown",
      "metadata": {
        "id": "MUa0SWvAgNl9"
      },
      "source": [
        "### 파이썬 리스트\n",
        "- 리스트 안에는 숫자,문자열,리스트 등 다양한것들을 넣을 수 있다."
      ]
    },
    {
      "cell_type": "code",
      "metadata": {
        "id": "aIi1BIK2gNl-"
      },
      "source": [
        "first_list = ['내','이름','은']"
      ],
      "execution_count": null,
      "outputs": []
    },
    {
      "cell_type": "code",
      "metadata": {
        "id": "CHRHMCahgNl-"
      },
      "source": [
        "first_list.append('비밀') # list 마지막에 추가해 줄 때는 append를 이용한다."
      ],
      "execution_count": null,
      "outputs": []
    },
    {
      "cell_type": "code",
      "metadata": {
        "colab": {
          "base_uri": "https://localhost:8080/"
        },
        "id": "YyqNitQlgNl-",
        "outputId": "0985cda9-4131-46ec-f5fa-371c32bf63df"
      },
      "source": [
        "first_list"
      ],
      "execution_count": null,
      "outputs": [
        {
          "output_type": "execute_result",
          "data": {
            "text/plain": [
              "['내', '이름', '은', '비밀']"
            ]
          },
          "metadata": {},
          "execution_count": 9
        }
      ]
    },
    {
      "cell_type": "code",
      "metadata": {
        "id": "O219Gy9xgNl-",
        "outputId": "2d193e75-5cb4-4579-bf5e-e906239e82bb",
        "colab": {
          "base_uri": "https://localhost:8080/",
          "height": 35
        }
      },
      "source": [
        "first_list[0]"
      ],
      "execution_count": null,
      "outputs": [
        {
          "output_type": "execute_result",
          "data": {
            "text/plain": [
              "'내'"
            ],
            "application/vnd.google.colaboratory.intrinsic+json": {
              "type": "string"
            }
          },
          "metadata": {},
          "execution_count": 10
        }
      ]
    },
    {
      "cell_type": "code",
      "metadata": {
        "id": "rKYWm_cRgNl-",
        "outputId": "c1f1ffeb-7aab-4f69-802b-af3dcae8e7fe",
        "colab": {
          "base_uri": "https://localhost:8080/",
          "height": 35
        }
      },
      "source": [
        "first_list[1]"
      ],
      "execution_count": null,
      "outputs": [
        {
          "output_type": "execute_result",
          "data": {
            "text/plain": [
              "'이름'"
            ],
            "application/vnd.google.colaboratory.intrinsic+json": {
              "type": "string"
            }
          },
          "metadata": {},
          "execution_count": 11
        }
      ]
    },
    {
      "cell_type": "code",
      "metadata": {
        "id": "ZlxBE1JVgNl_",
        "outputId": "bd9cbd68-4f1f-48a0-a729-f71ff3f309bf",
        "colab": {
          "base_uri": "https://localhost:8080/"
        }
      },
      "source": [
        "first_list[1:]"
      ],
      "execution_count": null,
      "outputs": [
        {
          "output_type": "execute_result",
          "data": {
            "text/plain": [
              "['이름', '은', '비밀']"
            ]
          },
          "metadata": {},
          "execution_count": 12
        }
      ]
    },
    {
      "cell_type": "code",
      "metadata": {
        "id": "SDkiaYjXgNl_",
        "outputId": "bc219561-da5c-43c2-857f-cfc2d02d5682",
        "colab": {
          "base_uri": "https://localhost:8080/"
        }
      },
      "source": [
        "first_list[:1]"
      ],
      "execution_count": null,
      "outputs": [
        {
          "output_type": "execute_result",
          "data": {
            "text/plain": [
              "['내']"
            ]
          },
          "metadata": {},
          "execution_count": 13
        }
      ]
    },
    {
      "cell_type": "code",
      "metadata": {
        "id": "juAHbvtegNl_"
      },
      "source": [
        "first_list[0] = '너'"
      ],
      "execution_count": null,
      "outputs": []
    },
    {
      "cell_type": "code",
      "metadata": {
        "id": "XL-KhnozgNl_",
        "outputId": "61c38dea-7de5-4c2d-b0fd-1b799b809a2f",
        "colab": {
          "base_uri": "https://localhost:8080/"
        }
      },
      "source": [
        "first_list"
      ],
      "execution_count": null,
      "outputs": [
        {
          "output_type": "execute_result",
          "data": {
            "text/plain": [
              "['너', '이름', '은']"
            ]
          },
          "metadata": {},
          "execution_count": 18
        }
      ]
    },
    {
      "cell_type": "code",
      "metadata": {
        "id": "Mjkxo2o4gNl_"
      },
      "source": [
        "a = first_list.pop() # 리스트 맨 뒤 요소를 제거함"
      ],
      "execution_count": null,
      "outputs": []
    },
    {
      "cell_type": "code",
      "metadata": {
        "colab": {
          "base_uri": "https://localhost:8080/",
          "height": 35
        },
        "id": "sfYSVv2ckj1L",
        "outputId": "55c0a73f-64b0-4052-e845-0db803cfb286"
      },
      "source": [
        "a"
      ],
      "execution_count": null,
      "outputs": [
        {
          "output_type": "execute_result",
          "data": {
            "text/plain": [
              "'은'"
            ],
            "application/vnd.google.colaboratory.intrinsic+json": {
              "type": "string"
            }
          },
          "metadata": {},
          "execution_count": 20
        }
      ]
    },
    {
      "cell_type": "code",
      "metadata": {
        "colab": {
          "base_uri": "https://localhost:8080/"
        },
        "id": "u0Mxg-wkgNmA",
        "outputId": "689c5ef0-1e55-4fe2-82d0-2c8b979baca2"
      },
      "source": [
        "first_list"
      ],
      "execution_count": null,
      "outputs": [
        {
          "output_type": "execute_result",
          "data": {
            "text/plain": [
              "['너', '이름']"
            ]
          },
          "metadata": {},
          "execution_count": 21
        }
      ]
    },
    {
      "cell_type": "code",
      "metadata": {
        "id": "46IYBpo4gNmA"
      },
      "source": [
        "list_in_list = [1,2,3,[4,5,['list']]]"
      ],
      "execution_count": null,
      "outputs": []
    },
    {
      "cell_type": "code",
      "metadata": {
        "id": "_7BXi00EgNmA",
        "outputId": "50b7fbb2-9108-4587-86cb-134b12fc69c4",
        "colab": {
          "base_uri": "https://localhost:8080/"
        }
      },
      "source": [
        "list_in_list[3]"
      ],
      "execution_count": null,
      "outputs": [
        {
          "output_type": "execute_result",
          "data": {
            "text/plain": [
              "[4, 5, ['list']]"
            ]
          },
          "metadata": {},
          "execution_count": 53
        }
      ]
    },
    {
      "cell_type": "code",
      "metadata": {
        "id": "Roqnl7UJgNmB",
        "outputId": "244c5cbf-3472-4da2-b8de-e6fdd51c99a1",
        "colab": {
          "base_uri": "https://localhost:8080/"
        }
      },
      "source": [
        "list_in_list[3][2]"
      ],
      "execution_count": null,
      "outputs": [
        {
          "output_type": "execute_result",
          "data": {
            "text/plain": [
              "['list']"
            ]
          },
          "metadata": {},
          "execution_count": 54
        }
      ]
    },
    {
      "cell_type": "code",
      "metadata": {
        "id": "ycf9y68SgNmB",
        "outputId": "03e366d5-bce9-4472-f876-cde8952f27d2",
        "colab": {
          "base_uri": "https://localhost:8080/",
          "height": 35
        }
      },
      "source": [
        "list_in_list[3][2][0]"
      ],
      "execution_count": null,
      "outputs": [
        {
          "output_type": "execute_result",
          "data": {
            "text/plain": [
              "'list'"
            ],
            "application/vnd.google.colaboratory.intrinsic+json": {
              "type": "string"
            }
          },
          "metadata": {},
          "execution_count": 55
        }
      ]
    },
    {
      "cell_type": "markdown",
      "metadata": {
        "id": "72VJCr1ugNmB"
      },
      "source": [
        "### 사전"
      ]
    },
    {
      "cell_type": "code",
      "metadata": {
        "id": "Vgr4nWXMgNmB"
      },
      "source": [
        "first_dictionary = {'키1':'value1','키2':'value2'}"
      ],
      "execution_count": null,
      "outputs": []
    },
    {
      "cell_type": "code",
      "metadata": {
        "colab": {
          "base_uri": "https://localhost:8080/"
        },
        "id": "Yvzb-5iLgNmB",
        "outputId": "22dbda2a-72e8-48bc-997e-2de778d1deb4"
      },
      "source": [
        "first_dictionary"
      ],
      "execution_count": null,
      "outputs": [
        {
          "output_type": "execute_result",
          "data": {
            "text/plain": [
              "{'키1': 'value1', '키2': 'value2'}"
            ]
          },
          "metadata": {},
          "execution_count": 28
        }
      ]
    },
    {
      "cell_type": "code",
      "metadata": {
        "id": "vTZycwATgNmC",
        "outputId": "bda2540a-b937-4fc8-9bcd-70814ef3ebc6",
        "colab": {
          "base_uri": "https://localhost:8080/",
          "height": 35
        }
      },
      "source": [
        "first_dictionary['키1']"
      ],
      "execution_count": null,
      "outputs": [
        {
          "output_type": "execute_result",
          "data": {
            "text/plain": [
              "'value1'"
            ],
            "application/vnd.google.colaboratory.intrinsic+json": {
              "type": "string"
            }
          },
          "metadata": {},
          "execution_count": 24
        }
      ]
    },
    {
      "cell_type": "code",
      "metadata": {
        "colab": {
          "base_uri": "https://localhost:8080/"
        },
        "id": "wEmze1HcgNmC",
        "outputId": "4a1800b6-f9cc-4564-cb67-abd8c3f5c1a2"
      },
      "source": [
        "first_dictionary.keys()"
      ],
      "execution_count": null,
      "outputs": [
        {
          "output_type": "execute_result",
          "data": {
            "text/plain": [
              "dict_keys(['키1', '키2'])"
            ]
          },
          "metadata": {},
          "execution_count": 25
        }
      ]
    },
    {
      "cell_type": "code",
      "source": [
        "list(first_dictionary.keys())"
      ],
      "metadata": {
        "colab": {
          "base_uri": "https://localhost:8080/"
        },
        "id": "Fkqnb3HaMYAL",
        "outputId": "9eecf043-1bee-4327-ec34-5ad3ab9023e0"
      },
      "execution_count": null,
      "outputs": [
        {
          "output_type": "execute_result",
          "data": {
            "text/plain": [
              "['키1', '키2']"
            ]
          },
          "metadata": {},
          "execution_count": 26
        }
      ]
    },
    {
      "cell_type": "code",
      "metadata": {
        "colab": {
          "base_uri": "https://localhost:8080/"
        },
        "id": "S-c5_4MCgNmC",
        "outputId": "7a8a7627-9e50-4093-83b9-234fb625c59a"
      },
      "source": [
        "first_dictionary.values()"
      ],
      "execution_count": null,
      "outputs": [
        {
          "output_type": "execute_result",
          "data": {
            "text/plain": [
              "dict_values(['value1', 'value2'])"
            ]
          },
          "metadata": {
            "tags": []
          },
          "execution_count": 26
        }
      ]
    },
    {
      "cell_type": "code",
      "metadata": {
        "colab": {
          "base_uri": "https://localhost:8080/"
        },
        "id": "0luZJE7IgNmC",
        "outputId": "f2382036-20d4-44b9-b848-c58d59fe21a1"
      },
      "source": [
        "first_dictionary.items()"
      ],
      "execution_count": null,
      "outputs": [
        {
          "output_type": "execute_result",
          "data": {
            "text/plain": [
              "dict_items([('키1', 'value1'), ('키2', 'value2')])"
            ]
          },
          "metadata": {
            "tags": []
          },
          "execution_count": 27
        }
      ]
    },
    {
      "cell_type": "code",
      "metadata": {
        "colab": {
          "base_uri": "https://localhost:8080/"
        },
        "id": "QrvM8dWTlXX5",
        "outputId": "52c97431-da5c-420d-a7de-76d8b68af556"
      },
      "source": [
        "for key, value in first_dictionary.items():\n",
        "    print(key, value)"
      ],
      "execution_count": null,
      "outputs": [
        {
          "output_type": "stream",
          "name": "stdout",
          "text": [
            "키1 value1\n",
            "키2 value2\n"
          ]
        }
      ]
    },
    {
      "cell_type": "markdown",
      "metadata": {
        "id": "ajNkNkwTgNmC"
      },
      "source": [
        "### 튜플"
      ]
    },
    {
      "cell_type": "code",
      "metadata": {
        "id": "U13OknGvgNmD"
      },
      "source": [
        "first_tuple = (1,2,3)"
      ],
      "execution_count": null,
      "outputs": []
    },
    {
      "cell_type": "code",
      "metadata": {
        "id": "OsnD0pz6gNmD",
        "outputId": "0799d143-e441-407c-cdc6-0e49f863a225",
        "colab": {
          "base_uri": "https://localhost:8080/"
        }
      },
      "source": [
        "first_tuple[0]"
      ],
      "execution_count": null,
      "outputs": [
        {
          "output_type": "execute_result",
          "data": {
            "text/plain": [
              "1"
            ]
          },
          "metadata": {},
          "execution_count": 31
        }
      ]
    },
    {
      "cell_type": "code",
      "metadata": {
        "id": "OM2_DatngNmD",
        "outputId": "2ee049a7-e7f2-46c4-ff02-806e5ecd5df8",
        "colab": {
          "base_uri": "https://localhost:8080/",
          "height": 171
        }
      },
      "source": [
        "first_tuple[0] = '튜플은 추가가 안된다'"
      ],
      "execution_count": null,
      "outputs": [
        {
          "output_type": "error",
          "ename": "TypeError",
          "evalue": "ignored",
          "traceback": [
            "\u001b[0;31m---------------------------------------------------------------------------\u001b[0m",
            "\u001b[0;31mTypeError\u001b[0m                                 Traceback (most recent call last)",
            "\u001b[0;32m<ipython-input-32-360556a102d8>\u001b[0m in \u001b[0;36m<module>\u001b[0;34m\u001b[0m\n\u001b[0;32m----> 1\u001b[0;31m \u001b[0mfirst_tuple\u001b[0m\u001b[0;34m[\u001b[0m\u001b[0;36m0\u001b[0m\u001b[0;34m]\u001b[0m \u001b[0;34m=\u001b[0m \u001b[0;34m'튜플은 추가가 안된다'\u001b[0m\u001b[0;34m\u001b[0m\u001b[0;34m\u001b[0m\u001b[0m\n\u001b[0m",
            "\u001b[0;31mTypeError\u001b[0m: 'tuple' object does not support item assignment"
          ]
        }
      ]
    },
    {
      "cell_type": "markdown",
      "metadata": {
        "id": "Ow6LCbm4gNmD"
      },
      "source": [
        "### 세트"
      ]
    },
    {
      "cell_type": "code",
      "metadata": {
        "colab": {
          "base_uri": "https://localhost:8080/"
        },
        "id": "cDKHXhZdgNmD",
        "outputId": "a0dd5299-3d1a-4d58-ac4a-8f597785d2d2"
      },
      "source": [
        "{'a','b','c','d'}"
      ],
      "execution_count": null,
      "outputs": [
        {
          "output_type": "execute_result",
          "data": {
            "text/plain": [
              "{'a', 'b', 'c', 'd'}"
            ]
          },
          "metadata": {},
          "execution_count": 63
        }
      ]
    },
    {
      "cell_type": "code",
      "metadata": {
        "colab": {
          "base_uri": "https://localhost:8080/"
        },
        "id": "Kg_FVqYngNmD",
        "outputId": "7e386f40-f298-40a1-fb78-2e4b70a64e76"
      },
      "source": [
        "{'a','b','c','d','a','b','a','b','c','d','d','d','d','d','d'}"
      ],
      "execution_count": null,
      "outputs": [
        {
          "output_type": "execute_result",
          "data": {
            "text/plain": [
              "{'a', 'b', 'c', 'd'}"
            ]
          },
          "metadata": {},
          "execution_count": 33
        }
      ]
    },
    {
      "cell_type": "markdown",
      "metadata": {
        "id": "jHyvtT6YgNmE"
      },
      "source": [
        "## 조건문과 루프들\n",
        "- if, elif, else등의 조건문 사용법을 알아보고, for while 등의 루프 사용법에 대해 알아봅니다.\n"
      ]
    },
    {
      "cell_type": "markdown",
      "metadata": {
        "id": "dSU-ymaegNmE"
      },
      "source": [
        "## if 조건문 사용법"
      ]
    },
    {
      "cell_type": "code",
      "metadata": {
        "colab": {
          "base_uri": "https://localhost:8080/"
        },
        "id": "TvNb_kPYgNmE",
        "outputId": "9accac85-195f-4d07-c536-a49c5ecdb704"
      },
      "source": [
        "if 1 < 10:\n",
        "    print('1 < 10 입니다')"
      ],
      "execution_count": null,
      "outputs": [
        {
          "output_type": "stream",
          "name": "stdout",
          "text": [
            "1 < 10 입니다\n"
          ]
        }
      ]
    },
    {
      "cell_type": "code",
      "metadata": {
        "colab": {
          "base_uri": "https://localhost:8080/"
        },
        "id": "u6vFL9hUgNmE",
        "outputId": "0052e6c9-ead4-4d84-a24c-d5dec33873c4"
      },
      "source": [
        "if 1 < 2:\n",
        "    print('1<2입니다.')\n",
        "else:\n",
        "    print('1<2 가 아닙니다.')"
      ],
      "execution_count": null,
      "outputs": [
        {
          "output_type": "stream",
          "name": "stdout",
          "text": [
            "1<2입니다.\n"
          ]
        }
      ]
    },
    {
      "cell_type": "code",
      "metadata": {
        "colab": {
          "base_uri": "https://localhost:8080/"
        },
        "id": "7IPl35uVgNmE",
        "outputId": "fe5c480f-1dce-4754-89cf-4edec4e49cb3"
      },
      "source": [
        "if 1 > 2:\n",
        "    print('1>2입니다.')\n",
        "else:\n",
        "    print('1>2 가 아닙니다.')"
      ],
      "execution_count": null,
      "outputs": [
        {
          "output_type": "stream",
          "name": "stdout",
          "text": [
            "1>2 가 아닙니다.\n"
          ]
        }
      ]
    },
    {
      "cell_type": "code",
      "metadata": {
        "colab": {
          "base_uri": "https://localhost:8080/"
        },
        "id": "1bbstU1BgNmE",
        "outputId": "1705f6b7-0f06-452e-c3ab-fad62af36dbf"
      },
      "source": [
        "if 1 == 2:\n",
        "    print('1 은 2입니다')\n",
        "elif 3 != 3:\n",
        "    print('3은 3입니다.')\n",
        "else:\n",
        "    print('둘다 틀렸습니다')\n"
      ],
      "execution_count": null,
      "outputs": [
        {
          "output_type": "stream",
          "name": "stdout",
          "text": [
            "둘다 틀렸습니다\n"
          ]
        }
      ]
    },
    {
      "cell_type": "markdown",
      "metadata": {
        "id": "lrn7d9XEgNmF"
      },
      "source": [
        "## 반복문 루프"
      ]
    },
    {
      "cell_type": "code",
      "metadata": {
        "id": "1Vq_nTxFgNmF",
        "outputId": "c11c4993-75be-4aa7-b259-84941294e598",
        "colab": {
          "base_uri": "https://localhost:8080/"
        }
      },
      "source": [
        "range(0,5) # 0부터 4까지 숫자 뽑아줍니다."
      ],
      "execution_count": null,
      "outputs": [
        {
          "output_type": "execute_result",
          "data": {
            "text/plain": [
              "range(0, 5)"
            ]
          },
          "metadata": {},
          "execution_count": 36
        }
      ]
    },
    {
      "cell_type": "code",
      "metadata": {
        "colab": {
          "base_uri": "https://localhost:8080/"
        },
        "id": "0g7MSXtZgNmF",
        "outputId": "f1abce5f-cdf0-457f-a2fa-7487a4083986"
      },
      "source": [
        "print(list(range(0,5)))"
      ],
      "execution_count": null,
      "outputs": [
        {
          "output_type": "stream",
          "name": "stdout",
          "text": [
            "[0, 1, 2, 3, 4]\n"
          ]
        }
      ]
    },
    {
      "cell_type": "code",
      "source": [
        "for i in [0, 1, 2, 3, 4]: # for 루프는 설정한 조건 만큼 돌아갑니다.\n",
        "    print(i)"
      ],
      "metadata": {
        "colab": {
          "base_uri": "https://localhost:8080/"
        },
        "id": "-asyq2SHO2U8",
        "outputId": "5b6c3748-b96c-4da2-ff96-27de3405be5d"
      },
      "execution_count": null,
      "outputs": [
        {
          "output_type": "stream",
          "name": "stdout",
          "text": [
            "0\n",
            "1\n",
            "2\n",
            "3\n",
            "4\n"
          ]
        }
      ]
    },
    {
      "cell_type": "code",
      "metadata": {
        "id": "rh_wWOMigNmF",
        "outputId": "aad16e4e-9dae-46ad-ea02-e7a94532989a",
        "colab": {
          "base_uri": "https://localhost:8080/"
        }
      },
      "source": [
        "for i in range(0,5): # for 루프는 설정한 조건 만큼 돌아갑니다.\n",
        "    print(i)"
      ],
      "execution_count": null,
      "outputs": [
        {
          "output_type": "stream",
          "name": "stdout",
          "text": [
            "0\n",
            "1\n",
            "2\n",
            "3\n",
            "4\n"
          ]
        }
      ]
    },
    {
      "cell_type": "code",
      "metadata": {
        "id": "DyXuaPLfgNmF",
        "outputId": "7eec91e9-5b28-4f2c-ab15-fba58c68aa44",
        "colab": {
          "base_uri": "https://localhost:8080/"
        }
      },
      "source": [
        "x = range(0,5)\n",
        "[i*2 for i in x] #리스트 안에 for 문"
      ],
      "execution_count": null,
      "outputs": [
        {
          "output_type": "execute_result",
          "data": {
            "text/plain": [
              "[0, 2, 4, 6, 8]"
            ]
          },
          "metadata": {},
          "execution_count": 40
        }
      ]
    },
    {
      "cell_type": "code",
      "metadata": {
        "id": "qsk9el1ugNmF",
        "outputId": "f7649be8-652c-4def-97a9-cc8b083de9d7",
        "colab": {
          "base_uri": "https://localhost:8080/"
        }
      },
      "source": [
        "i = 0\n",
        "while i < 5: # 조건이 성립되는한 계속 돌아갑니다.\n",
        "    print(i)\n",
        "    i = i+1"
      ],
      "execution_count": null,
      "outputs": [
        {
          "output_type": "stream",
          "name": "stdout",
          "text": [
            "0\n",
            "1\n",
            "2\n",
            "3\n",
            "4\n"
          ]
        }
      ]
    },
    {
      "cell_type": "markdown",
      "metadata": {
        "id": "MpMDuezmgNmG"
      },
      "source": [
        "## 파이썬 함수 만들기\n",
        "- def, lambda 를 이용해서 함수를 만드는 방법을 알아보자."
      ]
    },
    {
      "cell_type": "code",
      "source": [
        "def first_function(x):\n",
        "    print(x)"
      ],
      "metadata": {
        "id": "NawJ2r2-Po7W"
      },
      "execution_count": null,
      "outputs": []
    },
    {
      "cell_type": "code",
      "source": [
        "first_function(2)"
      ],
      "metadata": {
        "colab": {
          "base_uri": "https://localhost:8080/"
        },
        "id": "CiQW9VlwPxEu",
        "outputId": "c682f777-5c6c-4f13-a0c5-333b6df58bd0"
      },
      "execution_count": null,
      "outputs": [
        {
          "output_type": "stream",
          "name": "stdout",
          "text": [
            "2\n"
          ]
        }
      ]
    },
    {
      "cell_type": "code",
      "metadata": {
        "id": "MHH-CDIBgNmG"
      },
      "source": [
        "def first_function(x=1):\n",
        "    print(x)"
      ],
      "execution_count": null,
      "outputs": []
    },
    {
      "cell_type": "code",
      "source": [
        "first_function('string')"
      ],
      "metadata": {
        "colab": {
          "base_uri": "https://localhost:8080/"
        },
        "id": "avHTS5mCP5b-",
        "outputId": "eb7a1a2b-19a4-4321-c6e5-5eb908bddb90"
      },
      "execution_count": null,
      "outputs": [
        {
          "output_type": "stream",
          "name": "stdout",
          "text": [
            "string\n"
          ]
        }
      ]
    },
    {
      "cell_type": "code",
      "metadata": {
        "id": "vvoB7R6EgNmG",
        "outputId": "ad1797dd-78e5-41f0-c293-2d7a90b6507b",
        "colab": {
          "base_uri": "https://localhost:8080/"
        }
      },
      "source": [
        "first_function"
      ],
      "execution_count": null,
      "outputs": [
        {
          "output_type": "execute_result",
          "data": {
            "text/plain": [
              "<function __main__.first_function(x=1)>"
            ]
          },
          "metadata": {},
          "execution_count": 75
        }
      ]
    },
    {
      "cell_type": "code",
      "metadata": {
        "id": "L3JnFijIgNmG",
        "outputId": "fe2e87a4-682f-4d65-dffa-1160d681b941",
        "colab": {
          "base_uri": "https://localhost:8080/"
        }
      },
      "source": [
        "first_function()"
      ],
      "execution_count": null,
      "outputs": [
        {
          "output_type": "stream",
          "name": "stdout",
          "text": [
            "1\n"
          ]
        }
      ]
    },
    {
      "cell_type": "code",
      "metadata": {
        "id": "eAArnfiTgNmG",
        "outputId": "f8f290c7-8626-48c6-d5d1-45df6b7f9e59",
        "colab": {
          "base_uri": "https://localhost:8080/"
        }
      },
      "source": [
        "first_function(\"안녕하세요\")"
      ],
      "execution_count": null,
      "outputs": [
        {
          "output_type": "stream",
          "name": "stdout",
          "text": [
            "안녕하세요\n"
          ]
        }
      ]
    },
    {
      "cell_type": "code",
      "metadata": {
        "id": "NW7_IVCzgNmG",
        "outputId": "180fe055-d50a-46a3-ba59-7aa08fd6a6d1",
        "colab": {
          "base_uri": "https://localhost:8080/"
        }
      },
      "source": [
        "first_function(1+2)"
      ],
      "execution_count": null,
      "outputs": [
        {
          "output_type": "stream",
          "name": "stdout",
          "text": [
            "3\n"
          ]
        }
      ]
    },
    {
      "cell_type": "code",
      "metadata": {
        "id": "jEHAAadtgNmG"
      },
      "source": [
        "def add(x,y):\n",
        "    return x+y"
      ],
      "execution_count": null,
      "outputs": []
    },
    {
      "cell_type": "code",
      "metadata": {
        "id": "E8aWa_Y2gNmH"
      },
      "source": [
        "add1 = add(2,3)"
      ],
      "execution_count": null,
      "outputs": []
    },
    {
      "cell_type": "code",
      "metadata": {
        "scrolled": true,
        "id": "3JSMARa6gNmH",
        "outputId": "8bd5af03-726e-4f4e-c72d-7900849adee1",
        "colab": {
          "base_uri": "https://localhost:8080/"
        }
      },
      "source": [
        "print(add1)"
      ],
      "execution_count": null,
      "outputs": [
        {
          "output_type": "stream",
          "name": "stdout",
          "text": [
            "5\n"
          ]
        }
      ]
    },
    {
      "cell_type": "markdown",
      "metadata": {
        "id": "Jdk4ALeCgNmH"
      },
      "source": [
        "## lambda expressions"
      ]
    },
    {
      "cell_type": "code",
      "metadata": {
        "id": "jd2_dd_BgNmH",
        "outputId": "8e0315a7-8f59-4e16-deeb-16ac2267d206",
        "colab": {
          "base_uri": "https://localhost:8080/"
        }
      },
      "source": [
        "a = lambda x: x*2\n",
        "a(1)"
      ],
      "execution_count": null,
      "outputs": [
        {
          "output_type": "execute_result",
          "data": {
            "text/plain": [
              "2"
            ]
          },
          "metadata": {},
          "execution_count": 52
        }
      ]
    },
    {
      "cell_type": "code",
      "source": [],
      "metadata": {
        "id": "2Sr3586NYr9I"
      },
      "execution_count": null,
      "outputs": []
    }
  ]
}
