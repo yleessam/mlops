{
  "cells": [
    {
      "cell_type": "markdown",
      "metadata": {
        "id": "3BKoBSQaoYHV"
      },
      "source": [
        "# IPython: Beyond Normal Python"
      ]
    },
    {
      "cell_type": "markdown",
      "metadata": {
        "id": "_HinLTqpoYHW"
      },
      "source": [
        "There are many options for development environments for Python, and I'm often asked which one I use in my own work.\n",
        "My answer sometimes surprises people: my preferred environment is [IPython](http://ipython.org/) plus a text editor (in my case, Emacs or Atom depending on my mood).\n",
        "IPython (short for *Interactive Python*) was started in 2001 by Fernando Perez as an enhanced Python interpreter, and has since grown into a project aiming to provide, in Perez's words, \"Tools for the entire life cycle of research computing.\"\n",
        "If Python is the engine of our data science task, you might think of IPython as the interactive control panel.\n",
        "\n",
        "As well as being a useful interactive interface to Python, IPython also provides a number of useful syntactic additions to the language; we'll cover the most useful of these additions here.\n",
        "In addition, IPython is closely tied with the [Jupyter project](http://jupyter.org), which provides a browser-based notebook that is useful for development, collaboration, sharing, and even publication of data science results.\n",
        "The IPython notebook is actually a special case of the broader Jupyter notebook structure, which encompasses notebooks for Julia, R, and other programming languages.\n",
        "As an example of the usefulness of the notebook format, look no further than the page you are reading: the entire manuscript for this book was composed as a set of IPython notebooks.\n",
        "\n",
        "IPython is about using Python effectively for interactive scientific and data-intensive computing.\n",
        "This chapter will start by stepping through some of the IPython features that are useful to the practice of data science, focusing especially on the syntax it offers beyond the standard features of Python.\n",
        "Next, we will go into a bit more depth on some of the more useful \"magic commands\" that can speed-up common tasks in creating and using data science code.\n",
        "Finally, we will touch on some of the features of the notebook that make it useful in understanding data and sharing results."
      ]
    },
    {
      "cell_type": "markdown",
      "metadata": {
        "id": "i6tGHYiBoYHW"
      },
      "source": [
        "## Shell or Notebook?\n",
        "\n",
        "There are two primary means of using IPython that we'll discuss in this chapter: the IPython shell and the IPython notebook.\n",
        "The bulk of the material in this chapter is relevant to both, and the examples will switch between them depending on what is most convenient.\n",
        "In the few sections that are relevant to just one or the other, we will explicitly state that fact.\n",
        "Before we start, some words on how to launch the IPython shell and IPython notebook."
      ]
    },
    {
      "cell_type": "markdown",
      "metadata": {
        "id": "opXSl-nBoYHX"
      },
      "source": [
        "### Launching the IPython Shell\n",
        "\n",
        "This chapter, like most of this book, is not designed to be absorbed passively.\n",
        "I recommend that as you read through it, you follow along and experiment with the tools and syntax we cover: the muscle-memory you build through doing this will be far more useful than the simple act of reading about it.\n",
        "Start by launching the IPython interpreter by typing **``ipython``** on the command-line; alternatively, if you've installed a distribution like Anaconda or EPD, there may be a launcher specific to your system (we'll discuss this more fully in [Help and Documentation in IPython](01.01-Help-And-Documentation.ipynb)).\n",
        "\n",
        "Once you do this, you should see a prompt like the following:\n",
        "```\n",
        "IPython 4.0.1 -- An enhanced Interactive Python.\n",
        "?         -> Introduction and overview of IPython's features.\n",
        "%quickref -> Quick reference.\n",
        "help      -> Python's own help system.\n",
        "object?   -> Details about 'object', use 'object??' for extra details.\n",
        "In [1]:\n",
        "```\n",
        "With that, you're ready to follow along."
      ]
    },
    {
      "cell_type": "code",
      "source": [],
      "metadata": {
        "id": "lDzZbnmbZ4ez"
      },
      "execution_count": null,
      "outputs": []
    },
    {
      "cell_type": "code",
      "source": [],
      "metadata": {
        "id": "TwgyWnRrZ51Y"
      },
      "execution_count": null,
      "outputs": []
    },
    {
      "cell_type": "markdown",
      "source": [],
      "metadata": {
        "id": "4_T8EGZtZ6X2"
      }
    },
    {
      "cell_type": "markdown",
      "metadata": {
        "id": "e5hAfwbmoYHX"
      },
      "source": [
        "### Launching the Jupyter Notebook\n",
        "\n",
        "The Jupyter notebook is a browser-based graphical interface to the IPython shell, and builds on it a rich set of dynamic display capabilities.\n",
        "As well as executing Python/IPython statements, the notebook allows the user to include formatted text, static and dynamic visualizations, mathematical equations, JavaScript widgets, and much more.\n",
        "Furthermore, these documents can be saved in a way that lets other people open them and execute the code on their own systems.\n",
        "\n",
        "Though the IPython notebook is viewed and edited through your web browser window, it must connect to a running Python process in order to execute code.\n",
        "This process (known as a \"kernel\") can be started by running the following command in your system shell:\n",
        "\n",
        "```\n",
        "$ jupyter notebook\n",
        "```\n",
        "\n",
        "This command will launch a local web server that will be visible to your browser.\n",
        "It immediately spits out a log showing what it is doing; that log will look something like this:\n",
        "\n",
        "```\n",
        "$ jupyter notebook\n",
        "[NotebookApp] Serving notebooks from local directory: /Users/jakevdp/PythonDataScienceHandbook\n",
        "[NotebookApp] 0 active kernels\n",
        "[NotebookApp] The IPython Notebook is running at: http://localhost:8888/\n",
        "[NotebookApp] Use Control-C to stop this server and shut down all kernels (twice to skip confirmation).\n",
        "```\n",
        "\n",
        "Upon issuing the command, your default browser should automatically open and navigate to the listed local URL;\n",
        "the exact address will depend on your system.\n",
        "If the browser does not open automatically, you can open a window and manually open this address (*http://localhost:8888/* in this example)."
      ]
    },
    {
      "cell_type": "markdown",
      "metadata": {
        "id": "jOULQsYWoYHZ"
      },
      "source": [
        "# Help and Documentation in IPython"
      ]
    },
    {
      "cell_type": "markdown",
      "metadata": {
        "id": "_vz-aqD1oYHZ"
      },
      "source": [
        "If you read no other section in this chapter, read this one: I find the tools discussed here to be the most transformative contributions of IPython to my daily workflow.\n",
        "\n",
        "When a technologically-minded person is asked to help a friend, family member, or colleague with a computer problem, most of the time it's less a matter of knowing the answer as much as knowing how to quickly find an unknown answer.\n",
        "In data science it's the same: searchable web resources such as online documentation, mailing-list threads, and StackOverflow answers contain a wealth of information, even (especially?) if it is a topic you've found yourself searching before.\n",
        "Being an effective practitioner of data science is less about memorizing the tool or command you should use for every possible situation, and more about learning to effectively find the information you don't know, whether through a web search engine or another means.\n",
        "\n",
        "One of the most useful functions of IPython/Jupyter is to shorten the gap between the user and the type of documentation and search that will help them do their work effectively.\n",
        "While web searches still play a role in answering complicated questions, an amazing amount of information can be found through IPython alone.\n",
        "Some examples of the questions IPython can help answer in a few keystrokes:\n",
        "\n",
        "- How do I call this function? What arguments and options does it have?\n",
        "- What does the source code of this Python object look like?\n",
        "- What is in this package I imported? What attributes or methods does this object have?\n",
        "\n",
        "Here we'll discuss IPython's tools to quickly access this information, namely the ``?`` character to explore documentation, the ``??`` characters to explore source code, and the Tab key for auto-completion."
      ]
    },
    {
      "cell_type": "markdown",
      "metadata": {
        "id": "Ob-2eIA3oYHZ"
      },
      "source": [
        "## Accessing Documentation with ``?``\n",
        "\n",
        "The Python language and its data science ecosystem is built with the user in mind, and one big part of that is access to documentation.\n",
        "Every Python object contains the reference to a string, known as a *doc string*, which in most cases will contain a concise summary of the object and how to use it.\n",
        "Python has a built-in ``help()`` function that can access this information and prints the results.\n",
        "For example, to see the documentation of the built-in ``len`` function, you can do the following:\n",
        "\n",
        "```ipython\n",
        "In [1]: help(len)\n",
        "Help on built-in function len in module builtins:\n",
        "\n",
        "len(...)\n",
        "    len(object) -> integer\n",
        "    \n",
        "    Return the number of items of a sequence or mapping.\n",
        "```\n",
        "\n",
        "Depending on your interpreter, this information may be displayed as inline text, or in some separate pop-up window."
      ]
    },
    {
      "cell_type": "markdown",
      "metadata": {
        "id": "8x2MSiFHoYHa"
      },
      "source": [
        "Because finding help on an object is so common and useful, IPython introduces the ``?`` character as a shorthand for accessing this documentation and other relevant information:\n",
        "\n",
        "```ipython\n",
        "In [2]: len?\n",
        "Type:        builtin_function_or_method\n",
        "String form: <built-in function len>\n",
        "Namespace:   Python builtin\n",
        "Docstring:\n",
        "len(object) -> integer\n",
        "\n",
        "Return the number of items of a sequence or mapping.\n",
        "```"
      ]
    },
    {
      "cell_type": "markdown",
      "metadata": {
        "id": "WExfORgGoYHa"
      },
      "source": [
        "This notation works for just about anything, including object methods:\n",
        "\n",
        "```ipython\n",
        "In [3]: L = [1, 2, 3]\n",
        "In [4]: L.insert?\n",
        "Type:        builtin_function_or_method\n",
        "String form: <built-in method insert of list object at 0x1024b8ea8>\n",
        "Docstring:   L.insert(index, object) -- insert object before index\n",
        "```\n",
        "\n",
        "or even objects themselves, with the documentation from their type:\n",
        "\n",
        "```ipython\n",
        "In [5]: L?\n",
        "Type:        list\n",
        "String form: [1, 2, 3]\n",
        "Length:      3\n",
        "Docstring:\n",
        "list() -> new empty list\n",
        "list(iterable) -> new list initialized from iterable's items\n",
        "```"
      ]
    },
    {
      "cell_type": "markdown",
      "metadata": {
        "id": "qKJ1eVl4oYHa"
      },
      "source": [
        "Importantly, this will even work for functions or other objects you create yourself!\n",
        "Here we'll define a small function with a docstring:\n",
        "\n",
        "```ipython\n",
        "In [6]: def square(a):\n",
        "  ....:     \"\"\"Return the square of a.\"\"\"\n",
        "  ....:     return a ** 2\n",
        "  ....:\n",
        "```\n",
        "\n",
        "Note that to create a docstring for our function, we simply placed a string literal in the first line.\n",
        "Because doc strings are usually multiple lines, by convention we used Python's triple-quote notation for multi-line strings."
      ]
    },
    {
      "cell_type": "markdown",
      "metadata": {
        "id": "xgoP8h2LoYHa"
      },
      "source": [
        "Now we'll use the ``?`` mark to find this doc string:\n",
        "\n",
        "```ipython\n",
        "In [7]: square?\n",
        "Type:        function\n",
        "String form: <function square at 0x103713cb0>\n",
        "Definition:  square(a)\n",
        "Docstring:   Return the square of a.\n",
        "```\n",
        "\n",
        "This quick access to documentation via docstrings is one reason you should get in the habit of always adding such inline documentation to the code you write!"
      ]
    },
    {
      "cell_type": "markdown",
      "metadata": {
        "id": "qu2MndUKoYHa"
      },
      "source": [
        "## Accessing Source Code with ``??``\n",
        "Because the Python language is so easily readable, another level of insight can usually be gained by reading the source code of the object you're curious about.\n",
        "IPython provides a shortcut to the source code with the double question mark (``??``):\n",
        "\n",
        "```ipython\n",
        "In [8]: square??\n",
        "Type:        function\n",
        "String form: <function square at 0x103713cb0>\n",
        "Definition:  square(a)\n",
        "Source:\n",
        "def square(a):\n",
        "    \"Return the square of a\"\n",
        "    return a ** 2\n",
        "```\n",
        "\n",
        "For simple functions like this, the double question-mark can give quick insight into the under-the-hood details."
      ]
    },
    {
      "cell_type": "markdown",
      "metadata": {
        "id": "0av9SCdpoYHa"
      },
      "source": [
        "If you play with this much, you'll notice that sometimes the ``??`` suffix doesn't display any source code: this is generally because the object in question is not implemented in Python, but in C or some other compiled extension language.\n",
        "If this is the case, the ``??`` suffix gives the same output as the ``?`` suffix.\n",
        "You'll find this particularly with many of Python's built-in objects and types, for example ``len`` from above:\n",
        "\n",
        "```ipython\n",
        "In [9]: len??\n",
        "Type:        builtin_function_or_method\n",
        "String form: <built-in function len>\n",
        "Namespace:   Python builtin\n",
        "Docstring:\n",
        "len(object) -> integer\n",
        "\n",
        "Return the number of items of a sequence or mapping.\n",
        "```\n",
        "\n",
        "Using ``?`` and/or ``??`` gives a powerful and quick interface for finding information about what any Python function or module does."
      ]
    },
    {
      "cell_type": "markdown",
      "metadata": {
        "id": "FEepxnCNoYHb"
      },
      "source": [
        "## Exploring Modules with Tab-Completion\n",
        "\n",
        "IPython's other useful interface is the use of the tab key for auto-completion and exploration of the contents of objects, modules, and name-spaces.\n",
        "In the examples that follow, we'll use ``<TAB>`` to indicate when the Tab key should be pressed."
      ]
    },
    {
      "cell_type": "markdown",
      "metadata": {
        "id": "hep5bQSYoYHb"
      },
      "source": [
        "### Tab-completion of object contents\n",
        "\n",
        "Every Python object has various attributes and methods associated with it.\n",
        "Like with the ``help`` function discussed before, Python has a built-in ``dir`` function that returns a list of these, but the tab-completion interface is much easier to use in practice.\n",
        "To see a list of all available attributes of an object, you can type the name of the object followed by a period (\"``.``\") character and the Tab key:\n",
        "\n",
        "```ipython\n",
        "In [10]: L.<TAB>\n",
        "L.append   L.copy     L.extend   L.insert   L.remove   L.sort     \n",
        "L.clear    L.count    L.index    L.pop      L.reverse  \n",
        "```\n",
        "\n",
        "To narrow-down the list, you can type the first character or several characters of the name, and the Tab key will find the matching attributes and methods:\n",
        "\n",
        "```ipython\n",
        "In [10]: L.c<TAB>\n",
        "L.clear  L.copy   L.count  \n",
        "\n",
        "In [10]: L.co<TAB>\n",
        "L.copy   L.count\n",
        "```\n",
        "\n",
        "If there is only a single option, pressing the Tab key will complete the line for you.\n",
        "For example, the following will instantly be replaced with ``L.count``:\n",
        "\n",
        "```ipython\n",
        "In [10]: L.cou<TAB>\n",
        "\n",
        "```\n",
        "\n",
        "Though Python has no strictly-enforced distinction between public/external attributes and private/internal attributes, by convention a preceding underscore is used to denote such methods.\n",
        "For clarity, these private methods and special methods are omitted from the list by default, but it's possible to list them by explicitly typing the underscore:\n",
        "\n",
        "```ipython\n",
        "In [10]: L._<TAB>\n",
        "L.__add__           L.__gt__            L.__reduce__\n",
        "L.__class__         L.__hash__          L.__reduce_ex__\n",
        "```\n",
        "\n",
        "For brevity, we've only shown the first couple lines of the output.\n",
        "Most of these are Python's special double-underscore methods (often nicknamed \"dunder\" methods)."
      ]
    },
    {
      "cell_type": "markdown",
      "metadata": {
        "id": "GbfMZKP-oYHb"
      },
      "source": [
        "### Tab completion when importing\n",
        "\n",
        "Tab completion is also useful when importing objects from packages.\n",
        "Here we'll use it to find all possible imports in the ``itertools`` package that start with ``co``:\n",
        "```\n",
        "In [10]: from itertools import co<TAB>\n",
        "combinations                   compress\n",
        "combinations_with_replacement  count\n",
        "```\n",
        "Similarly, you can use tab-completion to see which imports are available on your system (this will change depending on which third-party scripts and modules are visible to your Python session):\n",
        "```\n",
        "In [10]: import <TAB>\n",
        "Display all 399 possibilities? (y or n)\n",
        "Crypto              dis                 py_compile\n",
        "Cython              distutils           pyclbr\n",
        "...                 ...                 ...\n",
        "difflib             pwd                 zmq\n",
        "\n",
        "In [10]: import h<TAB>\n",
        "hashlib             hmac                http         \n",
        "heapq               html                husl         \n",
        "```\n",
        "(Note that for brevity, I did not print here all 399 importable packages and modules on my system.)"
      ]
    },
    {
      "cell_type": "markdown",
      "metadata": {
        "id": "qEYcilHEoYHb"
      },
      "source": [
        "### Beyond tab completion: wildcard matching\n",
        "\n",
        "Tab completion is useful if you know the first few characters of the object or attribute you're looking for, but is little help if you'd like to match characters at the middle or end of the word.\n",
        "For this use-case, IPython provides a means of wildcard matching for names using the ``*`` character.\n",
        "\n",
        "For example, we can use this to list every object in the namespace that ends with ``Warning``:\n",
        "\n",
        "```ipython\n",
        "In [10]: *Warning?\n",
        "BytesWarning                  RuntimeWarning\n",
        "DeprecationWarning            SyntaxWarning\n",
        "FutureWarning                 UnicodeWarning\n",
        "ImportWarning                 UserWarning\n",
        "PendingDeprecationWarning     Warning\n",
        "ResourceWarning\n",
        "```\n",
        "\n",
        "Notice that the ``*`` character matches any string, including the empty string.\n",
        "\n",
        "Similarly, suppose we are looking for a string method that contains the word ``find`` somewhere in its name.\n",
        "We can search for it this way:\n",
        "\n",
        "```ipython\n",
        "In [10]: str.*find*?\n",
        "str.find\n",
        "str.rfind\n",
        "```\n",
        "\n",
        "I find this type of flexible wildcard search can be very useful for finding a particular command when getting to know a new package or reacquainting myself with a familiar one."
      ]
    },
    {
      "cell_type": "code",
      "source": [
        "str_a = 'haha'"
      ],
      "metadata": {
        "id": "Ef9Rp6o1aT4s"
      },
      "execution_count": null,
      "outputs": []
    },
    {
      "cell_type": "code",
      "source": [
        "str.*find*?"
      ],
      "metadata": {
        "id": "fpAVHQKeabhl"
      },
      "execution_count": null,
      "outputs": []
    },
    {
      "cell_type": "markdown",
      "metadata": {
        "id": "698ALXB5oYHc"
      },
      "source": [
        "# Keyboard Shortcuts in the IPython Shell"
      ]
    },
    {
      "cell_type": "markdown",
      "metadata": {
        "id": "b_EytCjroYHc"
      },
      "source": [
        "If you spend any amount of time on the computer, you've probably found a use for keyboard shortcuts in your workflow.\n",
        "Most familiar perhaps are the Cmd-C and Cmd-V (or Ctrl-C and Ctrl-V) for copying and pasting in a wide variety of programs and systems.\n",
        "Power-users tend to go even further: popular text editors like Emacs, Vim, and others provide users an incredible range of operations through intricate combinations of keystrokes.\n",
        "\n",
        "The IPython shell doesn't go this far, but does provide a number of keyboard shortcuts for fast navigation while typing commands.\n",
        "These shortcuts are not in fact provided by IPython itself, but through its dependency on the GNU Readline library: as such, some of the following shortcuts may differ depending on your system configuration.\n",
        "Also, while some of these shortcuts do work in the browser-based notebook, this section is primarily about shortcuts in the IPython shell.\n",
        "\n",
        "Once you get accustomed to these, they can be very useful for quickly performing certain commands without moving your hands from the \"home\" keyboard position.\n",
        "If you're an Emacs user or if you have experience with Linux-style shells, the following will be very familiar.\n",
        "We'll group these shortcuts into a few categories: *navigation shortcuts*, *text entry shortcuts*, *command history shortcuts*, and *miscellaneous shortcuts*."
      ]
    },
    {
      "cell_type": "markdown",
      "metadata": {
        "id": "Im-TJdRboYHc"
      },
      "source": [
        "## Navigation shortcuts\n",
        "\n",
        "While the use of the left and right arrow keys to move backward and forward in the line is quite obvious, there are other options that don't require moving your hands from the \"home\" keyboard position:\n",
        "\n",
        "| Keystroke                         | Action                                     |\n",
        "|-----------------------------------|--------------------------------------------|\n",
        "| ``Ctrl-a``                        | Move cursor to the beginning of the line   |\n",
        "| ``Ctrl-e``                        | Move cursor to the end of the line         |\n",
        "| ``Ctrl-b`` or the left arrow key  | Move cursor back one character             |\n",
        "| ``Ctrl-f`` or the right arrow key | Move cursor forward one character          |"
      ]
    },
    {
      "cell_type": "markdown",
      "metadata": {
        "id": "JKcgpFofoYHc"
      },
      "source": [
        "## Text Entry Shortcuts\n",
        "\n",
        "While everyone is familiar with using the Backspace key to delete the previous character, reaching for the key often requires some minor finger gymnastics, and it only deletes a single character at a time.\n",
        "In IPython there are several shortcuts for removing some portion of the text you're typing.\n",
        "The most immediately useful of these are the commands to delete entire lines of text.\n",
        "You'll know these have become second-nature if you find yourself using a combination of Ctrl-b and Ctrl-d instead of reaching for Backspace to delete the previous character!\n",
        "\n",
        "| Keystroke                     | Action                                           |\n",
        "|-------------------------------|--------------------------------------------------|\n",
        "| Backspace key                 | Delete previous character in line                |\n",
        "| ``Ctrl-d``                    | Delete next character in line                    |\n",
        "| ``Ctrl-k``                    | Cut text from cursor to end of line              |\n",
        "| ``Ctrl-u``                    | Cut text from beginning of line to cursor        |\n",
        "| ``Ctrl-y``                    | Yank (i.e. paste) text that was previously cut   |\n",
        "| ``Ctrl-t``                    | Transpose (i.e., switch) previous two characters |"
      ]
    },
    {
      "cell_type": "markdown",
      "metadata": {
        "id": "O6XPG3GSoYHc"
      },
      "source": [
        "## Command History Shortcuts\n",
        "\n",
        "Perhaps the most impactful shortcuts discussed here are the ones IPython provides for navigating the command history.\n",
        "This command history goes beyond your current IPython session: your entire command history is stored in a SQLite database in your IPython profile directory.\n",
        "The most straightforward way to access these is with the up and down arrow keys to step through the history, but other options exist as well:\n",
        "\n",
        "| Keystroke                           | Action                                     |\n",
        "|-------------------------------------|--------------------------------------------|\n",
        "| ``Ctrl-p`` (or the up arrow key)    | Access previous command in history         |\n",
        "| ``Ctrl-n`` (or the down arrow key)  | Access next command in history             |\n",
        "| ``Ctrl-r``                          | Reverse-search through command history     |"
      ]
    },
    {
      "cell_type": "markdown",
      "metadata": {
        "id": "SDqzwVC7oYHc"
      },
      "source": [
        "The reverse-search can be particularly useful.\n",
        "Recall that in the previous section we defined a function called ``square``.\n",
        "Let's reverse-search our Python history from a new IPython shell and find this definition again.\n",
        "When you press Ctrl-r in the IPython terminal, you'll see the following prompt:\n",
        "\n",
        "```ipython\n",
        "In [1]:\n",
        "(reverse-i-search)`':\n",
        "```\n",
        "\n",
        "If you start typing characters at this prompt, IPython will auto-fill the most recent command, if any, that matches those characters:\n",
        "\n",
        "```ipython\n",
        "In [1]:\n",
        "(reverse-i-search)`sqa': square??\n",
        "```\n",
        "\n",
        "At any point, you can add more characters to refine the search, or press Ctrl-r again to search further for another command that matches the query. If you followed along in the previous section, pressing Ctrl-r twice more gives:\n",
        "\n",
        "```ipython\n",
        "In [1]:\n",
        "(reverse-i-search)`sqa': def square(a):\n",
        "    \"\"\"Return the square of a\"\"\"\n",
        "    return a ** 2\n",
        "```\n",
        "\n",
        "Once you have found the command you're looking for, press Return and the search will end.\n",
        "We can then use the retrieved command, and carry-on with our session:\n",
        "\n",
        "```ipython\n",
        "In [1]: def square(a):\n",
        "    \"\"\"Return the square of a\"\"\"\n",
        "    return a ** 2\n",
        "\n",
        "In [2]: square(2)\n",
        "Out[2]: 4\n",
        "```\n",
        "\n",
        "Note that Ctrl-p/Ctrl-n or the up/down arrow keys can also be used to search through history, but only by matching characters at the beginning of the line.\n",
        "That is, if you type **``def``** and then press Ctrl-p, it would find the most recent command (if any) in your history that begins with the characters ``def``."
      ]
    },
    {
      "cell_type": "markdown",
      "source": [],
      "metadata": {
        "id": "hrsecMHvVu1u"
      }
    },
    {
      "cell_type": "markdown",
      "metadata": {
        "id": "B00EqmM5oYHc"
      },
      "source": [
        "## Miscellaneous Shortcuts\n",
        "\n",
        "Finally, there are a few miscellaneous shortcuts that don't fit into any of the preceding categories, but are nevertheless useful to know:\n",
        "\n",
        "| Keystroke                     | Action                                     |\n",
        "|-------------------------------|--------------------------------------------|\n",
        "| ``Ctrl-l``                    | Clear terminal screen                      |\n",
        "| ``Ctrl-c``                    | Interrupt current Python command           |\n",
        "| ``Ctrl-d``                    | Exit IPython session                       |\n",
        "\n",
        "The Ctrl-c in particular can be useful when you inadvertently start a very long-running job."
      ]
    },
    {
      "cell_type": "markdown",
      "metadata": {
        "id": "2kAx5zLRoYHc"
      },
      "source": [
        "While some of the shortcuts discussed here may seem a bit tedious at first, they quickly become automatic with practice.\n",
        "Once you develop that muscle memory, I suspect you will even find yourself wishing they were available in other contexts."
      ]
    },
    {
      "cell_type": "markdown",
      "metadata": {
        "id": "QcYHw6b4oYHd"
      },
      "source": [
        "# IPython Magic Commands"
      ]
    },
    {
      "cell_type": "markdown",
      "metadata": {
        "id": "5Riev2LvoYHd"
      },
      "source": [
        "The previous two sections showed how IPython lets you use and explore Python efficiently and interactively.\n",
        "Here we'll begin discussing some of the enhancements that IPython adds on top of the normal Python syntax.\n",
        "These are known in IPython as *magic commands*, and are prefixed by the ``%`` character.\n",
        "These magic commands are designed to succinctly solve various common problems in standard data analysis.\n",
        "Magic commands come in two flavors: *line magics*, which are denoted by a single ``%`` prefix and operate on a single line of input, and *cell magics*, which are denoted by a double ``%%`` prefix and operate on multiple lines of input.\n",
        "We'll demonstrate and discuss a few brief examples here, and come back to more focused discussion of several useful magic commands later in the chapter."
      ]
    },
    {
      "cell_type": "markdown",
      "metadata": {
        "id": "t7YvHeHaoYHd"
      },
      "source": [
        "## Pasting Code Blocks: ``%paste`` and ``%cpaste``\n",
        "\n",
        "When working in the IPython interpreter, one common gotcha is that pasting multi-line code blocks can lead to unexpected errors, especially when indentation and interpreter markers are involved.\n",
        "A common case is that you find some example code on a website and want to paste it into your interpreter.\n",
        "Consider the following simple function:\n",
        "\n",
        "``` python\n",
        ">>> def donothing(x):\n",
        "...     return x\n",
        "\n",
        "```\n",
        "The code is formatted as it would appear in the Python interpreter, and if you copy and paste this directly into IPython you get an error:\n",
        "\n",
        "```ipython\n",
        "In [2]: >>> def donothing(x):\n",
        "   ...:     ...     return x\n",
        "   ...:     \n",
        "  File \"<ipython-input-20-5a66c8964687>\", line 2\n",
        "    ...     return x\n",
        "                 ^\n",
        "SyntaxError: invalid syntax\n",
        "```\n",
        "\n",
        "In the direct paste, the interpreter is confused by the additional prompt characters.\n",
        "But never fear–IPython's ``%paste`` magic function is designed to handle this exact type of multi-line, marked-up input:\n",
        "\n",
        "```ipython\n",
        "In [3]: %paste\n",
        ">>> def donothing(x):\n",
        "...     return x\n",
        "\n",
        "## -- End pasted text --\n",
        "```\n",
        "\n",
        "The ``%paste`` command both enters and executes the code, so now the function is ready to be used:\n",
        "\n",
        "```ipython\n",
        "In [4]: donothing(10)\n",
        "Out[4]: 10\n",
        "```\n",
        "\n",
        "A command with a similar intent is ``%cpaste``, which opens up an interactive multiline prompt in which you can paste one or more chunks of code to be executed in a batch:\n",
        "\n",
        "```ipython\n",
        "In [5]: %cpaste\n",
        "Pasting code; enter '--' alone on the line to stop or use Ctrl-D.\n",
        ":>>> def donothing(x):\n",
        ":...     return x\n",
        ":--\n",
        "```\n",
        "\n",
        "These magic commands, like others we'll see, make available functionality that would be difficult or impossible in a standard Python interpreter."
      ]
    },
    {
      "cell_type": "markdown",
      "metadata": {
        "id": "QBhH26kHoYHd"
      },
      "source": [
        "## Running External Code: ``%run``\n",
        "As you begin developing more extensive code, you will likely find yourself working in both IPython for interactive exploration, as well as a text editor to store code that you want to reuse.\n",
        "Rather than running this code in a new window, it can be convenient to run it within your IPython session.\n",
        "This can be done with the ``%run`` magic.\n",
        "\n",
        "For example, imagine you've created a ``myscript.py`` file with the following contents:\n",
        "\n",
        "```python\n",
        "#-------------------------------------\n",
        "# file: myscript.py\n",
        "\n",
        "def square(x):\n",
        "    \"\"\"square a number\"\"\"\n",
        "    return x ** 2\n",
        "\n",
        "for N in range(1, 4):\n",
        "    print(N, \"squared is\", square(N))\n",
        "```\n",
        "\n",
        "You can execute this from your IPython session as follows:\n",
        "\n",
        "```ipython\n",
        "In [6]: %run myscript.py\n",
        "1 squared is 1\n",
        "2 squared is 4\n",
        "3 squared is 9\n",
        "```\n",
        "\n",
        "Note also that after you've run this script, any functions defined within it are available for use in your IPython session:\n",
        "\n",
        "```ipython\n",
        "In [7]: square(5)\n",
        "Out[7]: 25\n",
        "```\n",
        "\n",
        "There are several options to fine-tune how your code is run; you can see the documentation in the normal way, by typing **``%run?``** in the IPython interpreter."
      ]
    },
    {
      "cell_type": "markdown",
      "metadata": {
        "id": "x_RbRXWDoYHd"
      },
      "source": [
        "## Timing Code Execution: ``%timeit``\n",
        "Another example of a useful magic function is ``%timeit``, which will automatically determine the execution time of the single-line Python statement that follows it.\n",
        "For example, we may want to check the performance of a list comprehension:\n",
        "\n",
        "```ipython\n",
        "In [8]: %timeit L = [n ** 2 for n in range(1000)]\n",
        "1000 loops, best of 3: 325 µs per loop\n",
        "```\n",
        "\n",
        "The benefit of ``%timeit`` is that for short commands it will automatically perform multiple runs in order to attain more robust results.\n",
        "For multi line statements, adding a second ``%`` sign will turn this into a cell magic that can handle multiple lines of input.\n",
        "For example, here's the equivalent construction with a ``for``-loop:\n",
        "\n",
        "```ipython\n",
        "In [9]: %%timeit\n",
        "   ...: L = []\n",
        "   ...: for n in range(1000):\n",
        "   ...:     L.append(n ** 2)\n",
        "   ...:\n",
        "1000 loops, best of 3: 373 µs per loop\n",
        "```\n",
        "\n",
        "We can immediately see that list comprehensions are about 10% faster than the equivalent ``for``-loop construction in this case.\n",
        "We'll explore ``%timeit`` and other approaches to timing and profiling code in [Profiling and Timing Code](01.07-Timing-and-Profiling.ipynb)."
      ]
    },
    {
      "cell_type": "markdown",
      "metadata": {
        "id": "URjhJfu7oYHe"
      },
      "source": [
        "## Help on Magic Functions: ``?``, ``%magic``, and ``%lsmagic``\n",
        "\n",
        "Like normal Python functions, IPython magic functions have docstrings, and this useful\n",
        "documentation can be accessed in the standard manner.\n",
        "So, for example, to read the documentation of the ``%timeit`` magic simply type this:\n",
        "\n",
        "```ipython\n",
        "In [10]: %timeit?\n",
        "```\n",
        "\n",
        "Documentation for other functions can be accessed similarly.\n",
        "To access a general description of available magic functions, including some examples, you can type this:\n",
        "\n",
        "```ipython\n",
        "In [11]: %magic\n",
        "```\n",
        "\n",
        "For a quick and simple list of all available magic functions, type this:\n",
        "\n",
        "```ipython\n",
        "In [12]: %lsmagic\n",
        "```\n",
        "\n",
        "Finally, I'll mention that it is quite straightforward to define your own magic functions if you wish.\n",
        "We won't discuss it here, but if you are interested, see the references listed in [More IPython Resources](01.08-More-IPython-Resources.ipynb)."
      ]
    },
    {
      "cell_type": "markdown",
      "metadata": {
        "id": "TGx4JPb5oYHe"
      },
      "source": [
        "<!--NAVIGATION-->\n",
        "< [Keyboard Shortcuts in the IPython Shell](01.02-Shell-Keyboard-Shortcuts.ipynb) | [Contents](Index.ipynb) | [Input and Output History](01.04-Input-Output-History.ipynb) >\n",
        "\n",
        "<a href=\"https://colab.research.google.com/github/jakevdp/PythonDataScienceHandbook/blob/master/notebooks/01.03-Magic-Commands.ipynb\"><img align=\"left\" src=\"https://colab.research.google.com/assets/colab-badge.svg\" alt=\"Open in Colab\" title=\"Open and Execute in Google Colaboratory\"></a>\n"
      ]
    },
    {
      "cell_type": "markdown",
      "metadata": {
        "id": "DUFwl6GKoYHe"
      },
      "source": [
        "<!--BOOK_INFORMATION-->\n",
        "<img align=\"left\" style=\"padding-right:10px;\" src=\"figures/PDSH-cover-small.png\">\n",
        "\n",
        "*This notebook contains an excerpt from the [Python Data Science Handbook](http://shop.oreilly.com/product/0636920034919.do) by Jake VanderPlas; the content is available [on GitHub](https://github.com/jakevdp/PythonDataScienceHandbook).*\n",
        "\n",
        "*The text is released under the [CC-BY-NC-ND license](https://creativecommons.org/licenses/by-nc-nd/3.0/us/legalcode), and code is released under the [MIT license](https://opensource.org/licenses/MIT). If you find this content useful, please consider supporting the work by [buying the book](http://shop.oreilly.com/product/0636920034919.do)!*"
      ]
    },
    {
      "cell_type": "markdown",
      "metadata": {
        "id": "Jn7fUy0NoYHe"
      },
      "source": [
        "<!--NAVIGATION-->\n",
        "< [IPython Magic Commands](01.03-Magic-Commands.ipynb) | [Contents](Index.ipynb) | [IPython and Shell Commands](01.05-IPython-And-Shell-Commands.ipynb) >\n",
        "\n",
        "<a href=\"https://colab.research.google.com/github/jakevdp/PythonDataScienceHandbook/blob/master/notebooks/01.04-Input-Output-History.ipynb\"><img align=\"left\" src=\"https://colab.research.google.com/assets/colab-badge.svg\" alt=\"Open in Colab\" title=\"Open and Execute in Google Colaboratory\"></a>\n"
      ]
    },
    {
      "cell_type": "markdown",
      "metadata": {
        "id": "BHoOM1cvoYHe"
      },
      "source": [
        "# Input and Output History"
      ]
    },
    {
      "cell_type": "markdown",
      "metadata": {
        "id": "Iy7focxFoYHe"
      },
      "source": [
        "Previously we saw that the IPython shell allows you to access previous commands with the up and down arrow keys, or equivalently the Ctrl-p/Ctrl-n shortcuts.\n",
        "Additionally, in both the shell and the notebook, IPython exposes several ways to obtain the output of previous commands, as well as string versions of the commands themselves.\n",
        "We'll explore those here."
      ]
    },
    {
      "cell_type": "markdown",
      "metadata": {
        "id": "X_GUHUQJoYHe"
      },
      "source": [
        "## IPython's ``In`` and ``Out`` Objects\n",
        "\n",
        "By now I imagine you're quite familiar with the ``In [1]:``/``Out[1]:`` style prompts used by IPython.\n",
        "But it turns out that these are not just pretty decoration: they give a clue as to how you can access previous inputs and outputs in your current session.\n",
        "Imagine you start a session that looks like this:\n",
        "\n",
        "```ipython\n",
        "In [1]: import math\n",
        "\n",
        "In [2]: math.sin(2)\n",
        "Out[2]: 0.9092974268256817\n",
        "\n",
        "In [3]: math.cos(2)\n",
        "Out[3]: -0.4161468365471424\n",
        "```"
      ]
    },
    {
      "cell_type": "code",
      "source": [
        "a=5\n",
        "a"
      ],
      "metadata": {
        "colab": {
          "base_uri": "https://localhost:8080/"
        },
        "id": "xoDsiDqMcOWD",
        "outputId": "9a2466b2-fd41-4361-c682-258f97db2189"
      },
      "execution_count": null,
      "outputs": [
        {
          "output_type": "execute_result",
          "data": {
            "text/plain": [
              "5"
            ]
          },
          "metadata": {},
          "execution_count": 7
        }
      ]
    },
    {
      "cell_type": "markdown",
      "metadata": {
        "id": "RoTVOm6LoYHe"
      },
      "source": [
        "We've imported the built-in ``math`` package, then computed the sine and the cosine of the number 2.\n",
        "These inputs and outputs are displayed in the shell with ``In``/``Out`` labels, but there's more–IPython actually creates some Python variables called ``In`` and ``Out`` that are automatically updated to reflect this history:\n",
        "\n",
        "```ipython\n",
        "In [4]: print(In)\n",
        "['', 'import math', 'math.sin(2)', 'math.cos(2)', 'print(In)']\n",
        "\n",
        "In [5]: Out\n",
        "Out[5]: {2: 0.9092974268256817, 3: -0.4161468365471424}\n",
        "```"
      ]
    },
    {
      "cell_type": "markdown",
      "metadata": {
        "id": "ApWFA8IQoYHe"
      },
      "source": [
        "The ``In`` object is a list, which keeps track of the commands in order (the first item in the list is a place-holder so that ``In[1]`` can refer to the first command):\n",
        "\n",
        "```ipython\n",
        "In [6]: print(In[1])\n",
        "import math\n",
        "```\n",
        "\n",
        "The ``Out`` object is not a list but a dictionary mapping input numbers to their outputs (if any):\n",
        "\n",
        "```ipython\n",
        "In [7]: print(Out[2])\n",
        "0.9092974268256817\n",
        "```\n",
        "\n",
        "Note that not all operations have outputs: for example, ``import`` statements and ``print`` statements don't affect the output.\n",
        "The latter may be surprising, but makes sense if you consider that ``print`` is a function that returns ``None``; for brevity, any command that returns ``None`` is not added to ``Out``.\n",
        "\n",
        "Where this can be useful is if you want to interact with past results.\n",
        "For example, let's check the sum of ``sin(2) ** 2`` and ``cos(2) ** 2`` using the previously-computed results:\n",
        "\n",
        "```ipython\n",
        "In [8]: Out[2] ** 2 + Out[3] ** 2\n",
        "Out[8]: 1.0\n",
        "```\n",
        "\n",
        "The result is ``1.0`` as we'd expect from the well-known trigonometric identity.\n",
        "In this case, using these previous results probably is not necessary, but it can become very handy if you execute a very expensive computation and want to reuse the result!"
      ]
    },
    {
      "cell_type": "code",
      "source": [],
      "metadata": {
        "id": "IeiZyqcRcNm7"
      },
      "execution_count": null,
      "outputs": []
    },
    {
      "cell_type": "markdown",
      "metadata": {
        "id": "kHK-8UqfoYHe"
      },
      "source": [
        "## Underscore Shortcuts and Previous Outputs\n",
        "\n",
        "The standard Python shell contains just one simple shortcut for accessing previous output; the variable ``_`` (i.e., a single underscore) is kept updated with the previous output; this works in IPython as well:\n",
        "\n",
        "```ipython\n",
        "In [9]: print(_)\n",
        "1.0\n",
        "```\n",
        "\n",
        "But IPython takes this a bit further—you can use a double underscore to access the second-to-last output, and a triple underscore to access the third-to-last output (skipping any commands with no output):\n",
        "\n",
        "```ipython\n",
        "In [10]: print(__)\n",
        "-0.4161468365471424\n",
        "\n",
        "In [11]: print(___)\n",
        "0.9092974268256817\n",
        "```\n",
        "\n",
        "IPython stops there: more than three underscores starts to get a bit hard to count, and at that point it's easier to refer to the output by line number.\n",
        "\n",
        "There is one more shortcut we should mention, however–a shorthand for ``Out[X]`` is ``_X`` (i.e., a single underscore followed by the line number):\n",
        "\n",
        "```ipython\n",
        "In [12]: Out[2]\n",
        "Out[12]: 0.9092974268256817\n",
        "\n",
        "In [13]: _2\n",
        "Out[13]: 0.9092974268256817\n",
        "```"
      ]
    },
    {
      "cell_type": "markdown",
      "metadata": {
        "id": "TT4DME4WoYHe"
      },
      "source": [
        "## Suppressing Output\n",
        "Sometimes you might wish to suppress the output of a statement (this is perhaps most common with the plotting commands that we'll explore in [Introduction to Matplotlib](04.00-Introduction-To-Matplotlib.ipynb)).\n",
        "Or maybe the command you're executing produces a result that you'd prefer not like to store in your output history, perhaps so that it can be deallocated when other references are removed.\n",
        "The easiest way to suppress the output of a command is to add a semicolon to the end of the line:\n",
        "\n",
        "```ipython\n",
        "In [14]: math.sin(2) + math.cos(2);\n",
        "```\n",
        "\n",
        "Note that the result is computed silently, and the output is neither displayed on the screen or stored in the ``Out`` dictionary:\n",
        "\n",
        "```ipython\n",
        "In [15]: 14 in Out\n",
        "Out[15]: False\n",
        "```"
      ]
    },
    {
      "cell_type": "markdown",
      "metadata": {
        "id": "EFXx8ELwoYHf"
      },
      "source": [
        "## Related Magic Commands\n",
        "For accessing a batch of previous inputs at once, the ``%history`` magic command is very helpful.\n",
        "Here is how you can print the first four inputs:\n",
        "\n",
        "```ipython\n",
        "In [16]: %history -n 1-4\n",
        "   1: import math\n",
        "   2: math.sin(2)\n",
        "   3: math.cos(2)\n",
        "   4: print(In)\n",
        "```\n",
        "\n",
        "As usual, you can type ``%history?`` for more information and a description of options available.\n",
        "Other similar magic commands are ``%rerun`` (which will re-execute some portion of the command history) and ``%save`` (which saves some set of the command history to a file).\n",
        "For more information, I suggest exploring these using the ``?`` help functionality discussed in [Help and Documentation in IPython](01.01-Help-And-Documentation.ipynb)."
      ]
    },
    {
      "cell_type": "markdown",
      "metadata": {
        "id": "Cfc115UUoYHf"
      },
      "source": [
        "<!--NAVIGATION-->\n",
        "< [IPython Magic Commands](01.03-Magic-Commands.ipynb) | [Contents](Index.ipynb) | [IPython and Shell Commands](01.05-IPython-And-Shell-Commands.ipynb) >\n",
        "\n",
        "<a href=\"https://colab.research.google.com/github/jakevdp/PythonDataScienceHandbook/blob/master/notebooks/01.04-Input-Output-History.ipynb\"><img align=\"left\" src=\"https://colab.research.google.com/assets/colab-badge.svg\" alt=\"Open in Colab\" title=\"Open and Execute in Google Colaboratory\"></a>\n"
      ]
    },
    {
      "cell_type": "markdown",
      "metadata": {
        "id": "8vc-nwDfoYHf"
      },
      "source": [
        "<!--BOOK_INFORMATION-->\n",
        "<img align=\"left\" style=\"padding-right:10px;\" src=\"figures/PDSH-cover-small.png\">\n",
        "\n",
        "*This notebook contains an excerpt from the [Python Data Science Handbook](http://shop.oreilly.com/product/0636920034919.do) by Jake VanderPlas; the content is available [on GitHub](https://github.com/jakevdp/PythonDataScienceHandbook).*\n",
        "\n",
        "*The text is released under the [CC-BY-NC-ND license](https://creativecommons.org/licenses/by-nc-nd/3.0/us/legalcode), and code is released under the [MIT license](https://opensource.org/licenses/MIT). If you find this content useful, please consider supporting the work by [buying the book](http://shop.oreilly.com/product/0636920034919.do)!*"
      ]
    },
    {
      "cell_type": "markdown",
      "metadata": {
        "id": "iynsYTEEoYHf"
      },
      "source": [
        "<!--NAVIGATION-->\n",
        "< [Input and Output History](01.04-Input-Output-History.ipynb) | [Contents](Index.ipynb) | [Errors and Debugging](01.06-Errors-and-Debugging.ipynb) >\n",
        "\n",
        "<a href=\"https://colab.research.google.com/github/jakevdp/PythonDataScienceHandbook/blob/master/notebooks/01.05-IPython-And-Shell-Commands.ipynb\"><img align=\"left\" src=\"https://colab.research.google.com/assets/colab-badge.svg\" alt=\"Open in Colab\" title=\"Open and Execute in Google Colaboratory\"></a>\n"
      ]
    },
    {
      "cell_type": "markdown",
      "metadata": {
        "id": "l-CYau8loYHf"
      },
      "source": [
        "# IPython and Shell Commands"
      ]
    },
    {
      "cell_type": "markdown",
      "metadata": {
        "id": "llnB2lW2oYHf"
      },
      "source": [
        "When working interactively with the standard Python interpreter, one of the frustrations is the need to switch between multiple windows to access Python tools and system command-line tools.\n",
        "IPython bridges this gap, and gives you a syntax for executing shell commands directly from within the IPython terminal.\n",
        "The magic happens with the exclamation point: anything appearing after ``!`` on a line will be executed not by the Python kernel, but by the system command-line.\n",
        "\n",
        "The following assumes you're on a Unix-like system, such as Linux or Mac OSX.\n",
        "Some of the examples that follow will fail on Windows, which uses a different type of shell by default (though with the 2016 announcement of native Bash shells on Windows, soon this may no longer be an issue!).\n",
        "If you're unfamiliar with shell commands, I'd suggest reviewing the [Shell Tutorial](http://swcarpentry.github.io/shell-novice/) put together by the always excellent Software Carpentry Foundation."
      ]
    },
    {
      "cell_type": "markdown",
      "metadata": {
        "id": "SyxfJrZloYHf"
      },
      "source": [
        "## Quick Introduction to the Shell\n",
        "\n",
        "A full intro to using the shell/terminal/command-line is well beyond the scope of this chapter, but for the uninitiated we will offer a quick introduction here.\n",
        "The shell is a way to interact textually with your computer.\n",
        "Ever since the mid 1980s, when Microsoft and Apple introduced the first versions of their now ubiquitous graphical operating systems, most computer users have interacted with their operating system through familiar clicking of menus and drag-and-drop movements.\n",
        "But operating systems existed long before these graphical user interfaces, and were primarily controlled through sequences of text input: at the prompt, the user would type a command, and the computer would do what the user told it to.\n",
        "Those early prompt systems are the precursors of the shells and terminals that most active data scientists still use today.\n",
        "\n",
        "Someone unfamiliar with the shell might ask why you would bother with this, when many results can be accomplished by simply clicking on icons and menus.\n",
        "A shell user might reply with another question: why hunt icons and click menus when you can accomplish things much more easily by typing?\n",
        "While it might sound like a typical tech preference impasse, when moving beyond basic tasks it quickly becomes clear that the shell offers much more control of advanced tasks, though admittedly the learning curve can intimidate the average computer user.\n",
        "\n",
        "As an example, here is a sample of a Linux/OSX shell session where a user explores, creates, and modifies directories and files on their system (``osx:~ $`` is the prompt, and everything after the ``$`` sign is the typed command; text that is preceded by a ``#`` is meant just as description, rather than something you would actually type in):\n",
        "\n",
        "```bash\n",
        "osx:~ $ echo \"hello world\"             # echo is like Python's print function\n",
        "hello world\n",
        "\n",
        "osx:~ $ pwd                            # pwd = print working directory\n",
        "/home/jake                             # this is the \"path\" that we're sitting in\n",
        "\n",
        "osx:~ $ ls                             # ls = list working directory contents\n",
        "notebooks  projects\n",
        "\n",
        "osx:~ $ cd projects/                   # cd = change directory\n",
        "\n",
        "osx:projects $ pwd\n",
        "/home/jake/projects\n",
        "\n",
        "osx:projects $ ls\n",
        "datasci_book   mpld3   myproject.txt\n",
        "\n",
        "osx:projects $ mkdir myproject          # mkdir = make new directory\n",
        "\n",
        "osx:projects $ cd myproject/\n",
        "\n",
        "osx:myproject $ mv ../myproject.txt ./  # mv = move file. Here we're moving the\n",
        "                                        # file myproject.txt from one directory\n",
        "                                        # up (../) to the current directory (./)\n",
        "osx:myproject $ ls\n",
        "myproject.txt\n",
        "```\n",
        "\n",
        "Notice that all of this is just a compact way to do familiar operations (navigating a directory structure, creating a directory, moving a file, etc.) by typing commands rather than clicking icons and menus.\n",
        "Note that with just a few commands (``pwd``, ``ls``, ``cd``, ``mkdir``, and ``cp``) you can do many of the most common file operations.\n",
        "It's when you go beyond these basics that the shell approach becomes really powerful."
      ]
    },
    {
      "cell_type": "code",
      "source": [
        "!ls"
      ],
      "metadata": {
        "colab": {
          "base_uri": "https://localhost:8080/"
        },
        "id": "tODcKkqQdxkT",
        "outputId": "576a252b-326e-45cc-d2d1-101c7d515823"
      },
      "execution_count": null,
      "outputs": [
        {
          "output_type": "stream",
          "name": "stdout",
          "text": [
            "runs.csv  sample_data\n"
          ]
        }
      ]
    },
    {
      "cell_type": "code",
      "source": [
        "!mkdir new_data"
      ],
      "metadata": {
        "id": "eHWA1VcBd3GD"
      },
      "execution_count": null,
      "outputs": []
    },
    {
      "cell_type": "code",
      "source": [
        "!pip install sweetviz"
      ],
      "metadata": {
        "colab": {
          "base_uri": "https://localhost:8080/"
        },
        "id": "LenJoqcwdFsr",
        "outputId": "438a1a96-33ad-4b07-d380-13714db6f040"
      },
      "execution_count": null,
      "outputs": [
        {
          "output_type": "stream",
          "name": "stdout",
          "text": [
            "Looking in indexes: https://pypi.org/simple, https://us-python.pkg.dev/colab-wheels/public/simple/\n",
            "Collecting sweetviz\n",
            "  Downloading sweetviz-2.1.4-py3-none-any.whl (15.1 MB)\n",
            "\u001b[2K     \u001b[90m━━━━━━━━━━━━━━━━━━━━━━━━━━━━━━━━━━━━━━━━\u001b[0m \u001b[32m15.1/15.1 MB\u001b[0m \u001b[31m79.8 MB/s\u001b[0m eta \u001b[36m0:00:00\u001b[0m\n",
            "\u001b[?25hRequirement already satisfied: scipy>=1.3.2 in /usr/local/lib/python3.8/dist-packages (from sweetviz) (1.10.1)\n",
            "Requirement already satisfied: pandas!=1.0.0,!=1.0.1,!=1.0.2,>=0.25.3 in /usr/local/lib/python3.8/dist-packages (from sweetviz) (1.3.5)\n",
            "Requirement already satisfied: numpy>=1.16.0 in /usr/local/lib/python3.8/dist-packages (from sweetviz) (1.22.4)\n",
            "Requirement already satisfied: jinja2>=2.11.1 in /usr/local/lib/python3.8/dist-packages (from sweetviz) (3.1.2)\n",
            "Requirement already satisfied: matplotlib>=3.1.3 in /usr/local/lib/python3.8/dist-packages (from sweetviz) (3.5.3)\n",
            "Requirement already satisfied: tqdm>=4.43.0 in /usr/local/lib/python3.8/dist-packages (from sweetviz) (4.64.1)\n",
            "Requirement already satisfied: importlib-resources>=1.2.0 in /usr/local/lib/python3.8/dist-packages (from sweetviz) (5.12.0)\n",
            "Requirement already satisfied: zipp>=3.1.0 in /usr/local/lib/python3.8/dist-packages (from importlib-resources>=1.2.0->sweetviz) (3.15.0)\n",
            "Requirement already satisfied: MarkupSafe>=2.0 in /usr/local/lib/python3.8/dist-packages (from jinja2>=2.11.1->sweetviz) (2.1.2)\n",
            "Requirement already satisfied: pyparsing>=2.2.1 in /usr/local/lib/python3.8/dist-packages (from matplotlib>=3.1.3->sweetviz) (3.0.9)\n",
            "Requirement already satisfied: kiwisolver>=1.0.1 in /usr/local/lib/python3.8/dist-packages (from matplotlib>=3.1.3->sweetviz) (1.4.4)\n",
            "Requirement already satisfied: cycler>=0.10 in /usr/local/lib/python3.8/dist-packages (from matplotlib>=3.1.3->sweetviz) (0.11.0)\n",
            "Requirement already satisfied: fonttools>=4.22.0 in /usr/local/lib/python3.8/dist-packages (from matplotlib>=3.1.3->sweetviz) (4.38.0)\n",
            "Requirement already satisfied: python-dateutil>=2.7 in /usr/local/lib/python3.8/dist-packages (from matplotlib>=3.1.3->sweetviz) (2.8.2)\n",
            "Requirement already satisfied: packaging>=20.0 in /usr/local/lib/python3.8/dist-packages (from matplotlib>=3.1.3->sweetviz) (23.0)\n",
            "Requirement already satisfied: pillow>=6.2.0 in /usr/local/lib/python3.8/dist-packages (from matplotlib>=3.1.3->sweetviz) (8.4.0)\n",
            "Requirement already satisfied: pytz>=2017.3 in /usr/local/lib/python3.8/dist-packages (from pandas!=1.0.0,!=1.0.1,!=1.0.2,>=0.25.3->sweetviz) (2022.7.1)\n",
            "Requirement already satisfied: six>=1.5 in /usr/local/lib/python3.8/dist-packages (from python-dateutil>=2.7->matplotlib>=3.1.3->sweetviz) (1.15.0)\n",
            "Installing collected packages: sweetviz\n",
            "Successfully installed sweetviz-2.1.4\n"
          ]
        }
      ]
    },
    {
      "cell_type": "markdown",
      "metadata": {
        "id": "SF6WSvBfoYHf"
      },
      "source": [
        "## Shell Commands in IPython\n",
        "\n",
        "Any command that works at the command-line can be used in IPython by prefixing it with the ``!`` character.\n",
        "For example, the ``ls``, ``pwd``, and ``echo`` commands can be run as follows:\n",
        "\n",
        "```ipython\n",
        "In [1]: !ls\n",
        "myproject.txt\n",
        "\n",
        "In [2]: !pwd\n",
        "/home/jake/projects/myproject\n",
        "\n",
        "In [3]: !echo \"printing from the shell\"\n",
        "printing from the shell\n",
        "```"
      ]
    },
    {
      "cell_type": "code",
      "source": [
        "!pip list\n",
        "!pip install sweetviz"
      ],
      "metadata": {
        "colab": {
          "base_uri": "https://localhost:8080/"
        },
        "id": "lpof96-UgJUw",
        "outputId": "93f6256f-df33-4c62-c9f7-bdcd586a285a"
      },
      "execution_count": null,
      "outputs": [
        {
          "output_type": "stream",
          "name": "stdout",
          "text": [
            "Package                       Version\n",
            "----------------------------- ---------------------\n",
            "absl-py                       1.0.0\n",
            "alabaster                     0.7.12\n",
            "albumentations                0.1.12\n",
            "altair                        4.2.0\n",
            "appdirs                       1.4.4\n",
            "argon2-cffi                   21.3.0\n",
            "argon2-cffi-bindings          21.2.0\n",
            "arviz                         0.11.4\n",
            "astor                         0.8.1\n",
            "astropy                       4.3.1\n",
            "astunparse                    1.6.3\n",
            "atari-py                      0.2.9\n",
            "atomicwrites                  1.4.0\n",
            "attrs                         21.4.0\n",
            "audioread                     2.1.9\n",
            "autograd                      1.3\n",
            "Babel                         2.9.1\n",
            "backcall                      0.2.0\n",
            "beautifulsoup4                4.6.3\n",
            "bleach                        4.1.0\n",
            "blis                          0.4.1\n",
            "bokeh                         2.3.3\n",
            "Bottleneck                    1.3.4\n",
            "branca                        0.4.2\n",
            "bs4                           0.0.1\n",
            "CacheControl                  0.12.10\n",
            "cached-property               1.5.2\n",
            "cachetools                    4.2.4\n",
            "catalogue                     1.0.0\n",
            "certifi                       2021.10.8\n",
            "cffi                          1.15.0\n",
            "cftime                        1.5.2\n",
            "chardet                       3.0.4\n",
            "charset-normalizer            2.0.12\n",
            "click                         7.1.2\n",
            "cloudpickle                   1.3.0\n",
            "cmake                         3.12.0\n",
            "cmdstanpy                     0.9.5\n",
            "colorcet                      3.0.0\n",
            "colorlover                    0.3.0\n",
            "community                     1.0.0b1\n",
            "contextlib2                   0.5.5\n",
            "convertdate                   2.4.0\n",
            "coverage                      3.7.1\n",
            "coveralls                     0.5\n",
            "crcmod                        1.7\n",
            "cufflinks                     0.17.3\n",
            "cvxopt                        1.2.7\n",
            "cvxpy                         1.0.31\n",
            "cycler                        0.11.0\n",
            "cymem                         2.0.6\n",
            "Cython                        0.29.28\n",
            "daft                          0.0.4\n",
            "dask                          2.12.0\n",
            "datascience                   0.10.6\n",
            "debugpy                       1.0.0\n",
            "decorator                     4.4.2\n",
            "defusedxml                    0.7.1\n",
            "descartes                     1.1.0\n",
            "dill                          0.3.4\n",
            "distributed                   1.25.3\n",
            "dlib                          19.18.0\n",
            "dm-tree                       0.1.6\n",
            "docopt                        0.6.2\n",
            "docutils                      0.17.1\n",
            "dopamine-rl                   1.0.5\n",
            "earthengine-api               0.1.300\n",
            "easydict                      1.9\n",
            "ecos                          2.0.10\n",
            "editdistance                  0.5.3\n",
            "en-core-web-sm                2.2.5\n",
            "entrypoints                   0.4\n",
            "ephem                         4.1.3\n",
            "et-xmlfile                    1.1.0\n",
            "fa2                           0.3.5\n",
            "fastai                        1.0.61\n",
            "fastdtw                       0.3.4\n",
            "fastprogress                  1.0.2\n",
            "fastrlock                     0.8\n",
            "fbprophet                     0.7.1\n",
            "feather-format                0.4.1\n",
            "filelock                      3.6.0\n",
            "firebase-admin                4.4.0\n",
            "fix-yahoo-finance             0.0.22\n",
            "Flask                         1.1.4\n",
            "flatbuffers                   2.0\n",
            "folium                        0.8.3\n",
            "future                        0.16.0\n",
            "gast                          0.5.3\n",
            "GDAL                          2.2.2\n",
            "gdown                         4.2.2\n",
            "gensim                        3.6.0\n",
            "geographiclib                 1.52\n",
            "geopy                         1.17.0\n",
            "gin-config                    0.5.0\n",
            "glob2                         0.7\n",
            "google                        2.0.3\n",
            "google-api-core               1.26.3\n",
            "google-api-python-client      1.12.10\n",
            "google-auth                   1.35.0\n",
            "google-auth-httplib2          0.0.4\n",
            "google-auth-oauthlib          0.4.6\n",
            "google-cloud-bigquery         1.21.0\n",
            "google-cloud-bigquery-storage 1.1.0\n",
            "google-cloud-core             1.0.3\n",
            "google-cloud-datastore        1.8.0\n",
            "google-cloud-firestore        1.7.0\n",
            "google-cloud-language         1.2.0\n",
            "google-cloud-storage          1.18.1\n",
            "google-cloud-translate        1.5.0\n",
            "google-colab                  1.0.0\n",
            "google-pasta                  0.2.0\n",
            "google-resumable-media        0.4.1\n",
            "googleapis-common-protos      1.55.0\n",
            "googledrivedownloader         0.4\n",
            "graphviz                      0.10.1\n",
            "greenlet                      1.1.2\n",
            "grpcio                        1.44.0\n",
            "gspread                       3.4.2\n",
            "gspread-dataframe             3.0.8\n",
            "gym                           0.17.3\n",
            "h5py                          3.1.0\n",
            "HeapDict                      1.0.1\n",
            "hijri-converter               2.2.3\n",
            "holidays                      0.10.5.2\n",
            "holoviews                     1.14.8\n",
            "html5lib                      1.0.1\n",
            "httpimport                    0.5.18\n",
            "httplib2                      0.17.4\n",
            "httplib2shim                  0.0.3\n",
            "humanize                      0.5.1\n",
            "hyperopt                      0.1.2\n",
            "ideep4py                      2.0.0.post3\n",
            "idna                          2.10\n",
            "imageio                       2.4.1\n",
            "imagesize                     1.3.0\n",
            "imbalanced-learn              0.8.1\n",
            "imblearn                      0.0\n",
            "imgaug                        0.2.9\n",
            "importlib-metadata            4.11.1\n",
            "importlib-resources           5.4.0\n",
            "imutils                       0.5.4\n",
            "inflect                       2.1.0\n",
            "iniconfig                     1.1.1\n",
            "intel-openmp                  2022.0.2\n",
            "intervaltree                  2.1.0\n",
            "ipykernel                     4.10.1\n",
            "ipython                       5.5.0\n",
            "ipython-genutils              0.2.0\n",
            "ipython-sql                   0.3.9\n",
            "ipywidgets                    7.6.5\n",
            "itsdangerous                  1.1.0\n",
            "jax                           0.3.1\n",
            "jaxlib                        0.3.0+cuda11.cudnn805\n",
            "jedi                          0.18.1\n",
            "jieba                         0.42.1\n",
            "Jinja2                        2.11.3\n",
            "joblib                        1.1.0\n",
            "jpeg4py                       0.1.4\n",
            "jsonschema                    4.3.3\n",
            "jupyter                       1.0.0\n",
            "jupyter-client                5.3.5\n",
            "jupyter-console               5.2.0\n",
            "jupyter-core                  4.9.2\n",
            "jupyterlab-pygments           0.1.2\n",
            "jupyterlab-widgets            1.0.2\n",
            "kaggle                        1.5.12\n",
            "kapre                         0.3.7\n",
            "keras                         2.8.0\n",
            "Keras-Preprocessing           1.1.2\n",
            "keras-vis                     0.4.1\n",
            "kiwisolver                    1.3.2\n",
            "korean-lunar-calendar         0.2.1\n",
            "libclang                      13.0.0\n",
            "librosa                       0.8.1\n",
            "lightgbm                      2.2.3\n",
            "llvmlite                      0.34.0\n",
            "lmdb                          0.99\n",
            "LunarCalendar                 0.0.9\n",
            "lxml                          4.2.6\n",
            "Markdown                      3.3.6\n",
            "MarkupSafe                    2.0.1\n",
            "matplotlib                    3.2.2\n",
            "matplotlib-inline             0.1.3\n",
            "matplotlib-venn               0.11.6\n",
            "missingno                     0.5.0\n",
            "mistune                       0.8.4\n",
            "mizani                        0.6.0\n",
            "mkl                           2019.0\n",
            "mlxtend                       0.14.0\n",
            "more-itertools                8.12.0\n",
            "moviepy                       0.2.3.5\n",
            "mpmath                        1.2.1\n",
            "msgpack                       1.0.3\n",
            "multiprocess                  0.70.12.2\n",
            "multitasking                  0.0.10\n",
            "murmurhash                    1.0.6\n",
            "music21                       5.5.0\n",
            "natsort                       5.5.0\n",
            "nbclient                      0.5.11\n",
            "nbconvert                     5.6.1\n",
            "nbformat                      5.1.3\n",
            "nest-asyncio                  1.5.4\n",
            "netCDF4                       1.5.8\n",
            "networkx                      2.6.3\n",
            "nibabel                       3.0.2\n",
            "nltk                          3.2.5\n",
            "notebook                      5.3.1\n",
            "numba                         0.51.2\n",
            "numexpr                       2.8.1\n",
            "numpy                         1.21.5\n",
            "nvidia-ml-py3                 7.352.0\n",
            "oauth2client                  4.1.3\n",
            "oauthlib                      3.2.0\n",
            "okgrade                       0.4.3\n",
            "opencv-contrib-python         4.1.2.30\n",
            "opencv-python                 4.1.2.30\n",
            "openpyxl                      3.0.9\n",
            "opt-einsum                    3.3.0\n",
            "osqp                          0.6.2.post0\n",
            "packaging                     21.3\n",
            "palettable                    3.3.0\n",
            "pandas                        1.3.5\n",
            "pandas-datareader             0.9.0\n",
            "pandas-gbq                    0.13.3\n",
            "pandas-profiling              1.4.1\n",
            "pandocfilters                 1.5.0\n",
            "panel                         0.12.1\n",
            "param                         1.12.0\n",
            "parso                         0.8.3\n",
            "pathlib                       1.0.1\n",
            "patsy                         0.5.2\n",
            "pep517                        0.12.0\n",
            "pexpect                       4.8.0\n",
            "pickleshare                   0.7.5\n",
            "Pillow                        7.1.2\n",
            "pip                           21.1.3\n",
            "pip-tools                     6.2.0\n",
            "plac                          1.1.3\n",
            "plotly                        5.5.0\n",
            "plotnine                      0.6.0\n",
            "pluggy                        0.7.1\n",
            "pooch                         1.6.0\n",
            "portpicker                    1.3.9\n",
            "prefetch-generator            1.0.1\n",
            "preshed                       3.0.6\n",
            "prettytable                   3.1.1\n",
            "progressbar2                  3.38.0\n",
            "prometheus-client             0.13.1\n",
            "promise                       2.3\n",
            "prompt-toolkit                1.0.18\n",
            "protobuf                      3.17.3\n",
            "psutil                        5.4.8\n",
            "psycopg2                      2.7.6.1\n",
            "ptyprocess                    0.7.0\n",
            "py                            1.11.0\n",
            "pyarrow                       6.0.1\n",
            "pyasn1                        0.4.8\n",
            "pyasn1-modules                0.2.8\n",
            "pycocotools                   2.0.4\n",
            "pycparser                     2.21\n",
            "pyct                          0.4.8\n",
            "pydata-google-auth            1.3.0\n",
            "pydot                         1.3.0\n",
            "pydot-ng                      2.0.0\n",
            "pydotplus                     2.0.2\n",
            "PyDrive                       1.3.1\n",
            "pyemd                         0.5.1\n",
            "pyerfa                        2.0.0.1\n",
            "pyglet                        1.5.0\n",
            "Pygments                      2.6.1\n",
            "pygobject                     3.26.1\n",
            "pymc3                         3.11.4\n",
            "PyMeeus                       0.5.11\n",
            "pymongo                       4.0.1\n",
            "pymystem3                     0.2.0\n",
            "PyOpenGL                      3.1.6\n",
            "pyparsing                     3.0.7\n",
            "pyrsistent                    0.18.1\n",
            "pysndfile                     1.3.8\n",
            "PySocks                       1.7.1\n",
            "pystan                        2.19.1.1\n",
            "pytest                        3.6.4\n",
            "python-apt                    0.0.0\n",
            "python-chess                  0.23.11\n",
            "python-dateutil               2.8.2\n",
            "python-louvain                0.16\n",
            "python-slugify                6.1.0\n",
            "python-utils                  3.1.0\n",
            "pytz                          2018.9\n",
            "pyviz-comms                   2.1.0\n",
            "PyWavelets                    1.2.0\n",
            "PyYAML                        3.13\n",
            "pyzmq                         22.3.0\n",
            "qdldl                         0.1.5.post0\n",
            "qtconsole                     5.2.2\n",
            "QtPy                          2.0.1\n",
            "regex                         2019.12.20\n",
            "requests                      2.23.0\n",
            "requests-oauthlib             1.3.1\n",
            "resampy                       0.2.2\n",
            "rpy2                          3.4.5\n",
            "rsa                           4.8\n",
            "scikit-image                  0.18.3\n",
            "scikit-learn                  1.0.2\n",
            "scipy                         1.4.1\n",
            "screen-resolution-extra       0.0.0\n",
            "scs                           3.2.0\n",
            "seaborn                       0.11.2\n",
            "semver                        2.13.0\n",
            "Send2Trash                    1.8.0\n",
            "setuptools                    57.4.0\n",
            "setuptools-git                1.2\n",
            "Shapely                       1.8.1.post1\n",
            "simplegeneric                 0.8.1\n",
            "six                           1.15.0\n",
            "sklearn                       0.0\n",
            "sklearn-pandas                1.8.0\n",
            "smart-open                    5.2.1\n",
            "snowballstemmer               2.2.0\n",
            "sortedcontainers              2.4.0\n",
            "SoundFile                     0.10.3.post1\n",
            "spacy                         2.2.4\n",
            "Sphinx                        1.8.6\n",
            "sphinxcontrib-serializinghtml 1.1.5\n",
            "sphinxcontrib-websupport      1.2.4\n",
            "SQLAlchemy                    1.4.31\n",
            "sqlparse                      0.4.2\n",
            "srsly                         1.0.5\n",
            "statsmodels                   0.10.2\n",
            "sympy                         1.7.1\n",
            "tables                        3.7.0\n",
            "tabulate                      0.8.9\n",
            "tblib                         1.7.0\n",
            "tenacity                      8.0.1\n",
            "tensorboard                   2.8.0\n",
            "tensorboard-data-server       0.6.1\n",
            "tensorboard-plugin-wit        1.8.1\n",
            "tensorflow                    2.8.0\n",
            "tensorflow-datasets           4.0.1\n",
            "tensorflow-estimator          2.8.0\n",
            "tensorflow-gcs-config         2.8.0\n",
            "tensorflow-hub                0.12.0\n",
            "tensorflow-io-gcs-filesystem  0.24.0\n",
            "tensorflow-metadata           1.6.0\n",
            "tensorflow-probability        0.16.0\n",
            "termcolor                     1.1.0\n",
            "terminado                     0.13.1\n",
            "testpath                      0.6.0\n",
            "text-unidecode                1.3\n",
            "textblob                      0.15.3\n",
            "Theano-PyMC                   1.1.2\n",
            "thinc                         7.4.0\n",
            "threadpoolctl                 3.1.0\n",
            "tifffile                      2021.11.2\n",
            "tomli                         2.0.1\n",
            "toolz                         0.11.2\n",
            "torch                         1.10.0+cu111\n",
            "torchaudio                    0.10.0+cu111\n",
            "torchsummary                  1.5.1\n",
            "torchtext                     0.11.0\n",
            "torchvision                   0.11.1+cu111\n",
            "tornado                       5.1.1\n",
            "tqdm                          4.62.3\n",
            "traitlets                     5.1.1\n",
            "tweepy                        3.10.0\n",
            "typeguard                     2.7.1\n",
            "typing-extensions             3.10.0.2\n",
            "tzlocal                       1.5.1\n",
            "uritemplate                   3.0.1\n",
            "urllib3                       1.24.3\n",
            "vega-datasets                 0.9.0\n",
            "wasabi                        0.9.0\n",
            "wcwidth                       0.2.5\n",
            "webencodings                  0.5.1\n",
            "Werkzeug                      1.0.1\n",
            "wheel                         0.37.1\n",
            "widgetsnbextension            3.5.2\n",
            "wordcloud                     1.5.0\n",
            "wrapt                         1.13.3\n",
            "xarray                        0.18.2\n",
            "xgboost                       0.90\n",
            "xkit                          0.0.0\n",
            "xlrd                          1.1.0\n",
            "xlwt                          1.3.0\n",
            "zict                          2.0.0\n",
            "zipp                          3.7.0\n",
            "Collecting sweetviz\n",
            "  Downloading sweetviz-2.1.3-py3-none-any.whl (15.1 MB)\n",
            "\u001b[K     |████████████████████████████████| 15.1 MB 3.8 MB/s \n",
            "\u001b[?25hRequirement already satisfied: jinja2>=2.11.1 in /usr/local/lib/python3.7/dist-packages (from sweetviz) (2.11.3)\n",
            "Requirement already satisfied: matplotlib>=3.1.3 in /usr/local/lib/python3.7/dist-packages (from sweetviz) (3.2.2)\n",
            "Requirement already satisfied: tqdm>=4.43.0 in /usr/local/lib/python3.7/dist-packages (from sweetviz) (4.62.3)\n",
            "Requirement already satisfied: numpy>=1.16.0 in /usr/local/lib/python3.7/dist-packages (from sweetviz) (1.21.5)\n",
            "Requirement already satisfied: scipy>=1.3.2 in /usr/local/lib/python3.7/dist-packages (from sweetviz) (1.4.1)\n",
            "Requirement already satisfied: pandas!=1.0.0,!=1.0.1,!=1.0.2,>=0.25.3 in /usr/local/lib/python3.7/dist-packages (from sweetviz) (1.3.5)\n",
            "Requirement already satisfied: importlib-resources>=1.2.0 in /usr/local/lib/python3.7/dist-packages (from sweetviz) (5.4.0)\n",
            "Requirement already satisfied: zipp>=3.1.0 in /usr/local/lib/python3.7/dist-packages (from importlib-resources>=1.2.0->sweetviz) (3.7.0)\n",
            "Requirement already satisfied: MarkupSafe>=0.23 in /usr/local/lib/python3.7/dist-packages (from jinja2>=2.11.1->sweetviz) (2.0.1)\n",
            "Requirement already satisfied: cycler>=0.10 in /usr/local/lib/python3.7/dist-packages (from matplotlib>=3.1.3->sweetviz) (0.11.0)\n",
            "Requirement already satisfied: pyparsing!=2.0.4,!=2.1.2,!=2.1.6,>=2.0.1 in /usr/local/lib/python3.7/dist-packages (from matplotlib>=3.1.3->sweetviz) (3.0.7)\n",
            "Requirement already satisfied: python-dateutil>=2.1 in /usr/local/lib/python3.7/dist-packages (from matplotlib>=3.1.3->sweetviz) (2.8.2)\n",
            "Requirement already satisfied: kiwisolver>=1.0.1 in /usr/local/lib/python3.7/dist-packages (from matplotlib>=3.1.3->sweetviz) (1.3.2)\n",
            "Requirement already satisfied: pytz>=2017.3 in /usr/local/lib/python3.7/dist-packages (from pandas!=1.0.0,!=1.0.1,!=1.0.2,>=0.25.3->sweetviz) (2018.9)\n",
            "Requirement already satisfied: six>=1.5 in /usr/local/lib/python3.7/dist-packages (from python-dateutil>=2.1->matplotlib>=3.1.3->sweetviz) (1.15.0)\n",
            "Installing collected packages: sweetviz\n",
            "Successfully installed sweetviz-2.1.3\n"
          ]
        }
      ]
    },
    {
      "cell_type": "markdown",
      "metadata": {
        "id": "OFejUpz_oYHf"
      },
      "source": [
        "## Passing Values to and from the Shell\n",
        "\n",
        "Shell commands can not only be called from IPython, but can also be made to interact with the IPython namespace.\n",
        "For example, you can save the output of any shell command to a Python list using the assignment operator:\n",
        "\n",
        "```ipython\n",
        "In [4]: contents = !ls\n",
        "\n",
        "In [5]: print(contents)\n",
        "['myproject.txt']\n",
        "\n",
        "In [6]: directory = !pwd\n",
        "\n",
        "In [7]: print(directory)\n",
        "['/Users/jakevdp/notebooks/tmp/myproject']\n",
        "```\n",
        "\n",
        "Note that these results are not returned as lists, but as a special shell return type defined in IPython:\n",
        "\n",
        "```ipython\n",
        "In [8]: type(directory)\n",
        "IPython.utils.text.SList\n",
        "```\n",
        "\n",
        "This looks and acts a lot like a Python list, but has additional functionality, such as\n",
        "the ``grep`` and ``fields`` methods and the ``s``, ``n``, and ``p`` properties that allow you to search, filter, and display the results in convenient ways.\n",
        "For more information on these, you can use IPython's built-in help features."
      ]
    },
    {
      "cell_type": "markdown",
      "metadata": {
        "id": "QOFFF_fzoYHg"
      },
      "source": [
        "Communication in the other direction–passing Python variables into the shell–is possible using the ``{varname}`` syntax:\n",
        "\n",
        "```ipython\n",
        "In [9]: message = \"hello from Python\"\n",
        "\n",
        "In [10]: !echo {message}\n",
        "hello from Python\n",
        "```\n",
        "\n",
        "The curly braces contain the variable name, which is replaced by the variable's contents in the shell command."
      ]
    },
    {
      "cell_type": "markdown",
      "metadata": {
        "id": "BF10Pn6FoYHg"
      },
      "source": [
        "# Shell-Related Magic Commands\n",
        "\n",
        "If you play with IPython's shell commands for a while, you might notice that you cannot use ``!cd`` to navigate the filesystem:\n",
        "\n",
        "```ipython\n",
        "In [11]: !pwd\n",
        "/home/jake/projects/myproject\n",
        "\n",
        "In [12]: !cd ..\n",
        "\n",
        "In [13]: !pwd\n",
        "/home/jake/projects/myproject\n",
        "```\n",
        "\n",
        "The reason is that shell commands in the notebook are executed in a temporary subshell.\n",
        "If you'd like to change the working directory in a more enduring way, you can use the ``%cd`` magic command:\n",
        "\n",
        "```ipython\n",
        "In [14]: %cd ..\n",
        "/home/jake/projects\n",
        "```\n",
        "\n",
        "In fact, by default you can even use this without the ``%`` sign:\n",
        "\n",
        "```ipython\n",
        "In [15]: cd myproject\n",
        "/home/jake/projects/myproject\n",
        "```\n",
        "\n",
        "This is known as an ``automagic`` function, and this behavior can be toggled with the ``%automagic`` magic function.\n",
        "\n",
        "Besides ``%cd``, other available shell-like magic functions are ``%cat``, ``%cp``, ``%env``, ``%ls``, ``%man``, ``%mkdir``, ``%more``, ``%mv``, ``%pwd``, ``%rm``, and ``%rmdir``, any of which can be used without the ``%`` sign if ``automagic`` is on.\n",
        "This makes it so that you can almost treat the IPython prompt as if it's a normal shell:\n",
        "\n",
        "```ipython\n",
        "In [16]: mkdir tmp\n",
        "\n",
        "In [17]: ls\n",
        "myproject.txt  tmp/\n",
        "\n",
        "In [18]: cp myproject.txt tmp/\n",
        "\n",
        "In [19]: ls tmp\n",
        "myproject.txt\n",
        "\n",
        "In [20]: rm -r tmp\n",
        "```\n",
        "\n",
        "This access to the shell from within the same terminal window as your Python session means that there is a lot less switching back and forth between interpreter and shell as you write your Python code."
      ]
    },
    {
      "cell_type": "markdown",
      "metadata": {
        "id": "6supmcKPoYHg"
      },
      "source": [
        "# Errors and Debugging"
      ]
    },
    {
      "cell_type": "markdown",
      "metadata": {
        "id": "zdyjA3uwoYHg"
      },
      "source": [
        "Code development and data analysis always require a bit of trial and error, and IPython contains tools to streamline this process.\n",
        "This section will briefly cover some options for controlling Python's exception reporting, followed by exploring tools for debugging errors in code."
      ]
    },
    {
      "cell_type": "markdown",
      "metadata": {
        "id": "J1vaGG0woYHg"
      },
      "source": [
        "## Controlling Exceptions: ``%xmode``\n",
        "\n",
        "Most of the time when a Python script fails, it will raise an Exception.\n",
        "When the interpreter hits one of these exceptions, information about the cause of the error can be found in the *traceback*, which can be accessed from within Python.\n",
        "With the ``%xmode`` magic function, IPython allows you to control the amount of information printed when the exception is raised.\n",
        "Consider the following code:"
      ]
    },
    {
      "cell_type": "code",
      "execution_count": null,
      "metadata": {
        "id": "OWyFQEIboYHg"
      },
      "outputs": [],
      "source": [
        "def func1(a, b):\n",
        "    return a / b\n",
        "\n",
        "def func2(x):\n",
        "    a = x\n",
        "    b = x - 1\n",
        "    return func1(a, b)"
      ]
    },
    {
      "cell_type": "code",
      "execution_count": null,
      "metadata": {
        "id": "7vr30N73oYHh",
        "outputId": "deabb46a-1bc2-47b5-f95b-f85581c9f049"
      },
      "outputs": [
        {
          "ename": "ZeroDivisionError",
          "evalue": "division by zero",
          "output_type": "error",
          "traceback": [
            "\u001b[0;31m---------------------------------------------------------------------------\u001b[0m\n\u001b[0;31mZeroDivisionError\u001b[0m                         Traceback (most recent call last)",
            "\u001b[0;32m<ipython-input-2-b2e110f6fc8f>\u001b[0m in \u001b[0;36m<module>\u001b[0;34m()\u001b[0m\n\u001b[0;32m----> 1\u001b[0;31m \u001b[0mfunc2\u001b[0m\u001b[0;34m(\u001b[0m\u001b[0;36m1\u001b[0m\u001b[0;34m)\u001b[0m\u001b[0;34m\u001b[0m\u001b[0m\n\u001b[0m",
            "\u001b[0;32m<ipython-input-1-d849e34d61fb>\u001b[0m in \u001b[0;36mfunc2\u001b[0;34m(x)\u001b[0m\n\u001b[1;32m      5\u001b[0m     \u001b[0ma\u001b[0m \u001b[0;34m=\u001b[0m \u001b[0mx\u001b[0m\u001b[0;34m\u001b[0m\u001b[0m\n\u001b[1;32m      6\u001b[0m     \u001b[0mb\u001b[0m \u001b[0;34m=\u001b[0m \u001b[0mx\u001b[0m \u001b[0;34m-\u001b[0m \u001b[0;36m1\u001b[0m\u001b[0;34m\u001b[0m\u001b[0m\n\u001b[0;32m----> 7\u001b[0;31m     \u001b[0;32mreturn\u001b[0m \u001b[0mfunc1\u001b[0m\u001b[0;34m(\u001b[0m\u001b[0ma\u001b[0m\u001b[0;34m,\u001b[0m \u001b[0mb\u001b[0m\u001b[0;34m)\u001b[0m\u001b[0;34m\u001b[0m\u001b[0m\n\u001b[0m",
            "\u001b[0;32m<ipython-input-1-d849e34d61fb>\u001b[0m in \u001b[0;36mfunc1\u001b[0;34m(a, b)\u001b[0m\n\u001b[1;32m      1\u001b[0m \u001b[0;32mdef\u001b[0m \u001b[0mfunc1\u001b[0m\u001b[0;34m(\u001b[0m\u001b[0ma\u001b[0m\u001b[0;34m,\u001b[0m \u001b[0mb\u001b[0m\u001b[0;34m)\u001b[0m\u001b[0;34m:\u001b[0m\u001b[0;34m\u001b[0m\u001b[0m\n\u001b[0;32m----> 2\u001b[0;31m     \u001b[0;32mreturn\u001b[0m \u001b[0ma\u001b[0m \u001b[0;34m/\u001b[0m \u001b[0mb\u001b[0m\u001b[0;34m\u001b[0m\u001b[0m\n\u001b[0m\u001b[1;32m      3\u001b[0m \u001b[0;34m\u001b[0m\u001b[0m\n\u001b[1;32m      4\u001b[0m \u001b[0;32mdef\u001b[0m \u001b[0mfunc2\u001b[0m\u001b[0;34m(\u001b[0m\u001b[0mx\u001b[0m\u001b[0;34m)\u001b[0m\u001b[0;34m:\u001b[0m\u001b[0;34m\u001b[0m\u001b[0m\n\u001b[1;32m      5\u001b[0m     \u001b[0ma\u001b[0m \u001b[0;34m=\u001b[0m \u001b[0mx\u001b[0m\u001b[0;34m\u001b[0m\u001b[0m\n",
            "\u001b[0;31mZeroDivisionError\u001b[0m: division by zero"
          ]
        }
      ],
      "source": [
        "func2(1)"
      ]
    },
    {
      "cell_type": "markdown",
      "metadata": {
        "id": "IajRSsyGoYHh"
      },
      "source": [
        "Calling ``func2`` results in an error, and reading the printed trace lets us see exactly what happened.\n",
        "By default, this trace includes several lines showing the context of each step that led to the error.\n",
        "Using the ``%xmode`` magic function (short for *Exception mode*), we can change what information is printed.\n",
        "\n",
        "``%xmode`` takes a single argument, the mode, and there are three possibilities: ``Plain``, ``Context``, and ``Verbose``.\n",
        "The default is ``Context``, and gives output like that just shown before.\n",
        "``Plain`` is more compact and gives less information:"
      ]
    },
    {
      "cell_type": "code",
      "execution_count": null,
      "metadata": {
        "id": "bjHLMzPboYHi",
        "outputId": "43d00645-06ac-4f85-c2d2-27752bdbf361"
      },
      "outputs": [
        {
          "name": "stdout",
          "output_type": "stream",
          "text": [
            "Exception reporting mode: Plain\n"
          ]
        }
      ],
      "source": [
        "%xmode Plain"
      ]
    },
    {
      "cell_type": "code",
      "execution_count": null,
      "metadata": {
        "id": "5WGybzfOoYHi",
        "outputId": "39c52ea0-8726-465a-850a-f8e7f2cc7c4e"
      },
      "outputs": [
        {
          "ename": "ZeroDivisionError",
          "evalue": "division by zero",
          "output_type": "error",
          "traceback": [
            "Traceback \u001b[0;36m(most recent call last)\u001b[0m:\n",
            "  File \u001b[1;32m\"<ipython-input-4-b2e110f6fc8f>\"\u001b[0m, line \u001b[1;32m1\u001b[0m, in \u001b[1;35m<module>\u001b[0m\n    func2(1)\n",
            "  File \u001b[1;32m\"<ipython-input-1-d849e34d61fb>\"\u001b[0m, line \u001b[1;32m7\u001b[0m, in \u001b[1;35mfunc2\u001b[0m\n    return func1(a, b)\n",
            "\u001b[0;36m  File \u001b[0;32m\"<ipython-input-1-d849e34d61fb>\"\u001b[0;36m, line \u001b[0;32m2\u001b[0;36m, in \u001b[0;35mfunc1\u001b[0;36m\u001b[0m\n\u001b[0;31m    return a / b\u001b[0m\n",
            "\u001b[0;31mZeroDivisionError\u001b[0m\u001b[0;31m:\u001b[0m division by zero\n"
          ]
        }
      ],
      "source": [
        "func2(1)"
      ]
    },
    {
      "cell_type": "markdown",
      "metadata": {
        "id": "viBQe2kwoYHi"
      },
      "source": [
        "The ``Verbose`` mode adds some extra information, including the arguments to any functions that are called:"
      ]
    },
    {
      "cell_type": "code",
      "execution_count": null,
      "metadata": {
        "id": "_NY9JqDFoYHi",
        "outputId": "6c1891c1-6cee-47a1-ca90-9bf89dd769fd"
      },
      "outputs": [
        {
          "name": "stdout",
          "output_type": "stream",
          "text": [
            "Exception reporting mode: Verbose\n"
          ]
        }
      ],
      "source": [
        "%xmode Verbose"
      ]
    },
    {
      "cell_type": "code",
      "execution_count": null,
      "metadata": {
        "id": "aHVu9CfvoYHi",
        "outputId": "646ca0bf-d6b9-4499-cd18-396caa519644"
      },
      "outputs": [
        {
          "ename": "ZeroDivisionError",
          "evalue": "division by zero",
          "output_type": "error",
          "traceback": [
            "\u001b[0;31m---------------------------------------------------------------------------\u001b[0m\n\u001b[0;31mZeroDivisionError\u001b[0m                         Traceback (most recent call last)",
            "\u001b[0;32m<ipython-input-6-b2e110f6fc8f>\u001b[0m in \u001b[0;36m<module>\u001b[0;34m()\u001b[0m\n\u001b[0;32m----> 1\u001b[0;31m \u001b[0mfunc2\u001b[0m\u001b[0;34m(\u001b[0m\u001b[0;36m1\u001b[0m\u001b[0;34m)\u001b[0m\u001b[0;34m\u001b[0m\u001b[0m\n\u001b[0m        \u001b[0;36mglobal\u001b[0m \u001b[0;36mfunc2\u001b[0m \u001b[0;34m= <function func2 at 0x103729320>\u001b[0m\n",
            "\u001b[0;32m<ipython-input-1-d849e34d61fb>\u001b[0m in \u001b[0;36mfunc2\u001b[0;34m(x=1)\u001b[0m\n\u001b[1;32m      5\u001b[0m     \u001b[0ma\u001b[0m \u001b[0;34m=\u001b[0m \u001b[0mx\u001b[0m\u001b[0;34m\u001b[0m\u001b[0m\n\u001b[1;32m      6\u001b[0m     \u001b[0mb\u001b[0m \u001b[0;34m=\u001b[0m \u001b[0mx\u001b[0m \u001b[0;34m-\u001b[0m \u001b[0;36m1\u001b[0m\u001b[0;34m\u001b[0m\u001b[0m\n\u001b[0;32m----> 7\u001b[0;31m     \u001b[0;32mreturn\u001b[0m \u001b[0mfunc1\u001b[0m\u001b[0;34m(\u001b[0m\u001b[0ma\u001b[0m\u001b[0;34m,\u001b[0m \u001b[0mb\u001b[0m\u001b[0;34m)\u001b[0m\u001b[0;34m\u001b[0m\u001b[0m\n\u001b[0m        \u001b[0;36mglobal\u001b[0m \u001b[0;36mfunc1\u001b[0m \u001b[0;34m= <function func1 at 0x1037294d0>\u001b[0m\u001b[0;34m\n        \u001b[0m\u001b[0;36ma\u001b[0m \u001b[0;34m= 1\u001b[0m\u001b[0;34m\n        \u001b[0m\u001b[0;36mb\u001b[0m \u001b[0;34m= 0\u001b[0m\n",
            "\u001b[0;32m<ipython-input-1-d849e34d61fb>\u001b[0m in \u001b[0;36mfunc1\u001b[0;34m(a=1, b=0)\u001b[0m\n\u001b[1;32m      1\u001b[0m \u001b[0;32mdef\u001b[0m \u001b[0mfunc1\u001b[0m\u001b[0;34m(\u001b[0m\u001b[0ma\u001b[0m\u001b[0;34m,\u001b[0m \u001b[0mb\u001b[0m\u001b[0;34m)\u001b[0m\u001b[0;34m:\u001b[0m\u001b[0;34m\u001b[0m\u001b[0m\n\u001b[0;32m----> 2\u001b[0;31m     \u001b[0;32mreturn\u001b[0m \u001b[0ma\u001b[0m \u001b[0;34m/\u001b[0m \u001b[0mb\u001b[0m\u001b[0;34m\u001b[0m\u001b[0m\n\u001b[0m        \u001b[0;36ma\u001b[0m \u001b[0;34m= 1\u001b[0m\u001b[0;34m\n        \u001b[0m\u001b[0;36mb\u001b[0m \u001b[0;34m= 0\u001b[0m\n\u001b[1;32m      3\u001b[0m \u001b[0;34m\u001b[0m\u001b[0m\n\u001b[1;32m      4\u001b[0m \u001b[0;32mdef\u001b[0m \u001b[0mfunc2\u001b[0m\u001b[0;34m(\u001b[0m\u001b[0mx\u001b[0m\u001b[0;34m)\u001b[0m\u001b[0;34m:\u001b[0m\u001b[0;34m\u001b[0m\u001b[0m\n\u001b[1;32m      5\u001b[0m     \u001b[0ma\u001b[0m \u001b[0;34m=\u001b[0m \u001b[0mx\u001b[0m\u001b[0;34m\u001b[0m\u001b[0m\n",
            "\u001b[0;31mZeroDivisionError\u001b[0m: division by zero"
          ]
        }
      ],
      "source": [
        "func2(1)"
      ]
    },
    {
      "cell_type": "markdown",
      "metadata": {
        "id": "vgQgLDnwoYHi"
      },
      "source": [
        "This extra information can help narrow-in on why the exception is being raised.\n",
        "So why not use the ``Verbose`` mode all the time?\n",
        "As code gets complicated, this kind of traceback can get extremely long.\n",
        "Depending on the context, sometimes the brevity of ``Default`` mode is easier to work with."
      ]
    },
    {
      "cell_type": "markdown",
      "metadata": {
        "id": "tL3e8BFVoYHi"
      },
      "source": [
        "## Debugging: When Reading Tracebacks Is Not Enough\n",
        "\n",
        "The standard Python tool for interactive debugging is ``pdb``, the Python debugger.\n",
        "This debugger lets the user step through the code line by line in order to see what might be causing a more difficult error.\n",
        "The IPython-enhanced version of this is ``ipdb``, the IPython debugger.\n",
        "\n",
        "There are many ways to launch and use both these debuggers; we won't cover them fully here.\n",
        "Refer to the online documentation of these two utilities to learn more.\n",
        "\n",
        "In IPython, perhaps the most convenient interface to debugging is the ``%debug`` magic command.\n",
        "If you call it after hitting an exception, it will automatically open an interactive debugging prompt at the point of the exception.\n",
        "The ``ipdb`` prompt lets you explore the current state of the stack, explore the available variables, and even run Python commands!\n",
        "\n",
        "Let's look at the most recent exception, then do some basic tasks–print the values of ``a`` and ``b``, and type ``quit`` to quit the debugging session:"
      ]
    },
    {
      "cell_type": "code",
      "execution_count": null,
      "metadata": {
        "id": "PR2qd1knoYHi",
        "outputId": "fed1052d-72eb-4dd2-dd3e-dddbeaaad57e"
      },
      "outputs": [
        {
          "name": "stdout",
          "output_type": "stream",
          "text": [
            "> \u001b[0;32m<ipython-input-1-d849e34d61fb>\u001b[0m(2)\u001b[0;36mfunc1\u001b[0;34m()\u001b[0m\n",
            "\u001b[0;32m      1 \u001b[0;31m\u001b[0;32mdef\u001b[0m \u001b[0mfunc1\u001b[0m\u001b[0;34m(\u001b[0m\u001b[0ma\u001b[0m\u001b[0;34m,\u001b[0m \u001b[0mb\u001b[0m\u001b[0;34m)\u001b[0m\u001b[0;34m:\u001b[0m\u001b[0;34m\u001b[0m\u001b[0m\n",
            "\u001b[0m\u001b[0;32m----> 2 \u001b[0;31m    \u001b[0;32mreturn\u001b[0m \u001b[0ma\u001b[0m \u001b[0;34m/\u001b[0m \u001b[0mb\u001b[0m\u001b[0;34m\u001b[0m\u001b[0m\n",
            "\u001b[0m\u001b[0;32m      3 \u001b[0;31m\u001b[0;34m\u001b[0m\u001b[0m\n",
            "\u001b[0m\n",
            "ipdb> print(a)\n",
            "1\n",
            "ipdb> print(b)\n",
            "0\n",
            "ipdb> quit\n"
          ]
        }
      ],
      "source": [
        "%debug"
      ]
    },
    {
      "cell_type": "markdown",
      "metadata": {
        "id": "0YrN1gVOoYHj"
      },
      "source": [
        "The interactive debugger allows much more than this, though–we can even step up and down through the stack and explore the values of variables there:"
      ]
    },
    {
      "cell_type": "code",
      "execution_count": null,
      "metadata": {
        "id": "r55_PFLaoYHj",
        "outputId": "dcfc93b2-ce48-40ac-856b-4474a6b4eac4"
      },
      "outputs": [
        {
          "name": "stdout",
          "output_type": "stream",
          "text": [
            "> \u001b[0;32m<ipython-input-1-d849e34d61fb>\u001b[0m(2)\u001b[0;36mfunc1\u001b[0;34m()\u001b[0m\n",
            "\u001b[0;32m      1 \u001b[0;31m\u001b[0;32mdef\u001b[0m \u001b[0mfunc1\u001b[0m\u001b[0;34m(\u001b[0m\u001b[0ma\u001b[0m\u001b[0;34m,\u001b[0m \u001b[0mb\u001b[0m\u001b[0;34m)\u001b[0m\u001b[0;34m:\u001b[0m\u001b[0;34m\u001b[0m\u001b[0m\n",
            "\u001b[0m\u001b[0;32m----> 2 \u001b[0;31m    \u001b[0;32mreturn\u001b[0m \u001b[0ma\u001b[0m \u001b[0;34m/\u001b[0m \u001b[0mb\u001b[0m\u001b[0;34m\u001b[0m\u001b[0m\n",
            "\u001b[0m\u001b[0;32m      3 \u001b[0;31m\u001b[0;34m\u001b[0m\u001b[0m\n",
            "\u001b[0m\n",
            "ipdb> up\n",
            "> \u001b[0;32m<ipython-input-1-d849e34d61fb>\u001b[0m(7)\u001b[0;36mfunc2\u001b[0;34m()\u001b[0m\n",
            "\u001b[0;32m      5 \u001b[0;31m    \u001b[0ma\u001b[0m \u001b[0;34m=\u001b[0m \u001b[0mx\u001b[0m\u001b[0;34m\u001b[0m\u001b[0m\n",
            "\u001b[0m\u001b[0;32m      6 \u001b[0;31m    \u001b[0mb\u001b[0m \u001b[0;34m=\u001b[0m \u001b[0mx\u001b[0m \u001b[0;34m-\u001b[0m \u001b[0;36m1\u001b[0m\u001b[0;34m\u001b[0m\u001b[0m\n",
            "\u001b[0m\u001b[0;32m----> 7 \u001b[0;31m    \u001b[0;32mreturn\u001b[0m \u001b[0mfunc1\u001b[0m\u001b[0;34m(\u001b[0m\u001b[0ma\u001b[0m\u001b[0;34m,\u001b[0m \u001b[0mb\u001b[0m\u001b[0;34m)\u001b[0m\u001b[0;34m\u001b[0m\u001b[0m\n",
            "\u001b[0m\n",
            "ipdb> print(x)\n",
            "1\n",
            "ipdb> up\n",
            "> \u001b[0;32m<ipython-input-6-b2e110f6fc8f>\u001b[0m(1)\u001b[0;36m<module>\u001b[0;34m()\u001b[0m\n",
            "\u001b[0;32m----> 1 \u001b[0;31m\u001b[0mfunc2\u001b[0m\u001b[0;34m(\u001b[0m\u001b[0;36m1\u001b[0m\u001b[0;34m)\u001b[0m\u001b[0;34m\u001b[0m\u001b[0m\n",
            "\u001b[0m\n",
            "ipdb> down\n",
            "> \u001b[0;32m<ipython-input-1-d849e34d61fb>\u001b[0m(7)\u001b[0;36mfunc2\u001b[0;34m()\u001b[0m\n",
            "\u001b[0;32m      5 \u001b[0;31m    \u001b[0ma\u001b[0m \u001b[0;34m=\u001b[0m \u001b[0mx\u001b[0m\u001b[0;34m\u001b[0m\u001b[0m\n",
            "\u001b[0m\u001b[0;32m      6 \u001b[0;31m    \u001b[0mb\u001b[0m \u001b[0;34m=\u001b[0m \u001b[0mx\u001b[0m \u001b[0;34m-\u001b[0m \u001b[0;36m1\u001b[0m\u001b[0;34m\u001b[0m\u001b[0m\n",
            "\u001b[0m\u001b[0;32m----> 7 \u001b[0;31m    \u001b[0;32mreturn\u001b[0m \u001b[0mfunc1\u001b[0m\u001b[0;34m(\u001b[0m\u001b[0ma\u001b[0m\u001b[0;34m,\u001b[0m \u001b[0mb\u001b[0m\u001b[0;34m)\u001b[0m\u001b[0;34m\u001b[0m\u001b[0m\n",
            "\u001b[0m\n",
            "ipdb> quit\n"
          ]
        }
      ],
      "source": [
        "%debug"
      ]
    },
    {
      "cell_type": "markdown",
      "metadata": {
        "id": "SoHXNbLIoYHj"
      },
      "source": [
        "This allows you to quickly find out not only what caused the error, but what function calls led up to the error.\n",
        "\n",
        "If you'd like the debugger to launch automatically whenever an exception is raised, you can use the ``%pdb`` magic function to turn on this automatic behavior:"
      ]
    },
    {
      "cell_type": "code",
      "execution_count": null,
      "metadata": {
        "id": "0sww1JFooYHj",
        "outputId": "32e7cefe-0e30-4569-d487-bbf5830fa46d"
      },
      "outputs": [
        {
          "name": "stdout",
          "output_type": "stream",
          "text": [
            "Exception reporting mode: Plain\n",
            "Automatic pdb calling has been turned ON\n"
          ]
        },
        {
          "ename": "ZeroDivisionError",
          "evalue": "division by zero",
          "output_type": "error",
          "traceback": [
            "Traceback \u001b[0;36m(most recent call last)\u001b[0m:\n",
            "  File \u001b[1;32m\"<ipython-input-9-569a67d2d312>\"\u001b[0m, line \u001b[1;32m3\u001b[0m, in \u001b[1;35m<module>\u001b[0m\n    func2(1)\n",
            "  File \u001b[1;32m\"<ipython-input-1-d849e34d61fb>\"\u001b[0m, line \u001b[1;32m7\u001b[0m, in \u001b[1;35mfunc2\u001b[0m\n    return func1(a, b)\n",
            "\u001b[0;36m  File \u001b[0;32m\"<ipython-input-1-d849e34d61fb>\"\u001b[0;36m, line \u001b[0;32m2\u001b[0;36m, in \u001b[0;35mfunc1\u001b[0;36m\u001b[0m\n\u001b[0;31m    return a / b\u001b[0m\n",
            "\u001b[0;31mZeroDivisionError\u001b[0m\u001b[0;31m:\u001b[0m division by zero\n"
          ]
        },
        {
          "name": "stdout",
          "output_type": "stream",
          "text": [
            "> \u001b[0;32m<ipython-input-1-d849e34d61fb>\u001b[0m(2)\u001b[0;36mfunc1\u001b[0;34m()\u001b[0m\n",
            "\u001b[0;32m      1 \u001b[0;31m\u001b[0;32mdef\u001b[0m \u001b[0mfunc1\u001b[0m\u001b[0;34m(\u001b[0m\u001b[0ma\u001b[0m\u001b[0;34m,\u001b[0m \u001b[0mb\u001b[0m\u001b[0;34m)\u001b[0m\u001b[0;34m:\u001b[0m\u001b[0;34m\u001b[0m\u001b[0m\n",
            "\u001b[0m\u001b[0;32m----> 2 \u001b[0;31m    \u001b[0;32mreturn\u001b[0m \u001b[0ma\u001b[0m \u001b[0;34m/\u001b[0m \u001b[0mb\u001b[0m\u001b[0;34m\u001b[0m\u001b[0m\n",
            "\u001b[0m\u001b[0;32m      3 \u001b[0;31m\u001b[0;34m\u001b[0m\u001b[0m\n",
            "\u001b[0m\n",
            "ipdb> print(b)\n",
            "0\n",
            "ipdb> quit\n"
          ]
        }
      ],
      "source": [
        "%xmode Plain\n",
        "%pdb on\n",
        "func2(1)"
      ]
    },
    {
      "cell_type": "markdown",
      "metadata": {
        "id": "Nodtr8QpoYHj"
      },
      "source": [
        "Finally, if you have a script that you'd like to run from the beginning in interactive mode, you can run it with the command ``%run -d``, and use the ``next`` command to step through the lines of code interactively."
      ]
    },
    {
      "cell_type": "markdown",
      "metadata": {
        "id": "t1wpVlpmoYHj"
      },
      "source": [
        "### Partial list of debugging commands\n",
        "\n",
        "There are many more available commands for interactive debugging than we've listed here; the following table contains a description of some of the more common and useful ones:\n",
        "\n",
        "| Command         |  Description                                                |\n",
        "|-----------------|-------------------------------------------------------------|\n",
        "| ``list``        | Show the current location in the file                       |\n",
        "| ``h(elp)``      | Show a list of commands, or find help on a specific command |\n",
        "| ``q(uit)``      | Quit the debugger and the program                           |\n",
        "| ``c(ontinue)``  | Quit the debugger, continue in the program                  |\n",
        "| ``n(ext)``      | Go to the next step of the program                          |\n",
        "| ``<enter>``     | Repeat the previous command                                 |\n",
        "| ``p(rint)``     | Print variables                                             |\n",
        "| ``s(tep)``      | Step into a subroutine                                      |\n",
        "| ``r(eturn)``    | Return out of a subroutine                                  |\n",
        "\n",
        "For more information, use the ``help`` command in the debugger, or take a look at ``ipdb``'s [online documentation](https://github.com/gotcha/ipdb)."
      ]
    },
    {
      "cell_type": "markdown",
      "metadata": {
        "id": "oythfiUsoYHj"
      },
      "source": [
        "# Profiling and Timing Code"
      ]
    },
    {
      "cell_type": "markdown",
      "metadata": {
        "id": "tpS3WWBeoYHk"
      },
      "source": [
        "In the process of developing code and creating data processing pipelines, there are often trade-offs you can make between various implementations.\n",
        "Early in developing your algorithm, it can be counterproductive to worry about such things. As Donald Knuth famously quipped, \"We should forget about small efficiencies, say about 97% of the time: premature optimization is the root of all evil.\"\n",
        "\n",
        "But once you have your code working, it can be useful to dig into its efficiency a bit.\n",
        "Sometimes it's useful to check the execution time of a given command or set of commands; other times it's useful to dig into a multiline process and determine where the bottleneck lies in some complicated series of operations.\n",
        "IPython provides access to a wide array of functionality for this kind of timing and profiling of code.\n",
        "Here we'll discuss the following IPython magic commands:\n",
        "\n",
        "- ``%time``: Time the execution of a single statement\n",
        "- ``%timeit``: Time repeated execution of a single statement for more accuracy\n",
        "- ``%prun``: Run code with the profiler\n",
        "- ``%lprun``: Run code with the line-by-line profiler\n",
        "- ``%memit``: Measure the memory use of a single statement\n",
        "- ``%mprun``: Run code with the line-by-line memory profiler\n",
        "\n",
        "The last four commands are not bundled with IPython–you'll need to get the ``line_profiler`` and ``memory_profiler`` extensions, which we will discuss in the following sections."
      ]
    },
    {
      "cell_type": "markdown",
      "metadata": {
        "id": "wwST6PUuoYHk"
      },
      "source": [
        "## Timing Code Snippets: ``%timeit`` and ``%time``\n",
        "\n",
        "We saw the ``%timeit`` line-magic and ``%%timeit`` cell-magic in the introduction to magic functions in [IPython Magic Commands](01.03-Magic-Commands.ipynb); it can be used to time the repeated execution of snippets of code:"
      ]
    },
    {
      "cell_type": "code",
      "execution_count": null,
      "metadata": {
        "id": "1ctDUkuGoYHk",
        "outputId": "f002ed5f-d1d4-491c-a598-91407734eddd"
      },
      "outputs": [
        {
          "name": "stdout",
          "output_type": "stream",
          "text": [
            "100000 loops, best of 3: 1.54 µs per loop\n"
          ]
        }
      ],
      "source": [
        "%timeit sum(range(100))"
      ]
    },
    {
      "cell_type": "markdown",
      "metadata": {
        "id": "V1Rmhik7oYHk"
      },
      "source": [
        "Note that because this operation is so fast, ``%timeit`` automatically does a large number of repetitions.\n",
        "For slower commands, ``%timeit`` will automatically adjust and perform fewer repetitions:"
      ]
    },
    {
      "cell_type": "code",
      "execution_count": null,
      "metadata": {
        "id": "H6WJ_q4-oYHk",
        "outputId": "57b7a210-b57b-496c-80e8-cfc8b18c1ea6"
      },
      "outputs": [
        {
          "name": "stdout",
          "output_type": "stream",
          "text": [
            "1 loops, best of 3: 407 ms per loop\n"
          ]
        }
      ],
      "source": [
        "%%timeit\n",
        "total = 0\n",
        "for i in range(1000):\n",
        "    for j in range(1000):\n",
        "        total += i * (-1) ** j"
      ]
    },
    {
      "cell_type": "markdown",
      "metadata": {
        "id": "16v65xlZoYHk"
      },
      "source": [
        "Sometimes repeating an operation is not the best option.\n",
        "For example, if we have a list that we'd like to sort, we might be misled by a repeated operation.\n",
        "Sorting a pre-sorted list is much faster than sorting an unsorted list, so the repetition will skew the result:"
      ]
    },
    {
      "cell_type": "code",
      "execution_count": null,
      "metadata": {
        "id": "xP16kW0GoYHk",
        "outputId": "b0dc3d47-2a3e-49ed-f69a-f7a8f0251a78"
      },
      "outputs": [
        {
          "name": "stdout",
          "output_type": "stream",
          "text": [
            "100 loops, best of 3: 1.9 ms per loop\n"
          ]
        }
      ],
      "source": [
        "import random\n",
        "L = [random.random() for i in range(100000)]\n",
        "%timeit L.sort()"
      ]
    },
    {
      "cell_type": "markdown",
      "metadata": {
        "id": "tIQREqYjoYHk"
      },
      "source": [
        "For this, the ``%time`` magic function may be a better choice. It also is a good choice for longer-running commands, when short, system-related delays are unlikely to affect the result.\n",
        "Let's time the sorting of an unsorted and a presorted list:"
      ]
    },
    {
      "cell_type": "code",
      "execution_count": null,
      "metadata": {
        "id": "Wot0V2b6oYHl",
        "outputId": "fff71e22-d9af-4e12-897f-90cfec7993bd"
      },
      "outputs": [
        {
          "name": "stdout",
          "output_type": "stream",
          "text": [
            "sorting an unsorted list:\n",
            "CPU times: user 40.6 ms, sys: 896 µs, total: 41.5 ms\n",
            "Wall time: 41.5 ms\n"
          ]
        }
      ],
      "source": [
        "import random\n",
        "L = [random.random() for i in range(100000)]\n",
        "print(\"sorting an unsorted list:\")\n",
        "%time L.sort()"
      ]
    },
    {
      "cell_type": "code",
      "execution_count": null,
      "metadata": {
        "id": "uGo_D2ePoYHl",
        "outputId": "d00863fc-7bf2-4156-93f0-a18731728e57"
      },
      "outputs": [
        {
          "name": "stdout",
          "output_type": "stream",
          "text": [
            "sorting an already sorted list:\n",
            "CPU times: user 8.18 ms, sys: 10 µs, total: 8.19 ms\n",
            "Wall time: 8.24 ms\n"
          ]
        }
      ],
      "source": [
        "print(\"sorting an already sorted list:\")\n",
        "%time L.sort()"
      ]
    },
    {
      "cell_type": "markdown",
      "metadata": {
        "id": "R_yHC1GXoYHl"
      },
      "source": [
        "Notice how much faster the presorted list is to sort, but notice also how much longer the timing takes with ``%time`` versus ``%timeit``, even for the presorted list!\n",
        "This is a result of the fact that ``%timeit`` does some clever things under the hood to prevent system calls from interfering with the timing.\n",
        "For example, it prevents cleanup of unused Python objects (known as *garbage collection*) which might otherwise affect the timing.\n",
        "For this reason, ``%timeit`` results are usually noticeably faster than ``%time`` results.\n",
        "\n",
        "For ``%time`` as with ``%timeit``, using the double-percent-sign cell magic syntax allows timing of multiline scripts:"
      ]
    },
    {
      "cell_type": "code",
      "execution_count": null,
      "metadata": {
        "id": "eYhuWgeqoYHl",
        "outputId": "0e9876ff-36d6-4914-c326-cc5f5aa1ffaa"
      },
      "outputs": [
        {
          "name": "stdout",
          "output_type": "stream",
          "text": [
            "CPU times: user 504 ms, sys: 979 µs, total: 505 ms\n",
            "Wall time: 505 ms\n"
          ]
        }
      ],
      "source": [
        "%%time\n",
        "total = 0\n",
        "for i in range(1000):\n",
        "    for j in range(1000):\n",
        "        total += i * (-1) ** j"
      ]
    },
    {
      "cell_type": "markdown",
      "metadata": {
        "id": "47TTZ8RsoYHl"
      },
      "source": [
        "For more information on ``%time`` and ``%timeit``, as well as their available options, use the IPython help functionality (i.e., type ``%time?`` at the IPython prompt)."
      ]
    },
    {
      "cell_type": "markdown",
      "metadata": {
        "id": "zo3nkzoMoYHl"
      },
      "source": [
        "## Profiling Full Scripts: ``%prun``\n",
        "\n",
        "A program is made of many single statements, and sometimes timing these statements in context is more important than timing them on their own.\n",
        "Python contains a built-in code profiler (which you can read about in the Python documentation), but IPython offers a much more convenient way to use this profiler, in the form of the magic function ``%prun``.\n",
        "\n",
        "By way of example, we'll define a simple function that does some calculations:"
      ]
    },
    {
      "cell_type": "code",
      "execution_count": null,
      "metadata": {
        "id": "MRQjZtXroYHl"
      },
      "outputs": [],
      "source": [
        "def sum_of_lists(N):\n",
        "    total = 0\n",
        "    for i in range(5):\n",
        "        L = [j ^ (j >> i) for j in range(N)]\n",
        "        total += sum(L)\n",
        "    return total"
      ]
    },
    {
      "cell_type": "markdown",
      "metadata": {
        "id": "n9AJBEOloYHl"
      },
      "source": [
        "Now we can call ``%prun`` with a function call to see the profiled results:"
      ]
    },
    {
      "cell_type": "code",
      "execution_count": null,
      "metadata": {
        "id": "VsKAHL_zoYHl",
        "outputId": "b7bbe69d-0471-450a-de58-52a7d4375a4b"
      },
      "outputs": [
        {
          "name": "stdout",
          "output_type": "stream",
          "text": [
            " "
          ]
        }
      ],
      "source": [
        "%prun sum_of_lists(1000000)"
      ]
    },
    {
      "cell_type": "markdown",
      "metadata": {
        "id": "N-jyGhj0oYHm"
      },
      "source": [
        "In the notebook, the output is printed to the pager, and looks something like this:\n",
        "\n",
        "```\n",
        "14 function calls in 0.714 seconds\n",
        "\n",
        "   Ordered by: internal time\n",
        "\n",
        "   ncalls  tottime  percall  cumtime  percall filename:lineno(function)\n",
        "        5    0.599    0.120    0.599    0.120 <ipython-input-19>:4(<listcomp>)\n",
        "        5    0.064    0.013    0.064    0.013 {built-in method sum}\n",
        "        1    0.036    0.036    0.699    0.699 <ipython-input-19>:1(sum_of_lists)\n",
        "        1    0.014    0.014    0.714    0.714 <string>:1(<module>)\n",
        "        1    0.000    0.000    0.714    0.714 {built-in method exec}\n",
        "```\n",
        "\n",
        "The result is a table that indicates, in order of total time on each function call, where the execution is spending the most time. In this case, the bulk of execution time is in the list comprehension inside ``sum_of_lists``.\n",
        "From here, we could start thinking about what changes we might make to improve the performance in the algorithm.\n",
        "\n",
        "For more information on ``%prun``, as well as its available options, use the IPython help functionality (i.e., type ``%prun?`` at the IPython prompt)."
      ]
    },
    {
      "cell_type": "markdown",
      "metadata": {
        "id": "QDX4eOqXoYHm"
      },
      "source": [
        "## Line-By-Line Profiling with ``%lprun``\n",
        "\n",
        "The function-by-function profiling of ``%prun`` is useful, but sometimes it's more convenient to have a line-by-line profile report.\n",
        "This is not built into Python or IPython, but there is a ``line_profiler`` package available for installation that can do this.\n",
        "Start by using Python's packaging tool, ``pip``, to install the ``line_profiler`` package:\n",
        "\n",
        "```\n",
        "$ pip install line_profiler\n",
        "```\n",
        "\n",
        "Next, you can use IPython to load the ``line_profiler`` IPython extension, offered as part of this package:"
      ]
    },
    {
      "cell_type": "code",
      "execution_count": null,
      "metadata": {
        "id": "W78xVGUDoYHm"
      },
      "outputs": [],
      "source": [
        "!pip install line_profiler\n",
        "%load_ext line_profiler"
      ]
    },
    {
      "cell_type": "markdown",
      "metadata": {
        "id": "Drmd3bKWoYHm"
      },
      "source": [
        "Now the ``%lprun`` command will do a line-by-line profiling of any function–in this case, we need to tell it explicitly which functions we're interested in profiling:"
      ]
    },
    {
      "cell_type": "code",
      "execution_count": null,
      "metadata": {
        "id": "HRH3LynloYHm"
      },
      "outputs": [],
      "source": [
        "%lprun -f sum_of_lists sum_of_lists(5000)"
      ]
    },
    {
      "cell_type": "markdown",
      "metadata": {
        "id": "6h1xlqTsoYHm"
      },
      "source": [
        "As before, the notebook sends the result to the pager, but it looks something like this:\n",
        "\n",
        "```\n",
        "Timer unit: 1e-06 s\n",
        "\n",
        "Total time: 0.009382 s\n",
        "File: <ipython-input-19-fa2be176cc3e>\n",
        "Function: sum_of_lists at line 1\n",
        "\n",
        "Line #      Hits         Time  Per Hit   % Time  Line Contents\n",
        "==============================================================\n",
        "     1                                           def sum_of_lists(N):\n",
        "     2         1            2      2.0      0.0      total = 0\n",
        "     3         6            8      1.3      0.1      for i in range(5):\n",
        "     4         5         9001   1800.2     95.9          L = [j ^ (j >> i) for j in range(N)]\n",
        "     5         5          371     74.2      4.0          total += sum(L)\n",
        "     6         1            0      0.0      0.0      return total\n",
        "```\n",
        "\n",
        "The information at the top gives us the key to reading the results: the time is reported in microseconds and we can see where the program is spending the most time.\n",
        "At this point, we may be able to use this information to modify aspects of the script and make it perform better for our desired use case.\n",
        "\n",
        "For more information on ``%lprun``, as well as its available options, use the IPython help functionality (i.e., type ``%lprun?`` at the IPython prompt)."
      ]
    },
    {
      "cell_type": "markdown",
      "metadata": {
        "id": "G-bLTtjmoYHm"
      },
      "source": [
        "## Profiling Memory Use: ``%memit`` and ``%mprun``\n",
        "\n",
        "Another aspect of profiling is the amount of memory an operation uses.\n",
        "This can be evaluated with another IPython extension, the ``memory_profiler``.\n",
        "As with the ``line_profiler``, we start by ``pip``-installing the extension:\n",
        "\n",
        "```\n",
        "$ pip install memory_profiler\n",
        "```\n",
        "\n",
        "Then we can use IPython to load the extension:"
      ]
    },
    {
      "cell_type": "code",
      "execution_count": null,
      "metadata": {
        "id": "h5PE-AMioYHm"
      },
      "outputs": [],
      "source": [
        "!pip install memory_profiler\n",
        "%load_ext memory_profiler"
      ]
    },
    {
      "cell_type": "markdown",
      "metadata": {
        "id": "VC-8w_gFoYHm"
      },
      "source": [
        "The memory profiler extension contains two useful magic functions: the ``%memit`` magic (which offers a memory-measuring equivalent of ``%timeit``) and the ``%mprun`` function (which offers a memory-measuring equivalent of ``%lprun``).\n",
        "The ``%memit`` function can be used rather simply:"
      ]
    },
    {
      "cell_type": "code",
      "execution_count": null,
      "metadata": {
        "id": "EBKCRXJPoYHm",
        "outputId": "3abbfdfb-f199-4b59-97e0-c695433e016b"
      },
      "outputs": [
        {
          "name": "stdout",
          "output_type": "stream",
          "text": [
            "peak memory: 100.08 MiB, increment: 61.36 MiB\n"
          ]
        }
      ],
      "source": [
        "%memit sum_of_lists(1000000)"
      ]
    },
    {
      "cell_type": "markdown",
      "metadata": {
        "id": "R7Ji0YwpoYHn"
      },
      "source": [
        "We see that this function uses about 100 MB of memory.\n",
        "\n",
        "For a line-by-line description of memory use, we can use the ``%mprun`` magic.\n",
        "Unfortunately, this magic works only for functions defined in separate modules rather than the notebook itself, so we'll start by using the ``%%file`` magic to create a simple module called ``mprun_demo.py``, which contains our ``sum_of_lists`` function, with one addition that will make our memory profiling results more clear:"
      ]
    },
    {
      "cell_type": "code",
      "execution_count": null,
      "metadata": {
        "id": "p4KJONoKoYHn",
        "outputId": "cbb4928e-5c1b-4411-fa0f-c329bdd7b398"
      },
      "outputs": [
        {
          "name": "stdout",
          "output_type": "stream",
          "text": [
            "Overwriting mprun_demo.py\n"
          ]
        }
      ],
      "source": [
        "%%file mprun_demo.py\n",
        "def sum_of_lists(N):\n",
        "    total = 0\n",
        "    for i in range(5):\n",
        "        L = [j ^ (j >> i) for j in range(N)]\n",
        "        total += sum(L)\n",
        "        del L # remove reference to L\n",
        "    return total"
      ]
    },
    {
      "cell_type": "markdown",
      "metadata": {
        "id": "KPMp5VHeoYHn"
      },
      "source": [
        "We can now import the new version of this function and run the memory line profiler:"
      ]
    },
    {
      "cell_type": "code",
      "execution_count": null,
      "metadata": {
        "id": "DE634vSjoYHn",
        "outputId": "bc505e1d-c12e-4ea1-b035-9f549c85a47f"
      },
      "outputs": [
        {
          "name": "stdout",
          "output_type": "stream",
          "text": [
            "\n"
          ]
        }
      ],
      "source": [
        "from mprun_demo import sum_of_lists\n",
        "%mprun -f sum_of_lists sum_of_lists(1000000)"
      ]
    },
    {
      "cell_type": "markdown",
      "metadata": {
        "id": "-SK7xRkvoYHn"
      },
      "source": [
        "The result, printed to the pager, gives us a summary of the memory use of the function, and looks something like this:\n",
        "```\n",
        "Filename: ./mprun_demo.py\n",
        "\n",
        "Line #    Mem usage    Increment   Line Contents\n",
        "================================================\n",
        "     4     71.9 MiB      0.0 MiB           L = [j ^ (j >> i) for j in range(N)]\n",
        "\n",
        "\n",
        "Filename: ./mprun_demo.py\n",
        "\n",
        "Line #    Mem usage    Increment   Line Contents\n",
        "================================================\n",
        "     1     39.0 MiB      0.0 MiB   def sum_of_lists(N):\n",
        "     2     39.0 MiB      0.0 MiB       total = 0\n",
        "     3     46.5 MiB      7.5 MiB       for i in range(5):\n",
        "     4     71.9 MiB     25.4 MiB           L = [j ^ (j >> i) for j in range(N)]\n",
        "     5     71.9 MiB      0.0 MiB           total += sum(L)\n",
        "     6     46.5 MiB    -25.4 MiB           del L # remove reference to L\n",
        "     7     39.1 MiB     -7.4 MiB       return total\n",
        "```\n",
        "Here the ``Increment`` column tells us how much each line affects the total memory budget: observe that when we create and delete the list ``L``, we are adding about 25 MB of memory usage.\n",
        "This is on top of the background memory usage from the Python interpreter itself.\n",
        "\n",
        "For more information on ``%memit`` and ``%mprun``, as well as their available options, use the IPython help functionality (i.e., type ``%memit?`` at the IPython prompt)."
      ]
    },
    {
      "cell_type": "markdown",
      "metadata": {
        "id": "UuE1NDtIoYHn"
      },
      "source": [
        "# More IPython Resources"
      ]
    },
    {
      "cell_type": "markdown",
      "metadata": {
        "id": "I9uieromoYHo"
      },
      "source": [
        "In this chapter, we've just scratched the surface of using IPython to enable data science tasks.\n",
        "Much more information is available both in print and on the Web, and here we'll list some other resources that you may find helpful."
      ]
    },
    {
      "cell_type": "markdown",
      "metadata": {
        "id": "kCFBrAX_oYHo"
      },
      "source": [
        "## Web Resources\n",
        "\n",
        "- [The IPython website](http://ipython.org): The IPython website links to documentation, examples, tutorials, and a variety of other resources.\n",
        "- [The nbviewer website](http://nbviewer.jupyter.org/): This site shows static renderings of any IPython notebook available on the internet. The front page features some example notebooks that you can browse to see what other folks are using IPython for!\n",
        "- [A gallery of interesting Jupyter Notebooks](https://github.com/jupyter/jupyter/wiki/A-gallery-of-interesting-Jupyter-Notebooks/): This ever-growing list of notebooks, powered by nbviewer, shows the depth and breadth of numerical analysis you can do with IPython. It includes everything from short examples and tutorials to full-blown courses and books composed in the notebook format!\n",
        "- Video Tutorials: searching the Internet, you will find many video-recorded tutorials on IPython. I'd especially recommend seeking tutorials from the PyCon, SciPy, and PyData conferenes by Fernando Perez and Brian Granger, two of the primary creators and maintainers of IPython and Jupyter."
      ]
    },
    {
      "cell_type": "markdown",
      "metadata": {
        "id": "RqTFDcDMoYHo"
      },
      "source": [
        "## Books\n",
        "\n",
        "- [*Python for Data Analysis*](http://shop.oreilly.com/product/0636920023784.do): Wes McKinney's book includes a chapter that covers using IPython as a data scientist. Although much of the material overlaps what we've discussed here, another perspective is always helpful.\n",
        "- [*Learning IPython for Interactive Computing and Data Visualization*](https://www.packtpub.com/big-data-and-business-intelligence/learning-ipython-interactive-computing-and-data-visualization): This short book by Cyrille Rossant offers a good introduction to using IPython for data analysis.\n",
        "- [*IPython Interactive Computing and Visualization Cookbook*](https://www.packtpub.com/big-data-and-business-intelligence/ipython-interactive-computing-and-visualization-cookbook): Also by Cyrille Rossant, this book is a longer and more advanced treatment of using IPython for data science. Despite its name, it's not just about IPython–it also goes into some depth on a broad range of data science topics.\n",
        "\n",
        "Finally, a reminder that you can find help on your own: IPython's ``?``-based help functionality (discussed in [Help and Documentation in IPython](01.01-Help-And-Documentation.ipynb)) can be very useful if you use it well and use it often.\n",
        "As you go through the examples here and elsewhere, this can be used to familiarize yourself with all the tools that IPython has to offer."
      ]
    }
  ],
  "metadata": {
    "anaconda-cloud": {},
    "kernelspec": {
      "display_name": "Python 3",
      "language": "python",
      "name": "python3"
    },
    "language_info": {
      "codemirror_mode": {
        "name": "ipython",
        "version": 3
      },
      "file_extension": ".py",
      "mimetype": "text/x-python",
      "name": "python",
      "nbconvert_exporter": "python",
      "pygments_lexer": "ipython3",
      "version": "3.5.1"
    },
    "colab": {
      "provenance": [],
      "collapsed_sections": [
        "hep5bQSYoYHb",
        "GbfMZKP-oYHb",
        "Im-TJdRboYHc",
        "JKcgpFofoYHc",
        "t7YvHeHaoYHd",
        "QBhH26kHoYHd",
        "x_RbRXWDoYHd",
        "URjhJfu7oYHe",
        "X_GUHUQJoYHe",
        "kHK-8UqfoYHe",
        "TT4DME4WoYHe",
        "EFXx8ELwoYHf",
        "SyxfJrZloYHf",
        "SF6WSvBfoYHf",
        "kCFBrAX_oYHo"
      ]
    },
    "accelerator": "GPU",
    "gpuClass": "standard"
  },
  "nbformat": 4,
  "nbformat_minor": 0
}