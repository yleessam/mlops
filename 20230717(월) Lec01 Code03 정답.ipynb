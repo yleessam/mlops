{
  "nbformat": 4,
  "nbformat_minor": 0,
  "metadata": {
    "kernelspec": {
      "display_name": "Python 3",
      "language": "python",
      "name": "python3"
    },
    "language_info": {
      "codemirror_mode": {
        "name": "ipython",
        "version": 3
      },
      "file_extension": ".py",
      "mimetype": "text/x-python",
      "name": "python",
      "nbconvert_exporter": "python",
      "pygments_lexer": "ipython3",
      "version": "3.8.5"
    },
    "colab": {
      "provenance": []
    }
  },
  "cells": [
    {
      "cell_type": "markdown",
      "metadata": {
        "id": "Gc8P_ZQnCgVn"
      },
      "source": [
        "## 연습문제\n",
        "\n",
        "밑에 출력된 값이 나와야합니다!\n"
      ]
    },
    {
      "cell_type": "markdown",
      "metadata": {
        "id": "z0HCU3OzCgVo"
      },
      "source": [
        "### 파이썬 기초 문법 연습\n",
        "\n"
      ]
    },
    {
      "cell_type": "markdown",
      "metadata": {
        "id": "bS6sJ7L4CgVo"
      },
      "source": [
        "**다음을 파이썬 코드로 작성하세요.**\n",
        "\n",
        "\n",
        "1. 10 더하기 3\n",
        "2. 21 곱하기 3\n",
        "3. 357을 4로 나눈 값의 몫과 나머지\n",
        "4. 35의 3제곱\n"
      ]
    },
    {
      "cell_type": "code",
      "metadata": {
        "id": "oWHIt0EECgVp",
        "outputId": "7d937e20-18d4-41ca-8531-99aa366c2d20",
        "colab": {
          "base_uri": "https://localhost:8080/"
        }
      },
      "source": [
        "10+3"
      ],
      "execution_count": null,
      "outputs": [
        {
          "output_type": "execute_result",
          "data": {
            "text/plain": [
              "13"
            ]
          },
          "metadata": {},
          "execution_count": 1
        }
      ]
    },
    {
      "cell_type": "code",
      "metadata": {
        "id": "lrQT5qz1CgVp",
        "outputId": "c7115810-f338-4f67-d6bf-c7f7556f1561",
        "colab": {
          "base_uri": "https://localhost:8080/"
        }
      },
      "source": [
        "21*3"
      ],
      "execution_count": null,
      "outputs": [
        {
          "output_type": "execute_result",
          "data": {
            "text/plain": [
              "63"
            ]
          },
          "metadata": {},
          "execution_count": 2
        }
      ]
    },
    {
      "cell_type": "code",
      "metadata": {
        "id": "xaBomG67CgVq",
        "outputId": "bf684744-9521-4137-d8f1-63dbacb2c5df",
        "colab": {
          "base_uri": "https://localhost:8080/"
        }
      },
      "source": [
        "357//4"
      ],
      "execution_count": null,
      "outputs": [
        {
          "output_type": "execute_result",
          "data": {
            "text/plain": [
              "89"
            ]
          },
          "metadata": {},
          "execution_count": 5
        }
      ]
    },
    {
      "cell_type": "code",
      "metadata": {
        "id": "Ia0OuUaeCgVq",
        "outputId": "b602c135-6fd7-465e-dab6-6d601f9b1750",
        "colab": {
          "base_uri": "https://localhost:8080/"
        }
      },
      "source": [
        "357%4"
      ],
      "execution_count": null,
      "outputs": [
        {
          "output_type": "execute_result",
          "data": {
            "text/plain": [
              "1"
            ]
          },
          "metadata": {},
          "execution_count": 4
        }
      ]
    },
    {
      "cell_type": "code",
      "metadata": {
        "id": "THzQgqXjCgVq",
        "outputId": "cec57fb4-1da8-4f57-8158-d43689d9b4d4",
        "colab": {
          "base_uri": "https://localhost:8080/"
        }
      },
      "source": [
        "35**3"
      ],
      "execution_count": null,
      "outputs": [
        {
          "output_type": "execute_result",
          "data": {
            "text/plain": [
              "42875"
            ]
          },
          "metadata": {},
          "execution_count": 6
        }
      ]
    },
    {
      "cell_type": "markdown",
      "metadata": {
        "id": "kFXNqN7jCgVq"
      },
      "source": [
        "**다음을 파이썬 코드로 작성하세요.**\n",
        "\n",
        "1. 변수에 \"만나서 반갑습니다! 또 봅시다.\"를 저장하자.\n",
        "2. 저장한 변수를 느낌표를 기준으로 둘로 나누자.\n",
        "3. format을 이용해서 변수이름을 name으로 설정하고 자기 이름을 넣는 코드를 작성하자. 최종 출력: \"만나서 반갑습니다. 저는 name(변수) 입니다.\""
      ]
    },
    {
      "cell_type": "code",
      "metadata": {
        "id": "EtBA4aaUCgVq"
      },
      "source": [
        "a = '만나서 반갑습니다! 또 봅시다.'"
      ],
      "execution_count": null,
      "outputs": []
    },
    {
      "cell_type": "code",
      "metadata": {
        "id": "nCbJXM1eCgVq",
        "outputId": "ca177602-cfe0-46fe-b2e5-08d4bf0a03cf",
        "colab": {
          "base_uri": "https://localhost:8080/"
        }
      },
      "source": [
        "a.split('!')"
      ],
      "execution_count": null,
      "outputs": [
        {
          "output_type": "execute_result",
          "data": {
            "text/plain": [
              "['만나서 반갑습니다', ' 또 봅시다.']"
            ]
          },
          "metadata": {},
          "execution_count": 8
        }
      ]
    },
    {
      "cell_type": "code",
      "metadata": {
        "id": "Yn3WSgDLCgVq",
        "outputId": "95b3a0b1-fdd5-4d38-fe5f-451073b6b47a",
        "colab": {
          "base_uri": "https://localhost:8080/"
        }
      },
      "source": [
        "name = '이름'\n",
        "print('만나서 반갑습니다. 저는 {name} 입니다'.format(name=name))"
      ],
      "execution_count": null,
      "outputs": [
        {
          "output_type": "stream",
          "name": "stdout",
          "text": [
            "만나서 반갑습니다. 저는 이름 입니다\n"
          ]
        }
      ]
    },
    {
      "cell_type": "markdown",
      "metadata": {
        "id": "1hHPVpt_CgVr"
      },
      "source": [
        "** 다음을 파이썬 코드로 작성하자. **\n",
        "\n",
        "우리 교육회사 이메일은 다음과 같다.\n",
        "\n",
        "    아이디@python.ac.kr\n",
        "    \n",
        "이때 학생들의 이메일 전체를 받았을때 아이디만을 얻는 함수를 만들어보자.\n",
        "ex) input :  hieveryone@python.ac.kr output : hieveryone"
      ]
    },
    {
      "cell_type": "code",
      "metadata": {
        "id": "gpMVz80CCgVr"
      },
      "source": [
        "def IDextract(email):\n",
        "    return email.split('@')[0]"
      ],
      "execution_count": null,
      "outputs": []
    },
    {
      "cell_type": "code",
      "metadata": {
        "id": "QHlVYo4MCgVr",
        "outputId": "cbe39243-f1e3-4270-bb94-739442febdcd",
        "colab": {
          "base_uri": "https://localhost:8080/",
          "height": 35
        }
      },
      "source": [
        "IDextract('hi@domain.com')"
      ],
      "execution_count": null,
      "outputs": [
        {
          "output_type": "execute_result",
          "data": {
            "text/plain": [
              "'hi'"
            ],
            "application/vnd.google.colaboratory.intrinsic+json": {
              "type": "string"
            }
          },
          "metadata": {},
          "execution_count": 12
        }
      ]
    },
    {
      "cell_type": "markdown",
      "metadata": {
        "id": "NTbOMHevCgVr"
      },
      "source": [
        "** 다음을 파이썬 코드로 작성하자. **\n",
        "\n",
        "어떤 문장을 input으로 받았을때, 알파벳 대소문자 관계없이 a가 몇번 나오는지 계산하는 함수를 만들어보자.\n",
        "\n",
        "\n",
        "ex) input :  'An apple' output : 2"
      ]
    },
    {
      "cell_type": "code",
      "metadata": {
        "id": "w8ElvVNkCgVr"
      },
      "source": [
        "def countA(input):\n",
        "    return (input.lower()).count('a')\n"
      ],
      "execution_count": null,
      "outputs": []
    },
    {
      "cell_type": "code",
      "metadata": {
        "id": "-Hf9KEyKCgVr",
        "outputId": "28806b82-b74e-4534-ad61-8bc0136405c3",
        "colab": {
          "base_uri": "https://localhost:8080/"
        }
      },
      "source": [
        "countA('I bought a AAA battery in the apple store')"
      ],
      "execution_count": null,
      "outputs": [
        {
          "output_type": "execute_result",
          "data": {
            "text/plain": [
              "6"
            ]
          },
          "metadata": {},
          "execution_count": 18
        }
      ]
    },
    {
      "cell_type": "markdown",
      "metadata": {
        "id": "2jAaBwwTCgVr"
      },
      "source": [
        "### 마지막 문제!\n",
        "\n",
        "** 다음을 파이썬 코드로 작성하자. **\n",
        "\n",
        "당신은 신발을 사기 위해 백화점에 도착했다. 지금은 할인 기간이라서 당신이 원하는 사이즈가 없을 수 도 있다.\n",
        "\n",
        "하지만 할인이 30(%)이상이라면 당신이 원래 신던 사이즈보다 +-5까지도 불편함을 감수하고 신을 수 있다고 가정하자.\n",
        "\n",
        "이때 조건에 맞는 신발을 사는 함수를 만들어보자."
      ]
    },
    {
      "cell_type": "code",
      "metadata": {
        "id": "N72MoaoXCgVs"
      },
      "source": [
        "# 신발사이즈 예시\n",
        "shoes_list = [230, 245, 250, 260, 270, 290]\n",
        "def buying_shoes(shoes_size, discount_rate):\n",
        "    if discount_rate >= 0.3:\n",
        "        if shoes_size-5 in shoes_list or shoes_size in shoes_list or shoes_size+5 in shoes_list:\n",
        "            return 'buy'\n",
        "        else:\n",
        "            return 'cannot buy'\n",
        "    else:\n",
        "        if shoes_size in shoes_list:\n",
        "            return 'buy'\n",
        "        else:\n",
        "            return 'cannot buy'"
      ],
      "execution_count": null,
      "outputs": []
    },
    {
      "cell_type": "code",
      "metadata": {
        "id": "pP5nf_3fCgVs",
        "outputId": "76805d2c-459d-42fd-8aac-62e61fd17644",
        "colab": {
          "base_uri": "https://localhost:8080/"
        }
      },
      "source": [
        "buying_shoes(260, 0.2), buying_shoes(255, 0.3), buying_shoes(280, 0.3)"
      ],
      "execution_count": null,
      "outputs": [
        {
          "output_type": "execute_result",
          "data": {
            "text/plain": [
              "('buy', 'buy', 'cannot buy')"
            ]
          },
          "metadata": {},
          "execution_count": 2
        }
      ]
    }
  ]
}